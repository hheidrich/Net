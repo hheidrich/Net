{
 "cells": [
  {
   "cell_type": "code",
   "execution_count": 1,
   "metadata": {},
   "outputs": [],
   "source": [
    "import sys\n",
    "sys.path.insert(0, '../src/')\n",
    "\n",
    "import os\n",
    "import abc\n",
    "import pickle\n",
    "import warnings\n",
    "warnings.filterwarnings('ignore')\n",
    "\n",
    "import time\n",
    "\n",
    "#import tensorflow as tf\n",
    "import torch\n",
    "device = 'cpu'\n",
    "dtype = torch.float32\n",
    "\n",
    "import scipy.sparse as sp\n",
    "import numpy as np\n",
    "from matplotlib import pyplot as plt\n",
    "from scipy.sparse import save_npz, load_npz, csr_matrix\n",
    "from sklearn.metrics import roc_auc_score, average_precision_score\n",
    "import time\n",
    "import pandas as pd\n",
    "%matplotlib inline\n",
    "\n",
    "# from netgan.netgan import *\n",
    "# from netgan import utils\n",
    "\n",
    "from net.utils import *\n",
    "from net import utils_netgan as utils\n",
    "import net.net as net\n",
    "from net.sparse_graph_statistics import *"
   ]
  },
  {
   "cell_type": "code",
   "execution_count": 2,
   "metadata": {},
   "outputs": [],
   "source": [
    "class Evaluation(object):\n",
    "    def __init__(self, experiment_root, statistic_fns):\n",
    "        self.experiment_root = experiment_root\n",
    "        self.statistic_fns = statistic_fns\n",
    "        \n",
    "    def _load_timing(self, experiment):\n",
    "        return self._load(experiment, 'timing')\n",
    "    \n",
    "    def _load_overlap(self, experiment):\n",
    "        return self._load(experiment, 'overlap')\n",
    "    \n",
    "    def _load_ROC_AUC():\n",
    "        return self._load(experiment, 'ROC-AUC')\n",
    "    \n",
    "    def _load_avg_precision():\n",
    "        return self._load(experiment, 'avg_precision')\n",
    "    \n",
    "    def _load(self, experiment, name):\n",
    "        filename = os.path.join(self.experiment_root,\n",
    "                                f'Experiment_{experiment}/sampled_graphs/{name}.pickle')\n",
    "        with open(filename, 'rb') as handle:\n",
    "            timing = pickle.load(handle)\n",
    "        return timing\n",
    "    \n",
    "    def compute_statistics(self):\n",
    "        # parse experiment root folder\n",
    "        num_experiments = len(os.listdir(self.experiment_root))\n",
    "        # load overlaps and timings\n",
    "        overlaps = [self._load_overlap(i) for i in range(num_experiments)]\n",
    "        timings = [self._load_timing(i) for i in range(num_experiments)]\n",
    "        \n",
    "        steps = max(timings[0].keys())\n",
    "        step_len = int(np.log10(steps))+1\n",
    "        invoke_every = steps // len(timings[0].keys())\n",
    "        \n",
    "        statistics = {name: np.zeros([num_experiments, steps//invoke_every]) for name in self.statistic_fns.keys()}\n",
    "        statistics['Edge Overlap (%)'] = np.zeros([num_experiments, steps//invoke_every])\n",
    "        statistics['Time (s)'] = np.zeros([num_experiments, steps//invoke_every])\n",
    "        for step in range(invoke_every, steps, invoke_every):\n",
    "            for experiment in range(num_experiments):\n",
    "                # load sparse graph\n",
    "                graph_name = f'graph_{step:0{step_len}d}.npz'\n",
    "                graph_path = os.path.join(self.experiment_root,\n",
    "                                          f'Experiment_{experiment}/sampled_graphs/{graph_name}')\n",
    "                graph = load_npz(graph_path)\n",
    "                # compute statistics\n",
    "                statistics['Edge Overlap (%)'][experiment, step//invoke_every] = overlaps[experiment][step]\n",
    "                statistics['Time (s)'][experiment, step//invoke_every] = timings[experiment][step]\n",
    "                for name, statistic_fn in self.statistic_fns.items():\n",
    "                    #print(name)\n",
    "                    statistics[name][experiment, step//invoke_every] = statistic_fn(graph)\n",
    "                    \n",
    "        self.statistics = statistics\n",
    "        self.steps = steps\n",
    "        self.invoke_every = invoke_every\n",
    "        #self.statistics_mean = {name:stats.mean(axis=0) for name, stats in self.statistics.items()}\n",
    "        #self.statistics_std = {name:stats.std(axis=0) for name, stats in self.statistics.items()}\n",
    "    \n",
    "    def aggregate_statistics(self, num_bins, start=0, end=1):\n",
    "        # binning\n",
    "        overlaps = self.statistics['Edge Overlap (%)']\n",
    "        lin = np.linspace(start, end, num_bins+1)\n",
    "        statistics_mean = {name:np.zeros(num_bins) for name in self.statistics.keys()}\n",
    "        statistics_std = {name:np.zeros(num_bins) for name in self.statistics.keys()}\n",
    "        for idx, (start, end) in enumerate(zip(lin[:-1], lin[1:])):\n",
    "            args = np.argwhere(np.logical_and(start<overlaps, overlaps<=end))\n",
    "            for name, statistic in self.statistics.items():\n",
    "                statistics_mean[name][idx] = statistic[args[:,0], args[:,1]].mean()\n",
    "                statistics_std[name][idx] = statistic[args[:,0], args[:,1]].std()\n",
    "        \n",
    "        self.statistics_mean = statistics_mean\n",
    "        self.statistics_std = statistics_std\n",
    "                \n",
    "    def export_statistics(self):\n",
    "        pass\n",
    "    def plot_statistics(self):\n",
    "        pass"
   ]
  },
  {
   "cell_type": "code",
   "execution_count": null,
   "metadata": {},
   "outputs": [],
   "source": []
  },
  {
   "cell_type": "code",
   "execution_count": 3,
   "metadata": {},
   "outputs": [],
   "source": [
    "eval_ours = Evaluation(experiment_root='../logs/experiments_CORA-ML/',\n",
    "                       statistic_fns={'Assortativity':s_statistics_assortativity,\n",
    "                                      'Average Degree':s_statistics_average_degree,\n",
    "                                      'Claw Count':s_statistics_claw_count,\n",
    "                                      'Clustering Coefficient':s_statistics_clustering_coefficient,\n",
    "                                      #'Characteristic Path Length':s_statistics_compute_cpl,\n",
    "                                      'Edge Distribution Entropy':s_statistics_edge_distribution_entropy,\n",
    "                                      'Gini':s_statistics_gini,\n",
    "                                      'LCC Size':s_statistics_LCC,\n",
    "                                      'Max Degree':s_statistics_max_degree,\n",
    "                                      'Min Degree':s_statistics_min_degree,\n",
    "                                      'Num Connected Components':s_statistics_num_connected_components,\n",
    "                                      'Power Law α':s_statistics_power_law_alpha,\n",
    "                                      'Spectral Gap':s_statistics_spectral_gap,\n",
    "                                      'Square Count':s_statistics_square_count,\n",
    "                                      'Triangle Count':s_statistics_triangle_count,\n",
    "                                      'Wedge Count':s_statistics_wedge_count,\n",
    "                                     })"
   ]
  },
  {
   "cell_type": "code",
   "execution_count": 4,
   "metadata": {
    "scrolled": false
   },
   "outputs": [],
   "source": [
    "eval_ours.compute_statistics()"
   ]
  },
  {
   "cell_type": "code",
   "execution_count": 5,
   "metadata": {},
   "outputs": [
    {
     "data": {
      "text/plain": [
       "{'Assortativity': array([[ 0.        ,  0.00435352, -0.03473832, -0.09767079, -0.07726152,\n",
       "         -0.07090277, -0.07359809, -0.08652701, -0.08209418, -0.08260024,\n",
       "         -0.07985274, -0.08132368, -0.08078135, -0.08307026, -0.07795887,\n",
       "         -0.08074784, -0.08017273, -0.07771085, -0.07594585, -0.07846241],\n",
       "        [ 0.        , -0.0187318 ,  0.01892586, -0.08628063, -0.06648247,\n",
       "         -0.07293834, -0.0716047 , -0.07110334, -0.07507697, -0.07987052,\n",
       "         -0.08005604, -0.07926036, -0.08002776, -0.08131844, -0.08470377,\n",
       "         -0.07548903, -0.07578538, -0.0792658 , -0.07670507, -0.07579294]]),\n",
       " 'Average Degree': array([[0.        , 4.82775801, 4.82775801, 4.82775801, 4.82775801,\n",
       "         4.82775801, 4.82775801, 4.82775801, 4.82775801, 4.82775801,\n",
       "         4.82775801, 4.82775801, 4.82775801, 4.82775801, 4.82775801,\n",
       "         4.82775801, 4.82775801, 4.82775801, 4.82775801, 4.82775801],\n",
       "        [0.        , 4.82775801, 4.82775801, 4.82775801, 4.82775801,\n",
       "         4.82775801, 4.82775801, 4.82775801, 4.82775801, 4.82775801,\n",
       "         4.82775801, 4.82775801, 4.82775801, 4.82775801, 4.82775801,\n",
       "         4.82775801, 4.82775801, 4.82775801, 4.82775801, 4.82775801]]),\n",
       " 'Claw Count': array([[      0.,   46556.,   97647., 1240909.,  878373., 1862879.,\n",
       "         2292927., 1589311., 2374990., 2479292., 2432637., 2187794.,\n",
       "         2537121., 2292953., 2662804., 2762351., 2730177., 2826271.,\n",
       "         2753037., 2839173.],\n",
       "        [      0.,   47136.,   83400., 1562123., 1034686., 1786148.,\n",
       "         1485945., 2889372., 2382313., 2182058., 2330112., 2737290.,\n",
       "         2564959., 2363159., 2414595., 2962017., 2708555., 2975454.,\n",
       "         2857540., 2753802.]]),\n",
       " 'Clustering Coefficient': array([[0.        , 0.00064439, 0.00239639, 0.00195099, 0.00273916,\n",
       "         0.00209192, 0.0018919 , 0.00310323, 0.0023659 , 0.00231961,\n",
       "         0.00243193, 0.00297423, 0.00262029, 0.00300791, 0.00268251,\n",
       "         0.00273354, 0.00252181, 0.00254328, 0.00268503, 0.00263422],\n",
       "        [0.        , 0.00108198, 0.0031295 , 0.00170345, 0.00267038,\n",
       "         0.00219859, 0.00294762, 0.00185023, 0.00240648, 0.0027167 ,\n",
       "         0.00275137, 0.00246485, 0.00264332, 0.00293632, 0.00288868,\n",
       "         0.00258878, 0.00267707, 0.00246618, 0.00276847, 0.00285968]]),\n",
       " 'Edge Distribution Entropy': array([[0.        , 0.98966419, 0.97770774, 0.95193487, 0.95858952,\n",
       "         0.95045946, 0.94657772, 0.94524923, 0.94252698, 0.94227726,\n",
       "         0.94063547, 0.94057954, 0.93894008, 0.93929602, 0.93818531,\n",
       "         0.93774245, 0.9389066 , 0.9383243 , 0.93821516, 0.9374843 ],\n",
       "        [0.        , 0.98938349, 0.97890304, 0.95167471, 0.95762912,\n",
       "         0.95091311, 0.94785545, 0.94335514, 0.94190026, 0.94192155,\n",
       "         0.93959502, 0.93840498, 0.93855193, 0.93804546, 0.93869721,\n",
       "         0.93736857, 0.93854272, 0.93804689, 0.9375364 , 0.93796095]]),\n",
       " 'Gini': array([[0.        , 0.22326089, 0.32686447, 0.4443746 , 0.42160808,\n",
       "         0.44969426, 0.46582869, 0.47531877, 0.48135106, 0.4829608 ,\n",
       "         0.48868009, 0.48905087, 0.49582272, 0.49412184, 0.49643525,\n",
       "         0.49736808, 0.49285434, 0.49460741, 0.49558804, 0.49709594],\n",
       "        [0.        , 0.22769027, 0.32024168, 0.44509862, 0.4244283 ,\n",
       "         0.44847313, 0.46392415, 0.47721177, 0.48414043, 0.48546371,\n",
       "         0.49383738, 0.49613976, 0.49479251, 0.49773124, 0.49463228,\n",
       "         0.49734437, 0.49459104, 0.49394766, 0.49761173, 0.49594034]]),\n",
       " 'LCC Size': array([[   0., 2810., 2810., 2810., 2808., 2795., 2788., 2802., 2794.,\n",
       "         2785., 2783., 2782., 2770., 2778., 2773., 2787., 2790., 2787.,\n",
       "         2789., 2791.],\n",
       "        [   0., 2810., 2810., 2810., 2806., 2806., 2792., 2794., 2792.,\n",
       "         2785., 2770., 2798., 2802., 2787., 2792., 2773., 2764., 2795.,\n",
       "         2794., 2801.]]),\n",
       " 'Max Degree': array([[  0.,  15.,  31., 160., 155., 202., 221., 184., 218., 221., 219.,\n",
       "         206., 223., 210., 224., 226., 229., 231., 227., 228.],\n",
       "        [  0.,  14.,  19., 189., 165., 200., 181., 240., 218., 207., 214.,\n",
       "         227., 220., 206., 214., 234., 221., 233., 228., 226.]]),\n",
       " 'Min Degree': array([[0., 1., 1., 1., 1., 1., 1., 1., 1., 1., 1., 1., 1., 1., 1., 1.,\n",
       "         1., 1., 1., 1.],\n",
       "        [0., 1., 1., 1., 1., 1., 1., 1., 1., 1., 1., 1., 1., 1., 1., 1.,\n",
       "         1., 1., 1., 1.]]),\n",
       " 'Num Connected Components': array([[ 0.,  1.,  1.,  1.,  2.,  6., 11.,  4.,  7.,  8., 13.,  8., 12.,\n",
       "         10., 14.,  7.,  9.,  9.,  8.,  9.],\n",
       "        [ 0.,  1.,  1.,  1.,  3.,  3.,  8.,  8.,  8.,  9., 16.,  7.,  4.,\n",
       "         11.,  9., 10., 12.,  6.,  8.,  5.]]),\n",
       " 'Power Law α': array([[0.        , 1.67430484, 1.72186718, 1.81284701, 1.79401431,\n",
       "         1.82057193, 1.83782734, 1.84755195, 1.85472206, 1.85695592,\n",
       "         1.86381918, 1.86399515, 1.87322087, 1.87008122, 1.87302435,\n",
       "         1.87410334, 1.86815036, 1.87122919, 1.87126177, 1.87389047],\n",
       "        [0.        , 1.67513361, 1.71901142, 1.81434384, 1.79769077,\n",
       "         1.82059465, 1.83666473, 1.85085486, 1.85898115, 1.85972083,\n",
       "         1.87064673, 1.87282221, 1.87040181, 1.87528059, 1.87042134,\n",
       "         1.87406768, 1.87085676, 1.86982237, 1.87457634, 1.87199594]]),\n",
       " 'Spectral Gap': array([[0.        , 0.1814605 , 0.13669079, 0.10465771, 0.07013174,\n",
       "         0.05480729, 0.03391233, 0.0280918 , 0.02539322, 0.02297079,\n",
       "         0.02328171, 0.01736888, 0.01543862, 0.00479675, 0.01597365,\n",
       "         0.00823933, 0.00906733, 0.01626529, 0.01625414, 0.00624516],\n",
       "        [0.        , 0.17904504, 0.15291473, 0.10449593, 0.07785716,\n",
       "         0.04521254, 0.03466825, 0.02539864, 0.01876756, 0.01712871,\n",
       "         0.01358819, 0.01609652, 0.01291195, 0.00942416, 0.00606467,\n",
       "         0.01910103, 0.01835918, 0.00646339, 0.01216721, 0.00612101]]),\n",
       " 'Square Count': array([[    0.,    59.,   229.,  4157.,  3392.,  6207.,  7054.,  8598.,\n",
       "         10271., 10305., 10872., 12114., 12914., 13415., 14120., 14865.,\n",
       "         13234., 14226., 14653., 15350.],\n",
       "        [    0.,    57.,   275.,  4508.,  4148.,  6388.,  7420.,  9454.,\n",
       "         10702., 10821., 12454., 13386., 13781., 14715., 13683., 15679.,\n",
       "         15390., 14440., 16338., 15873.]]),\n",
       " 'Triangle Count': array([[   0.,   10.,   78.,  807.,  802., 1299., 1446., 1644., 1873.,\n",
       "         1917., 1972., 2169., 2216., 2299., 2381., 2517., 2295., 2396.,\n",
       "         2464., 2493.],\n",
       "        [   0.,   17.,   87.,  887.,  921., 1309., 1460., 1782., 1911.,\n",
       "         1976., 2137., 2249., 2260., 2313., 2325., 2556., 2417., 2446.,\n",
       "         2637., 2625.]]),\n",
       " 'Wedge Count': array([[     0.,  31270.,  39012.,  75779.,  64257.,  81838.,  88508.,\n",
       "          83956.,  93684.,  94396.,  96000.,  94457.,  98047.,  96509.,\n",
       "         100601., 102097., 100272., 101880., 101348., 103157.],\n",
       "        [     0.,  31428.,  37746.,  78247.,  66880.,  80656.,  80755.,\n",
       "          96183.,  94328.,  92656.,  95952., 100809.,  99679.,  98831.,\n",
       "          98513., 104141., 101164., 103901., 103157., 101908.]]),\n",
       " 'Edge Overlap (%)': array([[0.        , 0.00383311, 0.0984815 , 0.33554474, 0.43785935,\n",
       "         0.54577621, 0.61683621, 0.66755123, 0.71118974, 0.74214949,\n",
       "         0.76382132, 0.78888397, 0.80377414, 0.81836945, 0.82603568,\n",
       "         0.83782987, 0.85404688, 0.85994398, 0.86878962, 0.87453929],\n",
       "        [0.        , 0.00530739, 0.08712959, 0.34542238, 0.46144774,\n",
       "         0.55064131, 0.62686127, 0.67271119, 0.72077252, 0.75114256,\n",
       "         0.77001327, 0.79640277, 0.81158779, 0.81409406, 0.8369453 ,\n",
       "         0.84505381, 0.85286746, 0.8659885 , 0.87394958, 0.87969925]]),\n",
       " 'Time (s)': array([[ 0.        ,  2.88219547,  5.77191591,  8.67122793, 11.55827117,\n",
       "         14.36798763, 17.18894267, 20.03583026, 22.86395001, 25.69589043,\n",
       "         28.49020672, 31.28385186, 34.09897828, 36.90437508, 39.70815325,\n",
       "         42.52123237, 45.35031343, 48.18264437, 51.09562325, 53.98334503],\n",
       "        [ 0.        ,  2.8838408 ,  5.78501344,  8.69969201, 11.55391216,\n",
       "         14.39598751, 17.21862197, 20.0523653 , 22.88774323, 25.69766378,\n",
       "         28.56529522, 31.42638469, 34.24592161, 37.02636194, 39.82484317,\n",
       "         42.61970592, 45.43640566, 48.24897408, 51.09555626, 53.95557857]])}"
      ]
     },
     "execution_count": 5,
     "metadata": {},
     "output_type": "execute_result"
    }
   ],
   "source": [
    "eval_ours.statistics"
   ]
  },
  {
   "cell_type": "code",
   "execution_count": 19,
   "metadata": {},
   "outputs": [],
   "source": [
    "eval_ours.aggregate_statistics(num_bins=10)"
   ]
  },
  {
   "cell_type": "code",
   "execution_count": 8,
   "metadata": {},
   "outputs": [
    {
     "data": {
      "text/plain": [
       "{'Assortativity': array([-0.00754768,         nan,         nan, -0.09197571, -0.071872  ,\n",
       "        -0.07192055, -0.07570828, -0.08001684, -0.07899615,         nan]),\n",
       " 'Average Degree': array([4.82775801,        nan,        nan, 4.82775801, 4.82775801,\n",
       "        4.82775801, 4.82775801, 4.82775801, 4.82775801,        nan]),\n",
       " 'Claw Count': array([  68684.75,        nan,        nan, 1401516.  ,  956529.5 ,\n",
       "        1824513.5 , 2064388.75, 2388310.75, 2687748.  ,        nan]),\n",
       " 'Clustering Coefficient': array([0.00181306,        nan,        nan, 0.00182722, 0.00270477,\n",
       "        0.00214525, 0.00244825, 0.00255388, 0.00270357,        nan]),\n",
       " 'Edge Distribution Entropy': array([0.98391462,        nan,        nan, 0.95180479, 0.95810932,\n",
       "        0.95068629, 0.94575939, 0.94098013, 0.93824027,        nan]),\n",
       " 'Gini': array([0.27451433,        nan,        nan, 0.44473661, 0.42301819,\n",
       "        0.44908369, 0.47057084, 0.48770301, 0.4956553 ,        nan]),\n",
       " 'LCC Size': array([2810.    ,       nan,       nan, 2810.    , 2807.    , 2800.5   ,\n",
       "        2794.    , 2786.125 , 2785.8125,       nan]),\n",
       " 'Max Degree': array([ 19.75,    nan,    nan, 174.5 , 160.  , 201.  , 206.5 , 216.25,\n",
       "        223.75,    nan]),\n",
       " 'Min Degree': array([ 1., nan, nan,  1.,  1.,  1.,  1.,  1.,  1., nan]),\n",
       " 'Num Connected Components': array([1.    ,    nan,    nan, 1.    , 2.5   , 4.5   , 7.75  , 9.5   ,\n",
       "        8.9375,    nan]),\n",
       " 'Power Law α': array([1.69757926,        nan,        nan, 1.81359543, 1.79585254,\n",
       "        1.82058329, 1.84322472, 1.8627079 , 1.87202402,        nan]),\n",
       " 'Spectral Gap': array([0.16252777,        nan,        nan, 0.10457682, 0.07399445,\n",
       "        0.05000992, 0.03051775, 0.01932445, 0.0114308 ,        nan]),\n",
       " 'Square Count': array([  155.   ,       nan,       nan,  4332.5  ,  3770.   ,  6297.5  ,\n",
       "         8131.5  , 11365.625, 14542.25 ,       nan]),\n",
       " 'Triangle Count': array([  48. ,    nan,    nan,  847. ,  861.5, 1304. , 1583. , 2025.5,\n",
       "        2415. ,    nan]),\n",
       " 'Wedge Count': array([ 34864.    ,         nan,         nan,  77013.    ,  65568.5   ,\n",
       "         81247.    ,  87350.5   ,  95285.25  , 100950.3125,         nan]),\n",
       " 'Edge Overlap (%)': array([0.0486879 ,        nan,        nan, 0.34048356, 0.44965355,\n",
       "        0.54820876, 0.64598997, 0.75554696, 0.84521967,        nan]),\n",
       " 'Time (s)': array([ 4.33074141,         nan,         nan,  8.68545997, 11.55609167,\n",
       "        14.38198757, 18.62394005, 27.11387324, 44.01862577,         nan])}"
      ]
     },
     "execution_count": 8,
     "metadata": {},
     "output_type": "execute_result"
    }
   ],
   "source": [
    "eval_ours.statistics_mean"
   ]
  },
  {
   "cell_type": "code",
   "execution_count": 23,
   "metadata": {},
   "outputs": [],
   "source": [
    "def tabular_from_statistics(EO_criterion, statistics):\n",
    "    tabular_mean = {}\n",
    "    tabular_std = {}\n",
    "    for model_name, (statistics_mean, statistics_std) in statistics.items():\n",
    "        tabular_mean[model_name] = {}\n",
    "        tabular_std[model_name] = {}\n",
    "        # find matching EO\n",
    "        overlap = statistics_mean['Edge Overlap (%)']\n",
    "        arg = np.argwhere(overlap>EO_criterion).min()\n",
    "        for statistic_name in statistics_mean.keys():\n",
    "            tabular_mean[model_name][statistic_name] = statistics_mean[statistic_name][arg]\n",
    "            tabular_std[model_name][statistic_name] = statistics_std[statistic_name][arg]\n",
    "    return (tabular_mean, tabular_std)"
   ]
  },
  {
   "cell_type": "code",
   "execution_count": 24,
   "metadata": {},
   "outputs": [
    {
     "data": {
      "text/plain": [
       "({'ours': {'Assortativity': -0.07192055463410299,\n",
       "   'Average Degree': 4.8277580071174375,\n",
       "   'Claw Count': 1824513.5,\n",
       "   'Clustering Coefficient': 0.002145254657692784,\n",
       "   'Edge Distribution Entropy': 0.9506862873668398,\n",
       "   'Gini': 0.44908369416318694,\n",
       "   'LCC Size': 2800.5,\n",
       "   'Max Degree': 201.0,\n",
       "   'Min Degree': 1.0,\n",
       "   'Num Connected Components': 4.5,\n",
       "   'Power Law α': 1.820583287869216,\n",
       "   'Spectral Gap': 0.050009915028284585,\n",
       "   'Square Count': 6297.5,\n",
       "   'Triangle Count': 1304.0,\n",
       "   'Wedge Count': 81247.0,\n",
       "   'Edge Overlap (%)': 0.5482087571870853,\n",
       "   'Time (s)': 14.381987571716309}},\n",
       " {'ours': {'Assortativity': 0.0010177807011411064,\n",
       "   'Average Degree': 0.0,\n",
       "   'Claw Count': 38365.5,\n",
       "   'Clustering Coefficient': 5.333134973773139e-05,\n",
       "   'Edge Distribution Entropy': 0.00022682679880031698,\n",
       "   'Gini': 0.0006105645105017876,\n",
       "   'LCC Size': 5.5,\n",
       "   'Max Degree': 1.0,\n",
       "   'Min Degree': 0.0,\n",
       "   'Num Connected Components': 1.5,\n",
       "   'Power Law α': 1.1357265897848912e-05,\n",
       "   'Spectral Gap': 0.004797373500408177,\n",
       "   'Square Count': 90.5,\n",
       "   'Triangle Count': 5.0,\n",
       "   'Wedge Count': 591.0,\n",
       "   'Edge Overlap (%)': 0.0024325519681556718,\n",
       "   'Time (s)': 0.01399993896484375}})"
      ]
     },
     "execution_count": 24,
     "metadata": {},
     "output_type": "execute_result"
    }
   ],
   "source": [
    "tabular_from_statistics(EO_criterion=0.5,\n",
    "                        statistics={'ours': (eval_ours.statistics_mean, eval_ours.statistics_std)})"
   ]
  },
  {
   "cell_type": "code",
   "execution_count": null,
   "metadata": {},
   "outputs": [],
   "source": []
  },
  {
   "cell_type": "code",
   "execution_count": 12,
   "metadata": {},
   "outputs": [],
   "source": [
    "a = np.arange(10)[::-1]"
   ]
  },
  {
   "cell_type": "code",
   "execution_count": 14,
   "metadata": {},
   "outputs": [],
   "source": [
    "a.sort()"
   ]
  },
  {
   "cell_type": "code",
   "execution_count": 15,
   "metadata": {},
   "outputs": [
    {
     "data": {
      "text/plain": [
       "array([0, 1, 2, 3, 4, 5, 6, 7, 8, 9])"
      ]
     },
     "execution_count": 15,
     "metadata": {},
     "output_type": "execute_result"
    }
   ],
   "source": [
    "a"
   ]
  },
  {
   "cell_type": "code",
   "execution_count": 38,
   "metadata": {},
   "outputs": [
    {
     "name": "stdout",
     "output_type": "stream",
     "text": [
      "%\n"
     ]
    }
   ],
   "source": [
    "print('%')"
   ]
  },
  {
   "cell_type": "code",
   "execution_count": 25,
   "metadata": {},
   "outputs": [
    {
     "name": "stdout",
     "output_type": "stream",
     "text": [
      "Help on function load_npz in module scipy.sparse._matrix_io:\n",
      "\n",
      "load_npz(file)\n",
      "    Load a sparse matrix from a file using ``.npz`` format.\n",
      "    \n",
      "    Parameters\n",
      "    ----------\n",
      "    file : str or file-like object\n",
      "        Either the file name (string) or an open file (file-like object)\n",
      "        where the data will be loaded.\n",
      "    \n",
      "    Returns\n",
      "    -------\n",
      "    result : csc_matrix, csr_matrix, bsr_matrix, dia_matrix or coo_matrix\n",
      "        A sparse matrix containing the loaded data.\n",
      "    \n",
      "    Raises\n",
      "    ------\n",
      "    IOError\n",
      "        If the input file does not exist or cannot be read.\n",
      "    \n",
      "    See Also\n",
      "    --------\n",
      "    scipy.sparse.save_npz: Save a sparse matrix to a file using ``.npz`` format.\n",
      "    numpy.load: Load several arrays from a ``.npz`` archive.\n",
      "    \n",
      "    Examples\n",
      "    --------\n",
      "    Store sparse matrix to disk, and load it again:\n",
      "    \n",
      "    >>> import scipy.sparse\n",
      "    >>> sparse_matrix = scipy.sparse.csc_matrix(np.array([[0, 0, 3], [4, 0, 0]]))\n",
      "    >>> sparse_matrix\n",
      "    <2x3 sparse matrix of type '<class 'numpy.int64'>'\n",
      "       with 2 stored elements in Compressed Sparse Column format>\n",
      "    >>> sparse_matrix.todense()\n",
      "    matrix([[0, 0, 3],\n",
      "            [4, 0, 0]], dtype=int64)\n",
      "    \n",
      "    >>> scipy.sparse.save_npz('/tmp/sparse_matrix.npz', sparse_matrix)\n",
      "    >>> sparse_matrix = scipy.sparse.load_npz('/tmp/sparse_matrix.npz')\n",
      "    \n",
      "    >>> sparse_matrix\n",
      "    <2x3 sparse matrix of type '<class 'numpy.int64'>'\n",
      "        with 2 stored elements in Compressed Sparse Column format>\n",
      "    >>> sparse_matrix.todense()\n",
      "    matrix([[0, 0, 3],\n",
      "            [4, 0, 0]], dtype=int64)\n",
      "\n"
     ]
    }
   ],
   "source": [
    "help(load_npz)"
   ]
  },
  {
   "cell_type": "code",
   "execution_count": 19,
   "metadata": {},
   "outputs": [],
   "source": [
    "dct = {1:'a', 2:'b', 5:'e'}"
   ]
  },
  {
   "cell_type": "code",
   "execution_count": 21,
   "metadata": {},
   "outputs": [
    {
     "data": {
      "text/plain": [
       "5"
      ]
     },
     "execution_count": 21,
     "metadata": {},
     "output_type": "execute_result"
    }
   ],
   "source": [
    "max(dct.keys())"
   ]
  },
  {
   "cell_type": "code",
   "execution_count": 45,
   "metadata": {},
   "outputs": [
    {
     "data": {
      "text/plain": [
       "array([[ True,  True,  True],\n",
       "       [ True,  True,  True],\n",
       "       [ True,  True,  True]])"
      ]
     },
     "execution_count": 45,
     "metadata": {},
     "output_type": "execute_result"
    }
   ],
   "source": [
    "np.ones([3,3]) > 0#np.zeros([3]) "
   ]
  },
  {
   "cell_type": "code",
   "execution_count": 5,
   "metadata": {},
   "outputs": [
    {
     "data": {
      "text/plain": [
       "array([[False, False, False],\n",
       "       [False, False, False],\n",
       "       [False, False, False]])"
      ]
     },
     "execution_count": 5,
     "metadata": {},
     "output_type": "execute_result"
    }
   ],
   "source": [
    "a = np.zeros([3,3])\n",
    "0<a"
   ]
  },
  {
   "cell_type": "code",
   "execution_count": 6,
   "metadata": {},
   "outputs": [
    {
     "data": {
      "text/plain": [
       "array([[ True,  True,  True],\n",
       "       [ True,  True,  True],\n",
       "       [ True,  True,  True]])"
      ]
     },
     "execution_count": 6,
     "metadata": {},
     "output_type": "execute_result"
    }
   ],
   "source": [
    "a<=1"
   ]
  },
  {
   "cell_type": "code",
   "execution_count": 7,
   "metadata": {},
   "outputs": [
    {
     "data": {
      "text/plain": [
       "array([[False, False, False],\n",
       "       [False, False, False],\n",
       "       [False, False, False]])"
      ]
     },
     "execution_count": 7,
     "metadata": {},
     "output_type": "execute_result"
    }
   ],
   "source": [
    "np.logical_and(0<a, a<=1)"
   ]
  },
  {
   "cell_type": "code",
   "execution_count": 8,
   "metadata": {},
   "outputs": [
    {
     "data": {
      "text/plain": [
       "array([], dtype=float64)"
      ]
     },
     "execution_count": 8,
     "metadata": {},
     "output_type": "execute_result"
    }
   ],
   "source": [
    "a[np.argwhere(np.logical_and(0<a, a<=1))[:,0],np.argwhere(np.logical_and(0<a, a<=1))[:,1]]"
   ]
  },
  {
   "cell_type": "code",
   "execution_count": 32,
   "metadata": {},
   "outputs": [
    {
     "data": {
      "text/plain": [
       "['graph_090.npz',\n",
       " 'graph_080.npz',\n",
       " 'graph_100.npz',\n",
       " 'overlap.pickle',\n",
       " 'graph_060.npz',\n",
       " 'graph_015.npz',\n",
       " 'graph_075.npz',\n",
       " 'graph_005.npz',\n",
       " 'graph_020.npz',\n",
       " 'graph_070.npz',\n",
       " 'graph_065.npz',\n",
       " 'graph_010.npz',\n",
       " 'graph_040.npz',\n",
       " 'graph_095.npz',\n",
       " 'graph_050.npz',\n",
       " 'graph_035.npz',\n",
       " 'timing.pickle',\n",
       " 'graph_025.npz',\n",
       " 'graph_085.npz',\n",
       " 'graph_055.npz',\n",
       " 'graph_045.npz',\n",
       " 'graph_030.npz']"
      ]
     },
     "execution_count": 32,
     "metadata": {},
     "output_type": "execute_result"
    }
   ],
   "source": [
    "os.listdir('../logs/experiments_CORA-ML/Experiment_0/sampled_graphs/')"
   ]
  },
  {
   "cell_type": "code",
   "execution_count": 2,
   "metadata": {},
   "outputs": [],
   "source": [
    "def timing(f):\n",
    "    def g(*args, **kwargs):\n",
    "        start = time.time()\n",
    "        y = f(*args, **kwargs)\n",
    "        g.last_time = time.time() - start\n",
    "        return y\n",
    "    return g"
   ]
  },
  {
   "cell_type": "code",
   "execution_count": 5,
   "metadata": {},
   "outputs": [],
   "source": [
    "@timing\n",
    "def loop(iters):\n",
    "    x = 0\n",
    "    for i in range(iters):\n",
    "        x += i\n",
    "    return x"
   ]
  },
  {
   "cell_type": "code",
   "execution_count": 9,
   "metadata": {},
   "outputs": [
    {
     "data": {
      "text/plain": [
       "1.3828277587890625e-05"
      ]
     },
     "execution_count": 9,
     "metadata": {},
     "output_type": "execute_result"
    }
   ],
   "source": [
    "loop(100)\n",
    "loop.last_time"
   ]
  },
  {
   "cell_type": "code",
   "execution_count": 12,
   "metadata": {},
   "outputs": [],
   "source": [
    "def f(*args, **kwargs):\n",
    "    y = 0\n",
    "    for x in args:\n",
    "        y += x\n",
    "    return y"
   ]
  },
  {
   "cell_type": "code",
   "execution_count": 16,
   "metadata": {},
   "outputs": [
    {
     "data": {
      "text/plain": [
       "21"
      ]
     },
     "execution_count": 16,
     "metadata": {},
     "output_type": "execute_result"
    }
   ],
   "source": [
    "lst = [1,2,3,4,5,6]\n",
    "f(*lst)"
   ]
  },
  {
   "cell_type": "code",
   "execution_count": null,
   "metadata": {},
   "outputs": [],
   "source": [
    "f(lst[0], lst[1])"
   ]
  }
 ],
 "metadata": {
  "kernelspec": {
   "display_name": "Python [conda env:netgan]",
   "language": "python",
   "name": "conda-env-netgan-py"
  },
  "language_info": {
   "codemirror_mode": {
    "name": "ipython",
    "version": 3
   },
   "file_extension": ".py",
   "mimetype": "text/x-python",
   "name": "python",
   "nbconvert_exporter": "python",
   "pygments_lexer": "ipython3",
   "version": "3.6.9"
  }
 },
 "nbformat": 4,
 "nbformat_minor": 2
}
