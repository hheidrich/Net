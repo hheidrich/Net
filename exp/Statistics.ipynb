{
 "cells": [
  {
   "cell_type": "code",
   "execution_count": 1,
   "metadata": {},
   "outputs": [],
   "source": [
    "import sys\n",
    "sys.path.insert(0, '../src/')\n",
    "\n",
    "import os\n",
    "import pickle\n",
    "import warnings\n",
    "warnings.filterwarnings('ignore')\n",
    "\n",
    "import numpy as np\n",
    "import scipy.sparse as sp\n",
    "from scipy.sparse import save_npz, load_npz, csr_matrix\n",
    "\n",
    "from matplotlib import pyplot as plt\n",
    "%matplotlib inline\n",
    "\n",
    "import pandas as pd\n",
    "\n",
    "import utils\n",
    "import graph_statistics"
   ]
  },
  {
   "cell_type": "markdown",
   "metadata": {},
   "source": [
    "# Statistics"
   ]
  },
  {
   "cell_type": "code",
   "execution_count": 2,
   "metadata": {},
   "outputs": [],
   "source": [
    "class Evaluation(object):\n",
    "    \n",
    "    def __init__(self, experiment_root, statistic_fns):\n",
    "        self.experiment_root = experiment_root\n",
    "        self.statistic_fns = statistic_fns    \n",
    "    \n",
    "    def _load_timings(self):\n",
    "        return self._load('timing')\n",
    "    \n",
    "    def _load_overlaps(self):\n",
    "        return self._load('overlap')\n",
    "    \n",
    "    def _load_roc_aucs(self):\n",
    "        return self._load('ROC-AUC')\n",
    "    \n",
    "    def _load_avg_precs(self):\n",
    "        return self._load('avg_prec')\n",
    "    \n",
    "    def _load(self, name):\n",
    "        \n",
    "        def get_filename(idx):\n",
    "            filename = os.path.join(self.experiment_root,\n",
    "                                    f'Experiment_{idx:0{self.str_exp_len}d}',\n",
    "                                    'sampled_graphs',\n",
    "                                    f'{name}.pickle')\n",
    "            return filename\n",
    "        \n",
    "        dicts = [utils.load_dict(get_filename(idx)) for idx in range(self.num_experiments)]\n",
    "        return dicts\n",
    "    \n",
    "    def compute_statistics(self):\n",
    "        # parse experiment root folder\n",
    "        experiment_keys = [key for key in os.listdir(self.experiment_root) if key[:11]=='Experiment_']\n",
    "        self.num_experiments = len(experiment_keys)\n",
    "        self.str_exp_len = len(str(self.num_experiments))\n",
    "        \n",
    "        # load overlaps and timings\n",
    "        overlaps = self._load_overlaps()\n",
    "        roc_aucs = self._load_roc_aucs()\n",
    "        avg_precs = self._load_avg_precs()\n",
    "        timings = self._load_timings()\n",
    "        \n",
    "        steps = max(timings[0].keys())\n",
    "        step_len = len(str(steps))\n",
    "        step_idxs = len(timings[0].keys())\n",
    "        invoke_every = steps // step_idxs\n",
    "        \n",
    "        statistics = {name: np.zeros([self.num_experiments,\n",
    "                                      step_idxs]) for name in self.statistic_fns.keys()}\n",
    "        statistics['Edge Overlap (%)'] = np.zeros([self.num_experiments, step_idxs])\n",
    "        statistics['ROC-AUC Score'] = np.zeros([self.num_experiments, step_idxs])\n",
    "        statistics['Average Precision'] = np.zeros([self.num_experiments, step_idxs])\n",
    "        statistics['Time (s)'] = np.zeros([self.num_experiments, step_idxs])\n",
    "                    \n",
    "        for step_idx, step in enumerate(range(invoke_every, steps+invoke_every, invoke_every)):\n",
    "            for experiment in range(self.num_experiments):\n",
    "                # load sparse graph\n",
    "                graph_name = f'graph_{step:0{step_len}d}.npz'\n",
    "                graph_path = os.path.join(self.experiment_root,\n",
    "                                          f'Experiment_{experiment:0{self.str_exp_len}d}',\n",
    "                                          'sampled_graphs',\n",
    "                                          graph_name)\n",
    "                graph = load_npz(graph_path)\n",
    "                # compute statistics\n",
    "                statistics['Edge Overlap (%)'][experiment, step_idx] = overlaps[experiment][step]\n",
    "                statistics['ROC-AUC Score'][experiment, step_idx] = roc_aucs[experiment][step]\n",
    "                statistics['Average Precision'][experiment, step_idx] = avg_precs[experiment][step]\n",
    "                statistics['Time (s)'][experiment, step_idx] = timings[experiment][step]\n",
    "                for name, statistic_fn in self.statistic_fns.items():\n",
    "                    statistics[name][experiment, step_idx] = statistic_fn(graph)\n",
    "\n",
    "                    \n",
    "        self.statistics = statistics\n",
    "        self.steps = steps\n",
    "        self.invoke_every = invoke_every\n",
    "\n",
    "    def aggregate_statistics(self, num_bins, start=0, end=1):\n",
    "        # binning\n",
    "        overlaps = self.statistics['Edge Overlap (%)']\n",
    "        lin = np.linspace(start, end, num_bins+1)\n",
    "        statistics_binned = {name:[] for name in self.statistics.keys()}\n",
    "        statistics_mean = {name:np.zeros(num_bins) for name in self.statistics.keys()}\n",
    "        statistics_std = {name:np.zeros(num_bins) for name in self.statistics.keys()}\n",
    "        for idx, (start, end) in enumerate(zip(lin[:-1], lin[1:])):\n",
    "            args = np.argwhere(np.logical_and(start<overlaps, overlaps<=end))\n",
    "            for name, statistic in self.statistics.items():\n",
    "                statistics_binned[name].append(statistic[args[:,0], args[:,1]])\n",
    "                statistics_mean[name][idx] = statistic[args[:,0], args[:,1]].mean()\n",
    "                statistics_std[name][idx] = statistic[args[:,0], args[:,1]].std()\n",
    "        \n",
    "        self.statistics_binned = statistics_binned\n",
    "        self.statistics_mean = statistics_mean\n",
    "        self.statistics_std = statistics_std\n",
    "        self.mean_std = (statistics_mean, statistics_std)\n",
    "                \n",
    "    def export_statistics(self):\n",
    "        pass\n",
    "    \n",
    "    def plot_statistics(self):\n",
    "        pass"
   ]
  },
  {
   "cell_type": "markdown",
   "metadata": {},
   "source": [
    "## Ours"
   ]
  },
  {
   "cell_type": "code",
   "execution_count": 21,
   "metadata": {},
   "outputs": [],
   "source": [
    "statistic_fns = {#'Assortativity':graph_statistics.assortativity,\n",
    "                 #'Average Degree':graph_statistics.average_degree,\n",
    "                 'Claw Count':graph_statistics.claw_count,\n",
    "                 #'Clustering Coefficient':graph_statistics.clustering_coefficient,\n",
    "                 #'Characteristic Path Length':graph_statistics.compute_cpl,\n",
    "                 #'Edge Distribution Entropy':graph_statistics.edge_distribution_entropy,\n",
    "                 #'Gini':graph_statistics.gini,\n",
    "                 #'LCC Size':graph_statistics.LCC,\n",
    "                 #'Max Degree':graph_statistics.max_degree,\n",
    "                 #'Min Degree':graph_statistics.min_degree,\n",
    "                 #'Num Connected Components':graph_statistics.num_connected_components,\n",
    "                 #'Power Law α':graph_statistics.power_law_alpha,\n",
    "                 #'Spectral Gap':graph_statistics.spectral_gap,\n",
    "                 'Square Count':graph_statistics.square_count,\n",
    "                 #'Triangle Count':graph_statistics.triangle_count,\n",
    "                 'Wedge Count':graph_statistics.wedge_count,\n",
    "                 }\n",
    "\n",
    "eval_ours = Evaluation(experiment_root='../logs/CORA-ML/Ours/',\n",
    "                       statistic_fns=statistic_fns)"
   ]
  },
  {
   "cell_type": "code",
   "execution_count": 22,
   "metadata": {
    "scrolled": false
   },
   "outputs": [],
   "source": [
    "eval_ours.compute_statistics()"
   ]
  },
  {
   "cell_type": "code",
   "execution_count": 23,
   "metadata": {},
   "outputs": [],
   "source": [
    "eval_ours.aggregate_statistics(num_bins=10)"
   ]
  },
  {
   "cell_type": "code",
   "execution_count": 24,
   "metadata": {
    "scrolled": true
   },
   "outputs": [
    {
     "data": {
      "text/plain": [
       "array([0.0048651 , 0.08978328, 0.36001769, 0.46572313, 0.55447442,\n",
       "       0.62243845, 0.67787115, 0.71738169, 0.74229692, 0.77944862,\n",
       "       0.79094796, 0.80790211, 0.82765738, 0.8428424 , 0.85389945,\n",
       "       0.85920684, 0.87100103, 0.88146838, 0.88633348, 0.88987174])"
      ]
     },
     "execution_count": 24,
     "metadata": {},
     "output_type": "execute_result"
    }
   ],
   "source": [
    "eval_ours.statistics['Edge Overlap (%)'][-1]"
   ]
  },
  {
   "cell_type": "markdown",
   "metadata": {},
   "source": [
    "## Forge Adjacency "
   ]
  },
  {
   "cell_type": "code",
   "execution_count": 7,
   "metadata": {},
   "outputs": [],
   "source": [
    "eval_fa = Evaluation(experiment_root='../logs/CORA-ML/baseline_FA/',\n",
    "                     statistic_fns={#'Assortativity':graph_statistics.assortativity,\n",
    "                                    #'Average Degree':graph_statistics.average_degree,\n",
    "                                    'Claw Count':graph_statistics.claw_count,\n",
    "                                    #'Clustering Coefficient':graph_statistics.clustering_coefficient,\n",
    "                                    #'Characteristic Path Length':graph_statistics.compute_cpl,\n",
    "                                    #'Edge Distribution Entropy':graph_statistics.edge_distribution_entropy,\n",
    "                                    #'Gini':graph_statistics.gini,\n",
    "                                    #'LCC Size':graph_statistics.LCC,\n",
    "                                    #'Max Degree':graph_statistics.max_degree,\n",
    "                                    #'Min Degree':graph_statistics.min_degree,\n",
    "                                    #'Num Connected Components':graph_statistics.num_connected_components,\n",
    "                                    #'Power Law α':graph_statistics.power_law_alpha,\n",
    "                                    #'Spectral Gap':graph_statistics.spectral_gap,\n",
    "                                    'Square Count':graph_statistics.square_count,\n",
    "                                    #'Triangle Count':graph_statistics.triangle_count,\n",
    "                                    'Wedge Count':graph_statistics.wedge_count,\n",
    "                                    })"
   ]
  },
  {
   "cell_type": "code",
   "execution_count": 8,
   "metadata": {},
   "outputs": [],
   "source": [
    "eval_fa.compute_statistics()"
   ]
  },
  {
   "cell_type": "code",
   "execution_count": 9,
   "metadata": {},
   "outputs": [],
   "source": [
    "eval_fa.aggregate_statistics(num_bins=10)"
   ]
  },
  {
   "cell_type": "code",
   "execution_count": 10,
   "metadata": {},
   "outputs": [
    {
     "data": {
      "text/plain": [
       "{'Claw Count': [array([], dtype=float64),\n",
       "  array([], dtype=float64),\n",
       "  array([], dtype=float64),\n",
       "  array([], dtype=float64),\n",
       "  array([], dtype=float64),\n",
       "  array([397830., 418238., 451536., 503754., 459385., 432744., 485779.,\n",
       "         417698., 497326., 512357., 487256., 676254., 453809., 552029.,\n",
       "         434527., 546974., 515068., 549012., 492104., 499961.]),\n",
       "  array([], dtype=float64),\n",
       "  array([], dtype=float64),\n",
       "  array([], dtype=float64),\n",
       "  array([], dtype=float64)],\n",
       " 'Square Count': [array([], dtype=float64),\n",
       "  array([], dtype=float64),\n",
       "  array([], dtype=float64),\n",
       "  array([], dtype=float64),\n",
       "  array([], dtype=float64),\n",
       "  array([1054., 1080., 1165., 1213., 1128., 1151., 1113.,  971., 1121.,\n",
       "         1175., 1179., 1219., 1113., 1245.,  971., 1041., 1235., 1180.,\n",
       "         1172., 1053.]),\n",
       "  array([], dtype=float64),\n",
       "  array([], dtype=float64),\n",
       "  array([], dtype=float64),\n",
       "  array([], dtype=float64)],\n",
       " 'Wedge Count': [array([], dtype=float64),\n",
       "  array([], dtype=float64),\n",
       "  array([], dtype=float64),\n",
       "  array([], dtype=float64),\n",
       "  array([], dtype=float64),\n",
       "  array([47046., 47144., 47899., 48877., 48528., 47275., 47848., 47612.,\n",
       "         48145., 48386., 48173., 51315., 47614., 48947., 47140., 48484.,\n",
       "         48985., 48839., 48188., 48470.]),\n",
       "  array([], dtype=float64),\n",
       "  array([], dtype=float64),\n",
       "  array([], dtype=float64),\n",
       "  array([], dtype=float64)],\n",
       " 'Edge Overlap (%)': [array([], dtype=float64),\n",
       "  array([], dtype=float64),\n",
       "  array([], dtype=float64),\n",
       "  array([], dtype=float64),\n",
       "  array([], dtype=float64),\n",
       "  array([0.52469409, 0.52410438, 0.52248268, 0.53029633, 0.52587351,\n",
       "         0.5210084 , 0.52307239, 0.51805986, 0.52174554, 0.52720035,\n",
       "         0.52970662, 0.5333923 , 0.52012384, 0.53221289, 0.52823235,\n",
       "         0.52174554, 0.52439923, 0.52720035, 0.52027127, 0.51570102]),\n",
       "  array([], dtype=float64),\n",
       "  array([], dtype=float64),\n",
       "  array([], dtype=float64),\n",
       "  array([], dtype=float64)],\n",
       " 'ROC-AUC Score': [array([], dtype=float64),\n",
       "  array([], dtype=float64),\n",
       "  array([], dtype=float64),\n",
       "  array([], dtype=float64),\n",
       "  array([], dtype=float64),\n",
       "  array([0.5645332, 0.5645332, 0.5645332, 0.5645332, 0.5645332, 0.5645332,\n",
       "         0.5645332, 0.5645332, 0.5645332, 0.5645332, 0.5645332, 0.5645332,\n",
       "         0.5645332, 0.5645332, 0.5645332, 0.5645332, 0.5645332, 0.5645332,\n",
       "         0.5645332, 0.5645332]),\n",
       "  array([], dtype=float64),\n",
       "  array([], dtype=float64),\n",
       "  array([], dtype=float64),\n",
       "  array([], dtype=float64)],\n",
       " 'Average Precision': [array([], dtype=float64),\n",
       "  array([], dtype=float64),\n",
       "  array([], dtype=float64),\n",
       "  array([], dtype=float64),\n",
       "  array([], dtype=float64),\n",
       "  array([0.65970984, 0.65970984, 0.65970984, 0.65970984, 0.65970984,\n",
       "         0.65970984, 0.65970984, 0.65970984, 0.65970984, 0.65970984,\n",
       "         0.65970984, 0.65970984, 0.65970984, 0.65970984, 0.65970984,\n",
       "         0.65970984, 0.65970984, 0.65970984, 0.65970984, 0.65970984]),\n",
       "  array([], dtype=float64),\n",
       "  array([], dtype=float64),\n",
       "  array([], dtype=float64),\n",
       "  array([], dtype=float64)],\n",
       " 'Time (s)': [array([], dtype=float64),\n",
       "  array([], dtype=float64),\n",
       "  array([], dtype=float64),\n",
       "  array([], dtype=float64),\n",
       "  array([], dtype=float64),\n",
       "  array([2.23982215, 2.22026086, 2.24143815, 2.25171351, 2.23086357,\n",
       "         2.27399564, 2.31502914, 2.25271249, 2.20792222, 2.24983239,\n",
       "         2.35415316, 2.27913928, 2.32064509, 2.3166368 , 2.28353667,\n",
       "         2.25722575, 2.33064318, 2.29476571, 2.53460717, 2.3801558 ]),\n",
       "  array([], dtype=float64),\n",
       "  array([], dtype=float64),\n",
       "  array([], dtype=float64),\n",
       "  array([], dtype=float64)]}"
      ]
     },
     "execution_count": 10,
     "metadata": {},
     "output_type": "execute_result"
    }
   ],
   "source": [
    "eval_fa.statistics_binned"
   ]
  },
  {
   "cell_type": "code",
   "execution_count": 11,
   "metadata": {},
   "outputs": [
    {
     "data": {
      "text/plain": [
       "({'Claw Count': array([      nan,       nan,       nan,       nan,       nan, 489182.05,\n",
       "               nan,       nan,       nan,       nan]),\n",
       "  'Square Count': array([    nan,     nan,     nan,     nan,     nan, 1128.95,     nan,\n",
       "             nan,     nan,     nan]),\n",
       "  'Wedge Count': array([     nan,      nan,      nan,      nan,      nan, 48245.75,\n",
       "              nan,      nan,      nan,      nan]),\n",
       "  'Edge Overlap (%)': array([       nan,        nan,        nan,        nan,        nan,\n",
       "         0.52457615,        nan,        nan,        nan,        nan]),\n",
       "  'ROC-AUC Score': array([      nan,       nan,       nan,       nan,       nan, 0.5645332,\n",
       "               nan,       nan,       nan,       nan]),\n",
       "  'Average Precision': array([       nan,        nan,        nan,        nan,        nan,\n",
       "         0.65970984,        nan,        nan,        nan,        nan]),\n",
       "  'Time (s)': array([       nan,        nan,        nan,        nan,        nan,\n",
       "         2.29175494,        nan,        nan,        nan,        nan])},\n",
       " {'Claw Count': array([           nan,            nan,            nan,            nan,\n",
       "                    nan, 61525.61292947,            nan,            nan,\n",
       "                    nan,            nan]),\n",
       "  'Square Count': array([        nan,         nan,         nan,         nan,         nan,\n",
       "         78.34058654,         nan,         nan,         nan,         nan]),\n",
       "  'Wedge Count': array([         nan,          nan,          nan,          nan,\n",
       "                  nan, 930.90288833,          nan,          nan,\n",
       "                  nan,          nan]),\n",
       "  'Edge Overlap (%)': array([       nan,        nan,        nan,        nan,        nan,\n",
       "         0.00457799,        nan,        nan,        nan,        nan]),\n",
       "  'ROC-AUC Score': array([           nan,            nan,            nan,            nan,\n",
       "                    nan, 1.11022302e-16,            nan,            nan,\n",
       "                    nan,            nan]),\n",
       "  'Average Precision': array([           nan,            nan,            nan,            nan,\n",
       "                    nan, 1.11022302e-16,            nan,            nan,\n",
       "                    nan,            nan]),\n",
       "  'Time (s)': array([       nan,        nan,        nan,        nan,        nan,\n",
       "         0.07137843,        nan,        nan,        nan,        nan])})"
      ]
     },
     "execution_count": 11,
     "metadata": {},
     "output_type": "execute_result"
    }
   ],
   "source": [
    "eval_fa.mean_std"
   ]
  },
  {
   "cell_type": "code",
   "execution_count": 12,
   "metadata": {
    "scrolled": true
   },
   "outputs": [
    {
     "data": {
      "text/plain": [
       "{'Claw Count': array([[397830.],\n",
       "        [418238.],\n",
       "        [451536.],\n",
       "        [503754.],\n",
       "        [459385.],\n",
       "        [432744.],\n",
       "        [485779.],\n",
       "        [417698.],\n",
       "        [497326.],\n",
       "        [512357.],\n",
       "        [487256.],\n",
       "        [676254.],\n",
       "        [453809.],\n",
       "        [552029.],\n",
       "        [434527.],\n",
       "        [546974.],\n",
       "        [515068.],\n",
       "        [549012.],\n",
       "        [492104.],\n",
       "        [499961.]]), 'Square Count': array([[1054.],\n",
       "        [1080.],\n",
       "        [1165.],\n",
       "        [1213.],\n",
       "        [1128.],\n",
       "        [1151.],\n",
       "        [1113.],\n",
       "        [ 971.],\n",
       "        [1121.],\n",
       "        [1175.],\n",
       "        [1179.],\n",
       "        [1219.],\n",
       "        [1113.],\n",
       "        [1245.],\n",
       "        [ 971.],\n",
       "        [1041.],\n",
       "        [1235.],\n",
       "        [1180.],\n",
       "        [1172.],\n",
       "        [1053.]]), 'Wedge Count': array([[47046.],\n",
       "        [47144.],\n",
       "        [47899.],\n",
       "        [48877.],\n",
       "        [48528.],\n",
       "        [47275.],\n",
       "        [47848.],\n",
       "        [47612.],\n",
       "        [48145.],\n",
       "        [48386.],\n",
       "        [48173.],\n",
       "        [51315.],\n",
       "        [47614.],\n",
       "        [48947.],\n",
       "        [47140.],\n",
       "        [48484.],\n",
       "        [48985.],\n",
       "        [48839.],\n",
       "        [48188.],\n",
       "        [48470.]]), 'Edge Overlap (%)': array([[0.52469409],\n",
       "        [0.52410438],\n",
       "        [0.52248268],\n",
       "        [0.53029633],\n",
       "        [0.52587351],\n",
       "        [0.5210084 ],\n",
       "        [0.52307239],\n",
       "        [0.51805986],\n",
       "        [0.52174554],\n",
       "        [0.52720035],\n",
       "        [0.52970662],\n",
       "        [0.5333923 ],\n",
       "        [0.52012384],\n",
       "        [0.53221289],\n",
       "        [0.52823235],\n",
       "        [0.52174554],\n",
       "        [0.52439923],\n",
       "        [0.52720035],\n",
       "        [0.52027127],\n",
       "        [0.51570102]]), 'ROC-AUC Score': array([[0.5645332],\n",
       "        [0.5645332],\n",
       "        [0.5645332],\n",
       "        [0.5645332],\n",
       "        [0.5645332],\n",
       "        [0.5645332],\n",
       "        [0.5645332],\n",
       "        [0.5645332],\n",
       "        [0.5645332],\n",
       "        [0.5645332],\n",
       "        [0.5645332],\n",
       "        [0.5645332],\n",
       "        [0.5645332],\n",
       "        [0.5645332],\n",
       "        [0.5645332],\n",
       "        [0.5645332],\n",
       "        [0.5645332],\n",
       "        [0.5645332],\n",
       "        [0.5645332],\n",
       "        [0.5645332]]), 'Average Precision': array([[0.65970984],\n",
       "        [0.65970984],\n",
       "        [0.65970984],\n",
       "        [0.65970984],\n",
       "        [0.65970984],\n",
       "        [0.65970984],\n",
       "        [0.65970984],\n",
       "        [0.65970984],\n",
       "        [0.65970984],\n",
       "        [0.65970984],\n",
       "        [0.65970984],\n",
       "        [0.65970984],\n",
       "        [0.65970984],\n",
       "        [0.65970984],\n",
       "        [0.65970984],\n",
       "        [0.65970984],\n",
       "        [0.65970984],\n",
       "        [0.65970984],\n",
       "        [0.65970984],\n",
       "        [0.65970984]]), 'Time (s)': array([[2.23982215],\n",
       "        [2.22026086],\n",
       "        [2.24143815],\n",
       "        [2.25171351],\n",
       "        [2.23086357],\n",
       "        [2.27399564],\n",
       "        [2.31502914],\n",
       "        [2.25271249],\n",
       "        [2.20792222],\n",
       "        [2.24983239],\n",
       "        [2.35415316],\n",
       "        [2.27913928],\n",
       "        [2.32064509],\n",
       "        [2.3166368 ],\n",
       "        [2.28353667],\n",
       "        [2.25722575],\n",
       "        [2.33064318],\n",
       "        [2.29476571],\n",
       "        [2.53460717],\n",
       "        [2.3801558 ]])}"
      ]
     },
     "execution_count": 12,
     "metadata": {},
     "output_type": "execute_result"
    }
   ],
   "source": [
    "eval_fa.statistics"
   ]
  },
  {
   "cell_type": "markdown",
   "metadata": {},
   "source": [
    "## Forge transition"
   ]
  },
  {
   "cell_type": "code",
   "execution_count": 13,
   "metadata": {},
   "outputs": [],
   "source": [
    "eval_ft = Evaluation(experiment_root='../logs/CORA-ML/baseline_FT/',\n",
    "                     statistic_fns={#'Assortativity':graph_statistics.assortativity,\n",
    "                                    #'Average Degree':graph_statistics.average_degree,\n",
    "                                    'Claw Count':graph_statistics.claw_count,\n",
    "                                    #'Clustering Coefficient':graph_statistics.clustering_coefficient,\n",
    "                                    #'Characteristic Path Length':graph_statistics.compute_cpl,\n",
    "                                    #'Edge Distribution Entropy':graph_statistics.edge_distribution_entropy,\n",
    "                                    #'Gini':graph_statistics.gini,\n",
    "                                    #'LCC Size':graph_statistics.LCC,\n",
    "                                    #'Max Degree':graph_statistics.max_degree,\n",
    "                                    #'Min Degree':graph_statistics.min_degree,\n",
    "                                    #'Num Connected Components':graph_statistics.num_connected_components,\n",
    "                                    #'Power Law α':graph_statistics.power_law_alpha,\n",
    "                                    #'Spectral Gap':graph_statistics.spectral_gap,\n",
    "                                    'Square Count':graph_statistics.square_count,\n",
    "                                    #'Triangle Count':graph_statistics.triangle_count,\n",
    "                                    'Wedge Count':graph_statistics.wedge_count,\n",
    "                                    })"
   ]
  },
  {
   "cell_type": "code",
   "execution_count": 14,
   "metadata": {},
   "outputs": [],
   "source": [
    "eval_ft.compute_statistics()"
   ]
  },
  {
   "cell_type": "code",
   "execution_count": 15,
   "metadata": {},
   "outputs": [],
   "source": [
    "eval_ft.aggregate_statistics(num_bins=10)"
   ]
  },
  {
   "cell_type": "markdown",
   "metadata": {},
   "source": [
    "# Summary"
   ]
  },
  {
   "cell_type": "code",
   "execution_count": null,
   "metadata": {},
   "outputs": [],
   "source": [
    "def tabular_from_statistics(EO_criterion, statistics):\n",
    "    tabular_mean = {}\n",
    "    tabular_std = {}\n",
    "    for model_name, (statistics_mean, statistics_std) in statistics.items():\n",
    "        tabular_mean[model_name] = {}\n",
    "        tabular_std[model_name] = {}\n",
    "        # find matching EO\n",
    "        overlap = statistics_mean['Edge Overlap (%)']\n",
    "        try:\n",
    "            arg = np.argwhere(overlap>EO_criterion).min()\n",
    "        except:\n",
    "            raise Exception(f'Max Edge Overlap of {model_name} is {np.nan_to_num(overlap, -1).max():.3f}')\n",
    "        for statistic_name in statistics_mean.keys():\n",
    "            tabular_mean[model_name][statistic_name] = statistics_mean[statistic_name][arg]\n",
    "            tabular_std[model_name][statistic_name] = statistics_std[statistic_name][arg]\n",
    "    return (tabular_mean, tabular_std)"
   ]
  },
  {
   "cell_type": "code",
   "execution_count": null,
   "metadata": {},
   "outputs": [],
   "source": [
    "tabular = tabular_from_statistics(EO_criterion=0.5,\n",
    "                                  statistics={'ours': eval_ours.mean_std})"
   ]
  },
  {
   "cell_type": "code",
   "execution_count": null,
   "metadata": {},
   "outputs": [],
   "source": [
    "tabular"
   ]
  },
  {
   "cell_type": "code",
   "execution_count": null,
   "metadata": {
    "scrolled": true
   },
   "outputs": [],
   "source": [
    "tabular = tabular_from_statistics(0.5, {\n",
    "    'fa':eval_fa.mean_std, \n",
    "    'ft':eval_ft.mean_std,\n",
    "    'ours': eval_ours.mean_std,\n",
    "                                       })"
   ]
  },
  {
   "cell_type": "code",
   "execution_count": null,
   "metadata": {
    "scrolled": true
   },
   "outputs": [],
   "source": [
    "def df_from_tabular(tabular, keys=None):\n",
    "    mean_dicts, std_dicts = tabular\n",
    "    string_tabular = {}\n",
    "    for (model_key, mean_dict) in mean_dicts.items():\n",
    "        std_dict = std_dicts[model_key]\n",
    "        string_tabular[model_key] = {}\n",
    "        for (statistc_key, mean) in mean_dict.items():\n",
    "            std = std_dict[statistc_key]\n",
    "            string_tabular[model_key][statistc_key] = (f'{mean:.3f} \\u00B1 {std:.3f}')\n",
    "    df = pd.DataFrame(string_tabular.values(), string_tabular.keys())\n",
    "    if keys is not None:\n",
    "        df = df[keys]\n",
    "    return df"
   ]
  },
  {
   "cell_type": "code",
   "execution_count": null,
   "metadata": {},
   "outputs": [],
   "source": [
    "df = df_from_tabular(tabular)"
   ]
  },
  {
   "cell_type": "code",
   "execution_count": null,
   "metadata": {},
   "outputs": [],
   "source": [
    "df"
   ]
  },
  {
   "cell_type": "markdown",
   "metadata": {},
   "source": [
    "# True graph"
   ]
  },
  {
   "cell_type": "code",
   "execution_count": 18,
   "metadata": {},
   "outputs": [],
   "source": [
    "_A_obs = load_npz('../data/CORA_ML.npz')"
   ]
  },
  {
   "cell_type": "code",
   "execution_count": 19,
   "metadata": {},
   "outputs": [],
   "source": [
    "val_share = 0.1\n",
    "test_share = 0.05\n",
    "seed = 481516234\n",
    "\n",
    "train_ones, val_ones, val_zeros, test_ones, test_zeros = utils.train_val_test_split_adjacency(_A_obs, val_share, test_share, seed, undirected=True, connected=True, asserts=False)\n",
    "\n",
    "train_graph = sp.csr_matrix((np.ones(len(train_ones)),(train_ones[:,0], train_ones[:,1])))\n",
    "assert (train_graph.toarray() == train_graph.toarray().T).all()"
   ]
  },
  {
   "cell_type": "code",
   "execution_count": 42,
   "metadata": {},
   "outputs": [],
   "source": [
    "def compute_true_statistics(true_graph, statistic_fns):\n",
    "    true_statistics = {}\n",
    "    for statistic, fn in statistic_fns.items():\n",
    "        true_statistics[statistic] = fn(true_graph)\n",
    "    true_statistics['Edge Overlap (%)'] = 1\n",
    "    return true_statistics"
   ]
  },
  {
   "cell_type": "code",
   "execution_count": 43,
   "metadata": {},
   "outputs": [],
   "source": [
    "true_statistics = compute_true_statistics(true_graph=train_graph, statistic_fns=statistic_fns)"
   ]
  },
  {
   "cell_type": "markdown",
   "metadata": {},
   "source": [
    "# BOXPLOTS"
   ]
  },
  {
   "cell_type": "code",
   "execution_count": 66,
   "metadata": {},
   "outputs": [],
   "source": [
    "def boxplot(statistics_binned, true_statistics,min_binsize=3):\n",
    "    # Locate bins with sufficiently many entries and remove others \n",
    "    bin_keys = [len(_bin)>=min_binsize for _bin in statistics_binned['Edge Overlap (%)']]\n",
    "    statistics = {}\n",
    "    for key in statistics_binned.keys():\n",
    "        statistics[key] = [arr for arr, bin_key in zip(statistics_binned[key], bin_keys) if bin_key]\n",
    "    # Plot at mean edge overlap for every bin\n",
    "    positions = [arr.mean() for arr in statistics['Edge Overlap (%)']]\n",
    "    # Make boxplot\n",
    "    keys = list(statistics.keys())\n",
    "    n_cols, n_rows = utils.get_plot_grid_size(len(keys))\n",
    "    plt.rcParams.update({'font.size': 18})\n",
    "    f, axs = plt.subplots(n_rows, n_cols, sharex=True, figsize=(22, 12))\n",
    "    axs = np.array(axs).reshape(n_rows, n_cols)\n",
    "    plt.tight_layout(pad=3)\n",
    "    for row in range(n_rows):\n",
    "        for col in range(n_cols):\n",
    "            i = row * n_cols + col\n",
    "            if i < len(keys):\n",
    "                key = keys[row * n_cols + col]\n",
    "                axs[row, col].boxplot(statistics[key], positions=positions,\n",
    "                                      widths=.05,\n",
    "                                      showfliers=False)\n",
    "                if key in true_statistics.keys():\n",
    "                    axs[row, col].hlines(y=true_statistics[key],\n",
    "                                         xmin=0,\n",
    "                                         xmax=1,\n",
    "                                         colors='green',\n",
    "                                         linestyles='dashed')        \n",
    "                axs[row, col].set_xlabel('Edge Overlap (%)', labelpad=5)               \n",
    "                axs[row, col].set_ylabel(key, labelpad=2)\n",
    "                axs[row, col].set_xticklabels([f'{EO:.2f}'[1:] for EO in positions])\n",
    "            else:\n",
    "                axs[row, col].axis('off')\n",
    "            axs[row, col].set_xlim(0, 1)\n",
    "    plt.show()   \n",
    "    return"
   ]
  },
  {
   "cell_type": "code",
   "execution_count": 68,
   "metadata": {},
   "outputs": [
    {
     "data": {
      "image/png": "[encoded data removed]",
      "text/plain": [
       "<Figure size 1584x864 with 9 Axes>"
      ]
     },
     "metadata": {
      "needs_background": "light"
     },
     "output_type": "display_data"
    }
   ],
   "source": [
    "boxplot(statistics_binned=eval_ours.statistics_binned, true_statistics=true_statistics)"
   ]
  }
 ],
 "metadata": {
  "kernelspec": {
   "display_name": "Python [conda env:torch]",
   "language": "python",
   "name": "conda-env-torch-py"
  },
  "language_info": {
   "codemirror_mode": {
    "name": "ipython",
    "version": 3
   },
   "file_extension": ".py",
   "mimetype": "text/x-python",
   "name": "python",
   "nbconvert_exporter": "python",
   "pygments_lexer": "ipython3",
   "version": "3.7.5"
  }
 },
 "nbformat": 4,
 "nbformat_minor": 2
}
