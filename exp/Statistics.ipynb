{
 "cells": [
  {
   "cell_type": "code",
   "execution_count": 11,
   "metadata": {},
   "outputs": [],
   "source": [
    "import sys\n",
    "sys.path.insert(0, '../src/')\n",
    "\n",
    "import os\n",
    "import abc\n",
    "import pickle\n",
    "import warnings\n",
    "warnings.filterwarnings('ignore')\n",
    "\n",
    "import time\n",
    "\n",
    "#import tensorflow as tf\n",
    "import torch\n",
    "device = 'cpu'\n",
    "dtype = torch.float32\n",
    "\n",
    "import scipy.sparse as sp\n",
    "import numpy as np\n",
    "from matplotlib import pyplot as plt\n",
    "from scipy.sparse import save_npz, load_npz, csr_matrix\n",
    "from sklearn.metrics import roc_auc_score, average_precision_score\n",
    "import time\n",
    "import pandas as pd\n",
    "%matplotlib inline\n",
    "\n",
    "# from netgan.netgan import *\n",
    "# from netgan import utils\n",
    "\n",
    "from net.utils import *\n",
    "from net import utils_netgan as utils\n",
    "import net.net as net"
   ]
  },
  {
   "cell_type": "code",
   "execution_count": 77,
   "metadata": {},
   "outputs": [],
   "source": [
    "class Evaluation(object):\n",
    "    def __init__(self, experiment_root, statistic_fns):\n",
    "        self.experiment_root = experiment_root\n",
    "        self.statistic_fns = statistic_fns\n",
    "        \n",
    "    def _load_timing(self, experiment):\n",
    "        return self._load(experiment, 'timing')\n",
    "    \n",
    "    def _load_overlap(self, experiment):\n",
    "        return self._load(experiment, 'overlap')\n",
    "    \n",
    "    def _load(self, experiment, name):\n",
    "        filename = os.path.join(self.experiment_root,\n",
    "                                f'Experiment_{experiment}/sampled_graphs/{name}.pickle')\n",
    "        with open(filename, 'rb') as handle:\n",
    "            timing = pickle.load(handle)\n",
    "        return timing\n",
    "    \n",
    "    def compute_statistics(self):\n",
    "        # parse experiment root folder\n",
    "        num_experiments = len(os.listdir(self.experiment_root))\n",
    "        # load overlaps and timings\n",
    "        overlaps = [self._load_overlap(i) for i in range(num_experiments)]\n",
    "        timings = [self._load_timing(i) for i in range(num_experiments)]\n",
    "        \n",
    "        steps = max(timings[0].keys())\n",
    "        step_len = int(np.log10(steps))+1\n",
    "        invoke_every = steps // len(timings[0].keys())\n",
    "        \n",
    "        statistics = {name: np.zeros([num_experiments, steps//invoke_every]) for name in self.statistic_fns.keys()}\n",
    "        statistics['Edge Overlap (%)'] = np.zeros([num_experiments, steps//invoke_every])\n",
    "        statistics['Time (s)'] = np.zeros([num_experiments, steps//invoke_every])\n",
    "        for step in range(invoke_every, steps, invoke_every):\n",
    "            for experiment in range(num_experiments):\n",
    "                # load sparse graph\n",
    "                graph_name = f'graph_{step:0{step_len}d}.npz'\n",
    "                graph_path = os.path.join(self.experiment_root,\n",
    "                                          f'Experiment_{experiment}/sampled_graphs/{graph_name}')\n",
    "                graph = load_npz(graph_path)\n",
    "                # compute statistics\n",
    "                statistics['Edge Overlap (%)'][experiment, step//invoke_every] = overlaps[experiment][step]\n",
    "                statistics['Time (s)'][experiment, step//invoke_every] = timings[experiment][step]\n",
    "                for name, statistic_fn in self.statistic_fns.items():\n",
    "                    statistics[name][experiment, step] = statistic_fn(graph)\n",
    "        self.statistics = statistics\n",
    "        self.steps = steps\n",
    "        self.invoke_every = invoke_every\n",
    "                    \n",
    "                    \n",
    "\n",
    "    def export_statistics(self):\n",
    "        pass\n",
    "    def plot_statistics(self):\n",
    "        pass"
   ]
  },
  {
   "cell_type": "code",
   "execution_count": 78,
   "metadata": {},
   "outputs": [],
   "source": [
    "eval_exp = Evaluation(experiment_root='../logs/experiments_CORA-ML/',\n",
    "                      statistic_fns={})"
   ]
  },
  {
   "cell_type": "code",
   "execution_count": 79,
   "metadata": {
    "scrolled": false
   },
   "outputs": [],
   "source": [
    "eval_exp.compute_statistics()"
   ]
  },
  {
   "cell_type": "code",
   "execution_count": 80,
   "metadata": {},
   "outputs": [
    {
     "data": {
      "text/plain": [
       "{'Edge Overlap (%)': array([[0.        , 0.00383311, 0.0984815 , 0.33554474, 0.43785935,\n",
       "         0.54577621, 0.61683621, 0.66755123, 0.71118974, 0.74214949,\n",
       "         0.76382132, 0.78888397, 0.80377414, 0.81836945, 0.82603568,\n",
       "         0.83782987, 0.85404688, 0.85994398, 0.86878962, 0.87453929],\n",
       "        [0.        , 0.00530739, 0.08712959, 0.34542238, 0.46144774,\n",
       "         0.55064131, 0.62686127, 0.67271119, 0.72077252, 0.75114256,\n",
       "         0.77001327, 0.79640277, 0.81158779, 0.81409406, 0.8369453 ,\n",
       "         0.84505381, 0.85286746, 0.8659885 , 0.87394958, 0.87969925]]),\n",
       " 'Time (s)': array([[ 0.        ,  2.88219547,  5.77191591,  8.67122793, 11.55827117,\n",
       "         14.36798763, 17.18894267, 20.03583026, 22.86395001, 25.69589043,\n",
       "         28.49020672, 31.28385186, 34.09897828, 36.90437508, 39.70815325,\n",
       "         42.52123237, 45.35031343, 48.18264437, 51.09562325, 53.98334503],\n",
       "        [ 0.        ,  2.8838408 ,  5.78501344,  8.69969201, 11.55391216,\n",
       "         14.39598751, 17.21862197, 20.0523653 , 22.88774323, 25.69766378,\n",
       "         28.56529522, 31.42638469, 34.24592161, 37.02636194, 39.82484317,\n",
       "         42.61970592, 45.43640566, 48.24897408, 51.09555626, 53.95557857]])}"
      ]
     },
     "execution_count": 80,
     "metadata": {},
     "output_type": "execute_result"
    }
   ],
   "source": [
    "eval_exp.statistics"
   ]
  },
  {
   "cell_type": "code",
   "execution_count": 38,
   "metadata": {},
   "outputs": [
    {
     "name": "stdout",
     "output_type": "stream",
     "text": [
      "%\n"
     ]
    }
   ],
   "source": [
    "print('%')"
   ]
  },
  {
   "cell_type": "code",
   "execution_count": 25,
   "metadata": {},
   "outputs": [
    {
     "name": "stdout",
     "output_type": "stream",
     "text": [
      "Help on function load_npz in module scipy.sparse._matrix_io:\n",
      "\n",
      "load_npz(file)\n",
      "    Load a sparse matrix from a file using ``.npz`` format.\n",
      "    \n",
      "    Parameters\n",
      "    ----------\n",
      "    file : str or file-like object\n",
      "        Either the file name (string) or an open file (file-like object)\n",
      "        where the data will be loaded.\n",
      "    \n",
      "    Returns\n",
      "    -------\n",
      "    result : csc_matrix, csr_matrix, bsr_matrix, dia_matrix or coo_matrix\n",
      "        A sparse matrix containing the loaded data.\n",
      "    \n",
      "    Raises\n",
      "    ------\n",
      "    IOError\n",
      "        If the input file does not exist or cannot be read.\n",
      "    \n",
      "    See Also\n",
      "    --------\n",
      "    scipy.sparse.save_npz: Save a sparse matrix to a file using ``.npz`` format.\n",
      "    numpy.load: Load several arrays from a ``.npz`` archive.\n",
      "    \n",
      "    Examples\n",
      "    --------\n",
      "    Store sparse matrix to disk, and load it again:\n",
      "    \n",
      "    >>> import scipy.sparse\n",
      "    >>> sparse_matrix = scipy.sparse.csc_matrix(np.array([[0, 0, 3], [4, 0, 0]]))\n",
      "    >>> sparse_matrix\n",
      "    <2x3 sparse matrix of type '<class 'numpy.int64'>'\n",
      "       with 2 stored elements in Compressed Sparse Column format>\n",
      "    >>> sparse_matrix.todense()\n",
      "    matrix([[0, 0, 3],\n",
      "            [4, 0, 0]], dtype=int64)\n",
      "    \n",
      "    >>> scipy.sparse.save_npz('/tmp/sparse_matrix.npz', sparse_matrix)\n",
      "    >>> sparse_matrix = scipy.sparse.load_npz('/tmp/sparse_matrix.npz')\n",
      "    \n",
      "    >>> sparse_matrix\n",
      "    <2x3 sparse matrix of type '<class 'numpy.int64'>'\n",
      "        with 2 stored elements in Compressed Sparse Column format>\n",
      "    >>> sparse_matrix.todense()\n",
      "    matrix([[0, 0, 3],\n",
      "            [4, 0, 0]], dtype=int64)\n",
      "\n"
     ]
    }
   ],
   "source": [
    "help(load_npz)"
   ]
  },
  {
   "cell_type": "code",
   "execution_count": 19,
   "metadata": {},
   "outputs": [],
   "source": [
    "dct = {1:'a', 2:'b', 5:'e'}"
   ]
  },
  {
   "cell_type": "code",
   "execution_count": 21,
   "metadata": {},
   "outputs": [
    {
     "data": {
      "text/plain": [
       "5"
      ]
     },
     "execution_count": 21,
     "metadata": {},
     "output_type": "execute_result"
    }
   ],
   "source": [
    "max(dct.keys())"
   ]
  },
  {
   "cell_type": "code",
   "execution_count": 32,
   "metadata": {},
   "outputs": [
    {
     "data": {
      "text/plain": [
       "['graph_090.npz',\n",
       " 'graph_080.npz',\n",
       " 'graph_100.npz',\n",
       " 'overlap.pickle',\n",
       " 'graph_060.npz',\n",
       " 'graph_015.npz',\n",
       " 'graph_075.npz',\n",
       " 'graph_005.npz',\n",
       " 'graph_020.npz',\n",
       " 'graph_070.npz',\n",
       " 'graph_065.npz',\n",
       " 'graph_010.npz',\n",
       " 'graph_040.npz',\n",
       " 'graph_095.npz',\n",
       " 'graph_050.npz',\n",
       " 'graph_035.npz',\n",
       " 'timing.pickle',\n",
       " 'graph_025.npz',\n",
       " 'graph_085.npz',\n",
       " 'graph_055.npz',\n",
       " 'graph_045.npz',\n",
       " 'graph_030.npz']"
      ]
     },
     "execution_count": 32,
     "metadata": {},
     "output_type": "execute_result"
    }
   ],
   "source": [
    "os.listdir('../logs/experiments_CORA-ML/Experiment_0/sampled_graphs/')"
   ]
  },
  {
   "cell_type": "code",
   "execution_count": 2,
   "metadata": {},
   "outputs": [],
   "source": [
    "def timing(f):\n",
    "    def g(*args, **kwargs):\n",
    "        start = time.time()\n",
    "        y = f(*args, **kwargs)\n",
    "        g.last_time = time.time() - start\n",
    "        return y\n",
    "    return g"
   ]
  },
  {
   "cell_type": "code",
   "execution_count": 5,
   "metadata": {},
   "outputs": [],
   "source": [
    "@timing\n",
    "def loop(iters):\n",
    "    x = 0\n",
    "    for i in range(iters):\n",
    "        x += i\n",
    "    return x"
   ]
  },
  {
   "cell_type": "code",
   "execution_count": 9,
   "metadata": {},
   "outputs": [
    {
     "data": {
      "text/plain": [
       "1.3828277587890625e-05"
      ]
     },
     "execution_count": 9,
     "metadata": {},
     "output_type": "execute_result"
    }
   ],
   "source": [
    "loop(100)\n",
    "loop.last_time"
   ]
  },
  {
   "cell_type": "code",
   "execution_count": 12,
   "metadata": {},
   "outputs": [],
   "source": [
    "def f(*args, **kwargs):\n",
    "    y = 0\n",
    "    for x in args:\n",
    "        y += x\n",
    "    return y"
   ]
  },
  {
   "cell_type": "code",
   "execution_count": 16,
   "metadata": {},
   "outputs": [
    {
     "data": {
      "text/plain": [
       "21"
      ]
     },
     "execution_count": 16,
     "metadata": {},
     "output_type": "execute_result"
    }
   ],
   "source": [
    "lst = [1,2,3,4,5,6]\n",
    "f(*lst)"
   ]
  },
  {
   "cell_type": "code",
   "execution_count": null,
   "metadata": {},
   "outputs": [],
   "source": [
    "f(lst[0], lst[1])"
   ]
  }
 ],
 "metadata": {
  "kernelspec": {
   "display_name": "Python [conda env:netgan]",
   "language": "python",
   "name": "conda-env-netgan-py"
  },
  "language_info": {
   "codemirror_mode": {
    "name": "ipython",
    "version": 3
   },
   "file_extension": ".py",
   "mimetype": "text/x-python",
   "name": "python",
   "nbconvert_exporter": "python",
   "pygments_lexer": "ipython3",
   "version": "3.6.9"
  }
 },
 "nbformat": 4,
 "nbformat_minor": 2
}
