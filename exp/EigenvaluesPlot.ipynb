{
 "cells": [
  {
   "cell_type": "code",
   "execution_count": 19,
   "metadata": {},
   "outputs": [],
   "source": [
    "import sys\n",
    "sys.path.insert(0, '../src/')\n",
    "\n",
    "import warnings\n",
    "warnings.filterwarnings('ignore')\n",
    "\n",
    "\n",
    "import numpy as np\n",
    "import matplotlib.pyplot as plt\n",
    "plt.rcParams['mathtext.fontset'] = 'stix'\n",
    "plt.rcParams['font.family'] = 'STIXGeneral'\n",
    "import scipy.sparse as sp\n",
    "from scipy.sparse import load_npz\n",
    "\n",
    "import torch\n",
    "\n",
    "import utils"
   ]
  },
  {
   "cell_type": "code",
   "execution_count": 2,
   "metadata": {},
   "outputs": [],
   "source": [
    "_A_obs = load_npz('../data/datasets/CORA_ML.npz')\n",
    "\n",
    "val_share = 0.1\n",
    "test_share = 0.05\n",
    "seed = 481516234\n",
    "\n",
    "train_ones, val_ones, val_zeros, test_ones, test_zeros = utils.train_val_test_split_adjacency(_A_obs, val_share, test_share, seed, undirected=True, connected=True, asserts=False)\n",
    "\n",
    "train_graph = sp.csr_matrix((np.ones(len(train_ones)),(train_ones[:,0], train_ones[:,1])))\n",
    "assert (train_graph.toarray() == train_graph.toarray().T).all()"
   ]
  },
  {
   "cell_type": "markdown",
   "metadata": {},
   "source": [
    "#### Get true transition matrix, true logits matrix, synthetic transition matrix and synthetic logits matrix"
   ]
  },
  {
   "cell_type": "code",
   "execution_count": 4,
   "metadata": {},
   "outputs": [],
   "source": [
    "P = train_graph.toarray() / np.array(train_graph.sum(axis=-1))"
   ]
  },
  {
   "cell_type": "code",
   "execution_count": 6,
   "metadata": {},
   "outputs": [
    {
     "data": {
      "text/plain": [
       "{19: 0.26905499041721953, 38: 0.5298540468819106}"
      ]
     },
     "execution_count": 6,
     "metadata": {},
     "output_type": "execute_result"
    }
   ],
   "source": [
    "utils.load_dict('../logs/CORA-ML/Ours/Experiment_0/sampled_graphs/overlap.pickle')"
   ]
  },
  {
   "cell_type": "code",
   "execution_count": 7,
   "metadata": {},
   "outputs": [],
   "source": [
    "weights = np.load('../logs/CORA-ML/Ours/Experiment_0/weights/weights_38.npz')\n",
    "Wdown, Wup = weights['W_down'], weights['W_up']\n",
    "\n",
    "P_logits_synth = Wdown @ Wup\n",
    "P_synth = torch.nn.functional.softmax(torch.tensor(P_logits_synth), dim=-1).numpy()"
   ]
  },
  {
   "cell_type": "code",
   "execution_count": 9,
   "metadata": {},
   "outputs": [],
   "source": [
    "dict_of_matrices = {'P':P, 'P_synth':P_synth, 'P_logits_synth':P_logits_synth}\n",
    "dict_of_eigvals = get_descending_eigenvalues(dict_of_matrices)"
   ]
  },
  {
   "cell_type": "code",
   "execution_count": 42,
   "metadata": {},
   "outputs": [
    {
     "name": "stdout",
     "output_type": "stream",
     "text": [
      "[1.         0.9491162  0.7836228  0.6421523  0.6421523  0.5932241\n",
      " 0.5087572  0.42992303]\n",
      "[1.0000000e+00 3.0917826e-09 2.8544522e-09 2.6864240e-09 2.5168294e-09\n",
      " 2.3667852e-09 2.2183397e-09 2.0952644e-09 1.9743054e-09 1.8617630e-09\n",
      " 1.7380145e-09 1.6313960e-09 1.5151901e-09 1.4147239e-09 1.3117474e-09\n",
      " 1.2104275e-09 1.1179484e-09 9.9716957e-10 9.0721713e-10 8.2196011e-10\n",
      " 7.2551087e-10 6.3872985e-10 5.4542110e-10 4.5021531e-10 3.6718065e-10\n",
      " 2.8327929e-10 1.9376072e-10 9.7720616e-11 7.5875955e-12]\n"
     ]
    }
   ],
   "source": [
    "print(dict_of_eigvals['P_logits_synth'][:8])\n",
    "print(dict_of_eigvals['P_logits_synth'][::100])"
   ]
  },
  {
   "cell_type": "code",
   "execution_count": 52,
   "metadata": {},
   "outputs": [
    {
     "data": {
      "text/plain": [
       "2810"
      ]
     },
     "execution_count": 52,
     "metadata": {},
     "output_type": "execute_result"
    }
   ],
   "source": [
    "len(list(dict_of_eigvals.values())[0])"
   ]
  },
  {
   "cell_type": "code",
   "execution_count": 54,
   "metadata": {},
   "outputs": [],
   "source": [
    "x = np.empty(5)"
   ]
  },
  {
   "cell_type": "code",
   "execution_count": 56,
   "metadata": {},
   "outputs": [],
   "source": [
    "x[:] = np.nan"
   ]
  },
  {
   "cell_type": "code",
   "execution_count": 60,
   "metadata": {},
   "outputs": [],
   "source": [
    "# Thinning for dict_of_eigvals: First 9 of P_logits, and then for every other method every k-th\n",
    "def thinning(dict_of_eigvals, step_size):\n",
    "    N = len(list(dict_of_eigvals.values())[0])\n",
    "    thinned_dict = {}\n",
    "    for key, val in dict_of_eigvals.items():\n",
    "        if key=='P_logits_synth':\n",
    "            x = np.empty(N)\n",
    "            x[:] = np.nan\n",
    "            x[:8] = dict_of_eigvals[key][:8]\n",
    "            x[8::step_size] = dict_of_eigvals[key][8::step_size]\n",
    "            thinned_dict[key] = x\n",
    "        else:\n",
    "            x = np.empty(N)\n",
    "            x[:] = np.nan\n",
    "            x[::step_size] = dict_of_eigvals[key][::step_size]\n",
    "            thinned_dict[key] = x\n",
    "    return thinned_dict"
   ]
  },
  {
   "cell_type": "code",
   "execution_count": 61,
   "metadata": {},
   "outputs": [],
   "source": [
    "thinned_dict = thinning(dict_of_eigvals, step_size=100)"
   ]
  },
  {
   "cell_type": "code",
   "execution_count": 112,
   "metadata": {},
   "outputs": [],
   "source": [
    "def get_descending_eigenvalues(dict_of_matrices):\n",
    "    dict_of_eigvals = dict_of_matrices\n",
    "    for name, matrix in dict_of_matrices.items():\n",
    "        eigvals = np.real(np.linalg.eig(matrix)[0])\n",
    "        eigvals = np.sort(np.abs(eigvals))[::-1]\n",
    "        dict_of_eigvals[name] = eigvals\n",
    "    return dict_of_eigvals\n",
    "\n",
    "def plot_eigenvalues(dict_of_eigvals, formats, save_path=None):\n",
    "    f, axs = plt.subplots(figsize=(12, 12))\n",
    "    for name, eigvals in dict_of_eigvals.items():\n",
    "        marker, c = formats[name]\n",
    "        eigvals /= max(eigvals)\n",
    "        axs.scatter(np.arange(len(eigvals)), eigvals, s=450, marker=marker, facecolors='None', \n",
    "                    c=c, \n",
    "                    label=name)\n",
    "    f.legend(loc='upper right', labels=[r'$P$', r'$P^\\ast$', r'$W^\\ast$'], \n",
    "             bbox_to_anchor=(0.85, 0.85),\n",
    "             fontsize=70,\n",
    "             markerscale=2,\n",
    "             frameon=False,\n",
    "             handletextpad=0)\n",
    "    axs.tick_params(length=10, width=5)\n",
    "    axslabel_size = 50\n",
    "    plt.xticks([0, 1500, 2810], fontsize=axslabel_size)\n",
    "    plt.yticks([0, 1], fontsize=axslabel_size)   \n",
    "    if save_path:\n",
    "        plt.savefig(fname=save_path, bbox_inches='tight')     \n",
    "    plt.show()\n",
    "    return"
   ]
  },
  {
   "cell_type": "code",
   "execution_count": 113,
   "metadata": {},
   "outputs": [
    {
     "data": {
      "image/png": "[encoded data removed]",
      "text/plain": [
       "<Figure size 864x864 with 1 Axes>"
      ]
     },
     "metadata": {
      "needs_background": "light"
     },
     "output_type": "display_data"
    }
   ],
   "source": [
    "formats = {'P': ('P', 'g'),\n",
    "           'P_synth':('X', 'm'), \n",
    "           'P_logits_synth':('*', 'b')}\n",
    "plot_eigenvalues(thinned_dict, formats, save_path='../fig/eigenvalues.pdf')"
   ]
  },
  {
   "cell_type": "code",
   "execution_count": 88,
   "metadata": {
    "scrolled": true
   },
   "outputs": [
    {
     "data": {
      "text/plain": [
       "array([58142.49480013,   281.68933756,   268.23464351,   249.49001058,\n",
       "         208.97677085,   182.32426763,   181.73687861,   181.70926986,\n",
       "         175.10307312,   166.784529  ])"
      ]
     },
     "execution_count": 88,
     "metadata": {},
     "output_type": "execute_result"
    }
   ],
   "source": [
    "dict_of_eigvals['P_logits'][:10]"
   ]
  }
 ],
 "metadata": {
  "kernelspec": {
   "display_name": "Python [conda env:torch]",
   "language": "python",
   "name": "conda-env-torch-py"
  },
  "language_info": {
   "codemirror_mode": {
    "name": "ipython",
    "version": 3
   },
   "file_extension": ".py",
   "mimetype": "text/x-python",
   "name": "python",
   "nbconvert_exporter": "python",
   "pygments_lexer": "ipython3",
   "version": "3.6.9"
  }
 },
 "nbformat": 4,
 "nbformat_minor": 2
}
