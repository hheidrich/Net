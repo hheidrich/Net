{
 "cells": [
  {
   "cell_type": "code",
   "execution_count": 1,
   "metadata": {},
   "outputs": [],
   "source": [
    "import sys\n",
    "sys.path.insert(0, '../src/')\n",
    "import warnings\n",
    "warnings.filterwarnings('ignore')\n",
    "import numpy as np\n",
    "import scipy.sparse as sp\n",
    "from scipy.sparse import load_npz\n",
    "import graph_statistics\n",
    "import utils\n",
    "from evaluation import (Evaluation, tabular_from_statistics, df_from_tabular, compute_original_statistics,\n",
    "                        boxplot, make_rel_error_df, heat_map_from_df)"
   ]
  },
  {
   "cell_type": "code",
   "execution_count": 2,
   "metadata": {},
   "outputs": [],
   "source": [
    "import matplotlib.pyplot as plt\n",
    "def plot_rel_error_dict(rel_error_dict, sorted_plot=None, width=1, rowpad=50, colpad=30, fontsize=15, color='grey', save_path=None):\n",
    "    \"\"\" rel_error_dict is a dict of dict of dicts: keys indicate: data sets (outer key), statistics (middle key),\n",
    "        models (inner key).\n",
    "    Args:\n",
    "        rel_error_dict: dict of dict of dicts: keys indicate: data sets (outer key), statistics (middle key),\n",
    "            models (inner key). Values are the corresponding relative errors.\n",
    "        sorted_plot: list for 'datasets', 'statistics', and 'models'. Values are the sorted names\n",
    "            to indicate the order in which things are plotted. If None, plot in order given by rel_error_dict.\"\"\"\n",
    "    # Remove annotations and axes\n",
    "    rc = {\"axes.spines.left\" : False,\n",
    "          \"axes.spines.right\" : False,\n",
    "          \"axes.spines.bottom\" : False,\n",
    "          \"axes.spines.top\" : False,\n",
    "          \"xtick.bottom\" : False,\n",
    "          \"xtick.labelbottom\" : False,\n",
    "          \"ytick.labelleft\" : False,\n",
    "          \"ytick.left\" : False}\n",
    "    plt.rcParams.update(rc)\n",
    "    plt.rcParams.update({'font.size': fontsize})\n",
    "\n",
    "    # Number of datasets, statistics, and models\n",
    "    first_inner_dict = rel_error_dict[list(rel_error_dict.keys())[0]]\n",
    "    first_inner_tuple = first_inner_dict[list(first_inner_dict.keys())[0]]\n",
    "    num_datasets = len(rel_error_dict.keys())\n",
    "    num_statistics = len(first_inner_dict.keys())\n",
    "    num_models = len(first_inner_tuple)\n",
    "\n",
    "    # Make subplots\n",
    "    fig, axs = plt.subplots(nrows=num_datasets, ncols=num_statistics, sharex=True, sharey=True)\n",
    "    if sorted_plot is not None:\n",
    "        row_names, col_names, model_names = sorted_plot\n",
    "        for i in range(num_datasets):\n",
    "            for j in range(num_statistics):\n",
    "                for k in range(num_models):\n",
    "                    rel_error = rel_error_dict[row_names[i]][col_names[j]][model_names[k]]\n",
    "                    axs[i, j].bar(x=k*width, height=rel_error, width=.9*width, color=color)\n",
    "        # Set titles\n",
    "        for ax, col in zip(axs[0], col_names):\n",
    "            ax.set_title(col, rotation=-45, pad=colpad, size='large')\n",
    "        for ax, row in zip(axs[:,0], row_names):\n",
    "            ax.set_ylabel(row, rotation=0, labelpad=rowpad, size='large')\n",
    "    else:                    \n",
    "        for i, (dataset, statistics_dict) in enumerate(rel_error_dict.items()):\n",
    "            for j, (stat, val) in enumerate(statistics_dict.items()):\n",
    "                for k, rel_error in enumerate(val.values()):\n",
    "                    axs[i, j].bar(x=k*width, height=rel_error, width=.9*width, color=color)\n",
    "        # Set titles\n",
    "        rows = list(rel_error_dict.keys())\n",
    "        cols = list(first_inner_dict.keys())\n",
    "        for ax, col in zip(axs[0], cols):\n",
    "            ax.set_title(col, rotation=-45, pad=colpad, size='large')\n",
    "        for ax, row in zip(axs[:,0], rows):\n",
    "            ax.set_ylabel(row, rotation=0, labelpad=rowpad, size='large')\n",
    "\n",
    "    fig.tight_layout()\n",
    "    plt.show()\n",
    "    if save_path:                                       \n",
    "        plt.savefig(fname=save_path, bbox_inches='tight')  \n",
    "    return\n",
    "\n",
    "def rename_keys(rel_error_dict, row_names, col_names):\n",
    "    for name, new_name in row_names.items():\n",
    "        if name in rel_error_dict.keys():\n",
    "            rel_error_dict[new_name] = rel_error_dict.pop(name)\n",
    "    for key, inner_dict in rel_error_dict.items():\n",
    "        for name, new_name in col_names.items():\n",
    "            if name in inner_dict.keys():\n",
    "                rel_error_dict[key][new_name] = rel_error_dict[key].pop(name)\n",
    "    return rel_error_dict"
   ]
  },
  {
   "cell_type": "code",
   "execution_count": 3,
   "metadata": {},
   "outputs": [],
   "source": [
    "rel_error_dict = {'Data set A':{'Stat 1':{'M1':.5, 'M2':1, 'M3':.5}, 'Stat 2':{'M1':.5, 'M2':1, 'M3':2}, 'Stat 3':{'M1':.5, 'M2':1, 'M3':2}}, \n",
    "                'Data set B':{'Stat 1':{'M1':.5, 'M2':1, 'M3':2}, 'Stat 2':{'M1':.5, 'M2':1, 'M3':2}, 'Stat 3':{'M1':.5, 'M2':1, 'M3':2}}}\n",
    "\n",
    "row_names = {'Data set A' : 'A'}\n",
    "col_names = {'Stat 1': '1', 'Stat 2' : '2', 'x' : 'y'}\n",
    "\n",
    "rel_error_dict = rename_keys(rel_error_dict, row_names, col_names)\n",
    "\n",
    "sorted_plot=(['A', 'Data set B'], ['1', '2', 'Stat 3'], ['M2', 'M1', 'M3'])"
   ]
  },
  {
   "cell_type": "code",
   "execution_count": 5,
   "metadata": {
    "scrolled": false
   },
   "outputs": [
    {
     "data": {
      "image/png": "[encoded data removed]",
      "text/plain": [
       "<Figure size 432x288 with 6 Axes>"
      ]
     },
     "metadata": {},
     "output_type": "display_data"
    }
   ],
   "source": [
    "plot_rel_error_dict(rel_error_dict)"
   ]
  },
  {
   "cell_type": "code",
   "execution_count": 6,
   "metadata": {
    "scrolled": false
   },
   "outputs": [
    {
     "data": {
      "image/png": "[encoded data removed]",
      "text/plain": [
       "<Figure size 432x288 with 6 Axes>"
      ]
     },
     "metadata": {},
     "output_type": "display_data"
    }
   ],
   "source": [
    "plot_rel_error_dict(rel_error_dict, sorted_plot=sorted_plot)"
   ]
  },
  {
   "cell_type": "code",
   "execution_count": 9,
   "metadata": {},
   "outputs": [],
   "source": [
    "def make_rel_error_dict(path, datasets, models, statistic_fns, overlap, original_graphs, link_prediction=True):\n",
    "    \"\"\" Make a table/ heatmap that compares the relative error of two models at a specified edge overlap \n",
    "    for a list of datasets and a list of statistics. Always computes error of first model minus\n",
    "    error of second model.\n",
    "    Parameters\n",
    "    ----------\n",
    "    datasets: List of strings (names of datasets)\n",
    "    models: List. Values are model names.\n",
    "    statistic_fns: Dictionary. Keys are statistic names, values are functions used to compute the statistics.\n",
    "    overlap: Float. Consider first graphs of each trial that achieves this overlap.\n",
    "    original_graphs: Dictionary. Keys are datasets, values are corresponding train graphs.\n",
    "\n",
    "    Returns\n",
    "    -------\n",
    "    rel_error_dict. Dictionary. dict of dict of dicts: keys indicate: data sets (outer key), \n",
    "                     statistics (middle key), models (inner key). Values are the corresponding relative errors.\n",
    "    \"\"\"\n",
    "    # Create relative error dict and original statistics dict\n",
    "    rel_error_dict = {}\n",
    "    for dataset in datasets:\n",
    "            statistic_keys = list(statistic_fns.keys())\n",
    "            if link_prediction:\n",
    "                statistic_keys += ['ROC-AUC Score', 'Average Precision']                                   \n",
    "            rel_error_dict[dataset] = dict.fromkeys(statistic_keys, {})                                           \n",
    "    original_statistics = dict.fromkeys(datasets, None)\n",
    "    # Fill entries of rel_error_dict (datasets-statistic_fns-model: rel_error)\n",
    "    for dataset in datasets:\n",
    "        for model in models:\n",
    "            # Check if original statistic is computed. If not, compute it\n",
    "            if original_statistics[dataset] is None:\n",
    "                original_statistics[dataset] = compute_original_statistics(original_graphs[dataset],\n",
    "                                                                           statistic_fns)\n",
    "                if link_prediction:                                           \n",
    "                    original_statistics[dataset]['ROC-AUC Score'] = 1\n",
    "                    original_statistics[dataset]['Average Precision'] = 1                                           \n",
    "            # Extract statistics for specified model, dataset, and edge overlap\n",
    "            eval_model_dataset = Evaluation(experiment_root=os.path.join(path, dataset, model),\n",
    "#                                            f'../logs/rel_error_table/{dataset}/{model}/'\n",
    "                                            statistic_fns=statistic_fns)\n",
    "            _, overlap_statistics = eval_model_dataset.get_specific_overlap_graph(target_overlap=overlap)\n",
    "            # Compute relative error for all statistics\n",
    "            list_of_statistics = list(statistic_fns.keys())\n",
    "            if link_prediction:\n",
    "                list_of_statistics = list_of_statistics + ['ROC-AUC Score', 'Average Precision']                                 \n",
    "            for statistic in list_of_statistics:                                 \n",
    "                rel_errors = []\n",
    "                for trial in overlap_statistics.keys():\n",
    "                    if not math.isnan(overlap_statistics[trial][statistic]):                                            \n",
    "                        rel_errors.append(np.abs(overlap_statistics[trial][statistic]-original_statistics[dataset][statistic]))\n",
    "                rel_error = np.array(rel_errors).mean() / original_statistics[dataset][statistic]\n",
    "                rel_error_dict[dataset][statistic][model] = np.abs(rel_error)\n",
    "            # Compute average edge overlaps and print them\n",
    "            avg_overlap = 0\n",
    "            for trial in overlap_statistics.keys():\n",
    "                avg_overlap += overlap_statistics[trial]['Edge Overlap (%)'] / len(overlap_statistics.keys())\n",
    "            print(f'Avg. overlap for {dataset}:{model} is {avg_overlap}')\n",
    "    return rel_error_dict"
   ]
  }
 ],
 "metadata": {
  "kernelspec": {
   "display_name": "Python [conda env:torch]",
   "language": "python",
   "name": "conda-env-torch-py"
  },
  "language_info": {
   "codemirror_mode": {
    "name": "ipython",
    "version": 3
   },
   "file_extension": ".py",
   "mimetype": "text/x-python",
   "name": "python",
   "nbconvert_exporter": "python",
   "pygments_lexer": "ipython3",
   "version": "3.7.5"
  }
 },
 "nbformat": 4,
 "nbformat_minor": 2
}
