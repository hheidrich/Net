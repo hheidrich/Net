{
 "cells": [
  {
   "cell_type": "code",
   "execution_count": 1,
   "metadata": {},
   "outputs": [],
   "source": [
    "import sys\n",
    "sys.path.insert(0, '../src/')\n",
    "import warnings\n",
    "warnings.filterwarnings('ignore')\n",
    "import numpy as np\n",
    "import scipy.sparse as sp\n",
    "from scipy.sparse import load_npz\n",
    "import graph_statistics\n",
    "import utils\n",
    "from evaluation import (Evaluation, tabular_from_statistics, df_from_tabular, compute_original_statistics,\n",
    "                        boxplot, make_rel_error_df, heat_map_from_df)"
   ]
  },
  {
   "cell_type": "code",
   "execution_count": 53,
   "metadata": {},
   "outputs": [],
   "source": [
    "import pandas as pd\n",
    "import matplotlib.pyplot as plt\n",
    "eval_dict = {'Data set A':{'Stat 1':(.5, 1, .5), 'Stat 2':(.5, 1, 2), 'Stat 3':(.5, 1, 2)}, \n",
    "                'Data set B':{'Stat 1':(.5, 1, 2), 'Stat 2':(.5, 1, 2), 'Stat 3':(.5, 1, 2)}}\n",
    "eval_df = pd.DataFrame(example_dict.values(), example_dict.keys())"
   ]
  },
  {
   "cell_type": "code",
   "execution_count": 81,
   "metadata": {},
   "outputs": [],
   "source": [
    "def plot_eval_dict(eval_dict, width=1, rowpad=50, colpad=30, fontsize=15, save_path=None):\n",
    "    # Remove annotations and axes\n",
    "    rc = {\"axes.spines.left\" : False,\n",
    "          \"axes.spines.right\" : False,\n",
    "          \"axes.spines.bottom\" : False,\n",
    "          \"axes.spines.top\" : False,\n",
    "          \"xtick.bottom\" : False,\n",
    "          \"xtick.labelbottom\" : False,\n",
    "          \"ytick.labelleft\" : False,\n",
    "          \"ytick.left\" : False}\n",
    "    plt.rcParams.update(rc)\n",
    "    plt.rcParams.update({'font.size': fontsize})\n",
    "\n",
    "    # Number of datasets, statistics, and models\n",
    "    first_inner_dict = eval_dict[list(eval_dict.keys())[0]]\n",
    "    first_inner_tuple = first_inner_dict[list(first_inner_dict.keys())[0]]\n",
    "    num_datasets = len(eval_dict.keys())\n",
    "    num_statistics = len(first_inner_dict.keys())\n",
    "    num_models = len(first_inner_tuple)\n",
    "\n",
    "    # Make subplots\n",
    "    fig, axs = plt.subplots(nrows=num_datasets, ncols=num_statistics, sharex=True, sharey=True)\n",
    "    for i, (dataset, statistics_dict) in enumerate(eval_dict.items()):\n",
    "        for j, (stat, val) in enumerate(statistics_dict.items()):\n",
    "            for k in range(num_models):\n",
    "                axs[i, j].bar(x=k*width, height=val[k], width=.9*width)\n",
    "\n",
    "    # Set titles\n",
    "    rows = list(eval_dict.keys())\n",
    "    cols = list(first_inner_dict.keys())\n",
    "    for ax, col in zip(axs[0], cols):\n",
    "        ax.set_title(col, rotation=-45, pad=colpad, size='large')\n",
    "    for ax, row in zip(axs[:,0], rows):\n",
    "        ax.set_ylabel(row, rotation=0, labelpad=rowpad, size='large')\n",
    "\n",
    "    fig.tight_layout()\n",
    "    plt.show()\n",
    "    if save_path:                                       \n",
    "        plt.savefig(fname=save_path, bbox_inches='tight')     "
   ]
  },
  {
   "cell_type": "code",
   "execution_count": 82,
   "metadata": {
    "scrolled": true
   },
   "outputs": [
    {
     "data": {
      "image/png": "[encoded data removed]",
      "text/plain": [
       "<Figure size 432x288 with 6 Axes>"
      ]
     },
     "metadata": {},
     "output_type": "display_data"
    }
   ],
   "source": [
    "plot_eval_dict(eval_dict)"
   ]
  },
  {
   "cell_type": "code",
   "execution_count": 27,
   "metadata": {},
   "outputs": [
    {
     "name": "stdout",
     "output_type": "stream",
     "text": [
      "0 -1\n",
      "1 -2\n",
      "2 -3\n"
     ]
    }
   ],
   "source": [
    "for i, j in enumerate([-1,-2,-3]):\n",
    "    print(i, j)"
   ]
  },
  {
   "cell_type": "code",
   "execution_count": 5,
   "metadata": {},
   "outputs": [
    {
     "data": {
      "image/png": "[encoded data removed]",
      "text/plain": [
       "<Figure size 720x360 with 2 Axes>"
      ]
     },
     "metadata": {
      "needs_background": "light"
     },
     "output_type": "display_data"
    }
   ],
   "source": [
    "heat_map_from_df(df=example_df, figsize=(10, 5))"
   ]
  }
 ],
 "metadata": {
  "kernelspec": {
   "display_name": "Python [conda env:torch]",
   "language": "python",
   "name": "conda-env-torch-py"
  },
  "language_info": {
   "codemirror_mode": {
    "name": "ipython",
    "version": 3
   },
   "file_extension": ".py",
   "mimetype": "text/x-python",
   "name": "python",
   "nbconvert_exporter": "python",
   "pygments_lexer": "ipython3",
   "version": "3.7.5"
  }
 },
 "nbformat": 4,
 "nbformat_minor": 2
}
