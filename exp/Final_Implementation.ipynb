{
 "cells": [
  {
   "cell_type": "code",
   "execution_count": 1,
   "metadata": {},
   "outputs": [],
   "source": [
    "import sys\n",
    "sys.path.insert(0, '../src/')\n",
    "\n",
    "import warnings\n",
    "warnings.filterwarnings('ignore')\n",
    "\n",
    "import numpy as np\n",
    "import scipy.sparse as sp\n",
    "from scipy.sparse import load_npz\n",
    "\n",
    "import torch\n",
    "\n",
    "import utils\n",
    "from net import start_experiments"
   ]
  },
  {
   "cell_type": "code",
   "execution_count": 2,
   "metadata": {},
   "outputs": [],
   "source": [
    "_A_obs = load_npz('../data/datasets/CORA_ML.npz')"
   ]
  },
  {
   "cell_type": "code",
   "execution_count": 3,
   "metadata": {},
   "outputs": [],
   "source": [
    "val_share = 0.1\n",
    "test_share = 0.05\n",
    "seed = 481516234\n",
    "\n",
    "train_ones, val_ones, val_zeros, test_ones, test_zeros = utils.train_val_test_split_adjacency(_A_obs, val_share, test_share, seed, undirected=True, connected=True, asserts=False)\n",
    "\n",
    "train_graph = sp.csr_matrix((np.ones(len(train_ones)),(train_ones[:,0], train_ones[:,1])))\n",
    "assert (train_graph.toarray() == train_graph.toarray().T).all()"
   ]
  },
  {
   "cell_type": "code",
   "execution_count": 4,
   "metadata": {
    "scrolled": false
   },
   "outputs": [
    {
     "name": "stdout",
     "output_type": "stream",
     "text": [
      "\n",
      "Experiment_0\n",
      "Step:  9/36, Loss: 6.33558, Edge-Overlap: 0.024\n",
      "Step: 18/36, Loss: 4.30382, Edge-Overlap: 0.259\n",
      "Step: 27/36, Loss: 3.47224, Edge-Overlap: 0.410\n",
      "Step: 36/36, Loss: 3.06890, Edge-Overlap: 0.516\n",
      "\n",
      "Experiment_1\n",
      "Step:  9/36, Loss: 6.40830, Edge-Overlap: 0.024\n",
      "Step: 18/36, Loss: 4.40318, Edge-Overlap: 0.255\n",
      "Step: 27/36, Loss: 3.56162, Edge-Overlap: 0.400\n",
      "Step: 36/36, Loss: 3.13698, Edge-Overlap: 0.500\n",
      "\n",
      "Experiment_2\n",
      "Step:  9/36, Loss: 6.38015, Edge-Overlap: 0.019\n",
      "Step: 18/36, Loss: 4.38033, Edge-Overlap: 0.238\n",
      "Step: 27/36, Loss: 3.48905, Edge-Overlap: 0.404\n",
      "Step: 36/36, Loss: 3.05927, Edge-Overlap: 0.513\n",
      "\n",
      "Experiment_3\n",
      "Step:  9/36, Loss: 6.34400, Edge-Overlap: 0.023\n",
      "Step: 18/36, Loss: 4.34130, Edge-Overlap: 0.249\n",
      "Step: 27/36, Loss: 3.54027, Edge-Overlap: 0.404\n",
      "Step: 36/36, Loss: 3.13242, Edge-Overlap: 0.505\n",
      "\n",
      "Experiment_4\n",
      "Step:  9/36, Loss: 6.34570, Edge-Overlap: 0.024\n",
      "Step: 18/36, Loss: 4.30256, Edge-Overlap: 0.251\n",
      "Step: 27/36, Loss: 3.46119, Edge-Overlap: 0.418\n",
      "Step: 36/36, Loss: 3.05505, Edge-Overlap: 0.515\n"
     ]
    }
   ],
   "source": [
    "models = start_experiments(num_experiments=5,\n",
    "                           experiment_root='../logs/CORA-ML/Ours_test_loss',\n",
    "                           train_graph=train_graph,\n",
    "                           H=9,\n",
    "                           optimizer=torch.optim.Adam,\n",
    "                           optimizer_args={'lr': 0.1,\n",
    "                                           'weight_decay': 1e-7},\n",
    "                           invoke_every=9,\n",
    "                           steps = 36,\n",
    "                           val_edges=(test_ones, test_zeros))"
   ]
  }
 ],
 "metadata": {
  "kernelspec": {
   "display_name": "Python [conda env:torch]",
   "language": "python",
   "name": "conda-env-torch-py"
  },
  "language_info": {
   "codemirror_mode": {
    "name": "ipython",
    "version": 3
   },
   "file_extension": ".py",
   "mimetype": "text/x-python",
   "name": "python",
   "nbconvert_exporter": "python",
   "pygments_lexer": "ipython3",
   "version": "3.6.9"
  }
 },
 "nbformat": 4,
 "nbformat_minor": 2
}
