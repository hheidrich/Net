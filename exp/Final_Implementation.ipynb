{
 "cells": [
  {
   "cell_type": "code",
   "execution_count": 1,
   "metadata": {},
   "outputs": [],
   "source": [
    "import sys\n",
    "sys.path.insert(0, '../src/')\n",
    "\n",
    "import warnings\n",
    "warnings.filterwarnings('ignore')\n",
    "\n",
    "import numpy as np\n",
    "import scipy.sparse as sp\n",
    "from scipy.sparse import load_npz\n",
    "\n",
    "import torch\n",
    "\n",
    "import utils\n",
    "from net import start_experiments"
   ]
  },
  {
   "cell_type": "code",
   "execution_count": 2,
   "metadata": {},
   "outputs": [],
   "source": [
    "_A_obs = load_npz('../data/datasets/CORA_ML.npz')"
   ]
  },
  {
   "cell_type": "code",
   "execution_count": 3,
   "metadata": {},
   "outputs": [],
   "source": [
    "val_share = 0.1\n",
    "test_share = 0.05\n",
    "seed = 481516234\n",
    "\n",
    "train_ones, val_ones, val_zeros, test_ones, test_zeros = utils.train_val_test_split_adjacency(_A_obs, val_share, test_share, seed, undirected=True, connected=True, asserts=False)\n",
    "\n",
    "train_graph = sp.csr_matrix((np.ones(len(train_ones)),(train_ones[:,0], train_ones[:,1])))\n",
    "assert (train_graph.toarray() == train_graph.toarray().T).all()"
   ]
  },
  {
   "cell_type": "code",
   "execution_count": 7,
   "metadata": {
    "scrolled": false
   },
   "outputs": [
    {
     "name": "stdout",
     "output_type": "stream",
     "text": [
      "\n",
      "Experiment_0\n",
      "Step:  2/30, Loss: 7.92112, Edge-Overlap: 0.002\n",
      "Step:  4/30, Loss: 7.64706, Edge-Overlap: 0.003\n",
      "Step:  6/30, Loss: 7.08384, Edge-Overlap: 0.007\n",
      "Step:  8/30, Loss: 6.27957, Edge-Overlap: 0.025\n",
      "Step: 10/30, Loss: 5.42838, Edge-Overlap: 0.089\n",
      "Step: 12/30, Loss: 4.74669, Edge-Overlap: 0.206\n",
      "Step: 14/30, Loss: 4.28199, Edge-Overlap: 0.307\n",
      "Step: 16/30, Loss: 3.93177, Edge-Overlap: 0.375\n",
      "Step: 18/30, Loss: 3.64574, Edge-Overlap: 0.420\n",
      "Step: 20/30, Loss: 3.42129, Edge-Overlap: 0.455\n",
      "Step: 22/30, Loss: 3.24306, Edge-Overlap: 0.502\n",
      "Step: 24/30, Loss: 3.09707, Edge-Overlap: 0.538\n",
      "Step: 26/30, Loss: 2.97350, Edge-Overlap: 0.566\n",
      "Step: 28/30, Loss: 2.87230, Edge-Overlap: 0.595\n",
      "Step: 30/30, Loss: 2.78647, Edge-Overlap: 0.617\n",
      "\n",
      "Experiment_1\n",
      "Step:  2/30, Loss: 7.92331, Edge-Overlap: 0.001\n",
      "Step:  4/30, Loss: 7.65387, Edge-Overlap: 0.002\n",
      "Step:  6/30, Loss: 7.09832, Edge-Overlap: 0.008\n",
      "Step:  8/30, Loss: 6.29560, Edge-Overlap: 0.023\n",
      "Step: 10/30, Loss: 5.43182, Edge-Overlap: 0.090\n",
      "Step: 12/30, Loss: 4.72566, Edge-Overlap: 0.204\n",
      "Step: 14/30, Loss: 4.24388, Edge-Overlap: 0.314\n",
      "Step: 16/30, Loss: 3.89975, Edge-Overlap: 0.380\n",
      "Step: 18/30, Loss: 3.61971, Edge-Overlap: 0.426\n",
      "Step: 20/30, Loss: 3.38986, Edge-Overlap: 0.460\n",
      "Step: 22/30, Loss: 3.21996, Edge-Overlap: 0.499\n",
      "Step: 24/30, Loss: 3.07479, Edge-Overlap: 0.534\n",
      "Step: 26/30, Loss: 2.95166, Edge-Overlap: 0.572\n",
      "Step: 28/30, Loss: 2.85016, Edge-Overlap: 0.592\n",
      "Step: 30/30, Loss: 2.76333, Edge-Overlap: 0.621\n",
      "\n",
      "Experiment_2\n",
      "Step:  2/30, Loss: 7.92254, Edge-Overlap: 0.003\n",
      "Step:  4/30, Loss: 7.65092, Edge-Overlap: 0.003\n",
      "Step:  6/30, Loss: 7.09178, Edge-Overlap: 0.008\n",
      "Step:  8/30, Loss: 6.29006, Edge-Overlap: 0.022\n",
      "Step: 10/30, Loss: 5.44537, Edge-Overlap: 0.088\n",
      "Step: 12/30, Loss: 4.77144, Edge-Overlap: 0.210\n",
      "Step: 14/30, Loss: 4.30709, Edge-Overlap: 0.309\n",
      "Step: 16/30, Loss: 3.94815, Edge-Overlap: 0.362\n",
      "Step: 18/30, Loss: 3.66204, Edge-Overlap: 0.413\n",
      "Step: 20/30, Loss: 3.43320, Edge-Overlap: 0.448\n",
      "Step: 22/30, Loss: 3.25268, Edge-Overlap: 0.500\n",
      "Step: 24/30, Loss: 3.10532, Edge-Overlap: 0.534\n",
      "Step: 26/30, Loss: 2.98010, Edge-Overlap: 0.567\n",
      "Step: 28/30, Loss: 2.87793, Edge-Overlap: 0.592\n",
      "Step: 30/30, Loss: 2.79169, Edge-Overlap: 0.618\n",
      "\n",
      "Experiment_3\n",
      "Step:  2/30, Loss: 7.92138, Edge-Overlap: 0.001\n",
      "Step:  4/30, Loss: 7.64218, Edge-Overlap: 0.003\n",
      "Step:  6/30, Loss: 7.06449, Edge-Overlap: 0.007\n",
      "Step:  8/30, Loss: 6.23715, Edge-Overlap: 0.027\n",
      "Step: 10/30, Loss: 5.36255, Edge-Overlap: 0.102\n",
      "Step: 12/30, Loss: 4.67475, Edge-Overlap: 0.224\n",
      "Step: 14/30, Loss: 4.22202, Edge-Overlap: 0.327\n",
      "Step: 16/30, Loss: 3.87935, Edge-Overlap: 0.377\n",
      "Step: 18/30, Loss: 3.59674, Edge-Overlap: 0.417\n",
      "Step: 20/30, Loss: 3.37808, Edge-Overlap: 0.453\n",
      "Step: 22/30, Loss: 3.20330, Edge-Overlap: 0.507\n",
      "Step: 24/30, Loss: 3.05758, Edge-Overlap: 0.535\n",
      "Step: 26/30, Loss: 2.93829, Edge-Overlap: 0.569\n",
      "Step: 28/30, Loss: 2.83495, Edge-Overlap: 0.595\n",
      "Step: 30/30, Loss: 2.74944, Edge-Overlap: 0.622\n",
      "\n",
      "Experiment_4\n",
      "Step:  2/30, Loss: 7.92019, Edge-Overlap: 0.003\n",
      "Step:  4/30, Loss: 7.63825, Edge-Overlap: 0.004\n",
      "Step:  6/30, Loss: 7.05576, Edge-Overlap: 0.009\n",
      "Step:  8/30, Loss: 6.22330, Edge-Overlap: 0.025\n",
      "Step: 10/30, Loss: 5.34656, Edge-Overlap: 0.096\n",
      "Step: 12/30, Loss: 4.66347, Edge-Overlap: 0.207\n",
      "Step: 14/30, Loss: 4.21855, Edge-Overlap: 0.317\n",
      "Step: 16/30, Loss: 3.88039, Edge-Overlap: 0.383\n",
      "Step: 18/30, Loss: 3.59968, Edge-Overlap: 0.416\n",
      "Step: 20/30, Loss: 3.38569, Edge-Overlap: 0.459\n",
      "Step: 22/30, Loss: 3.20960, Edge-Overlap: 0.496\n",
      "Step: 24/30, Loss: 3.06443, Edge-Overlap: 0.536\n",
      "Step: 26/30, Loss: 2.94401, Edge-Overlap: 0.562\n",
      "Step: 28/30, Loss: 2.84179, Edge-Overlap: 0.592\n",
      "Step: 30/30, Loss: 2.75874, Edge-Overlap: 0.621\n"
     ]
    }
   ],
   "source": [
    "models = start_experiments(num_experiments=5,\n",
    "                           experiment_root='../logs/CORA-ML/Ours_test_loss',\n",
    "                           train_graph=train_graph,\n",
    "                           H=12,\n",
    "                           optimizer=torch.optim.Adam,\n",
    "                           optimizer_args={'lr': 0.1,\n",
    "                                           'weight_decay': 1e-7},\n",
    "                           invoke_every=2,\n",
    "                           steps = 30,\n",
    "                           val_edges=(val_ones, val_zeros))"
   ]
  },
  {
   "cell_type": "code",
   "execution_count": null,
   "metadata": {},
   "outputs": [],
   "source": []
  }
 ],
 "metadata": {
  "kernelspec": {
   "display_name": "Python [conda env:torch]",
   "language": "python",
   "name": "conda-env-torch-py"
  },
  "language_info": {
   "codemirror_mode": {
    "name": "ipython",
    "version": 3
   },
   "file_extension": ".py",
   "mimetype": "text/x-python",
   "name": "python",
   "nbconvert_exporter": "python",
   "pygments_lexer": "ipython3",
   "version": "3.6.9"
  }
 },
 "nbformat": 4,
 "nbformat_minor": 2
}
