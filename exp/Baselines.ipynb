{
 "cells": [
  {
   "cell_type": "code",
   "execution_count": 1,
   "metadata": {},
   "outputs": [],
   "source": [
    "import sys\n",
    "sys.path.insert(0, '../src/')\n",
    "import os\n",
    "from pathlib import Path\n",
    "import warnings\n",
    "warnings.filterwarnings('ignore')\n",
    "\n",
    "import time\n",
    "import abc\n",
    "import numpy as np\n",
    "import scipy.sparse as sp\n",
    "from scipy.sparse import load_npz, save_npz\n",
    "\n",
    "import torch\n",
    "\n",
    "import time\n",
    "import pickle\n",
    "\n",
    "import utils"
   ]
  },
  {
   "cell_type": "code",
   "execution_count": 2,
   "metadata": {},
   "outputs": [],
   "source": [
    "_A_obs = load_npz('../data/CORA_ML.npz')"
   ]
  },
  {
   "cell_type": "code",
   "execution_count": 3,
   "metadata": {},
   "outputs": [],
   "source": [
    "val_share = 0.1\n",
    "test_share = 0.05\n",
    "seed = 481516234\n",
    "\n",
    "train_ones, val_ones, val_zeros, test_ones, test_zeros = utils.train_val_test_split_adjacency(_A_obs, val_share, test_share, seed, undirected=True, connected=True, asserts=False)\n",
    "\n",
    "train_graph = sp.csr_matrix((np.ones(len(train_ones)),(train_ones[:,0], train_ones[:,1])))\n",
    "assert (train_graph.toarray() == train_graph.toarray().T).all()\n",
    "val_edges = (val_ones, val_zeros)"
   ]
  },
  {
   "cell_type": "code",
   "execution_count": 11,
   "metadata": {},
   "outputs": [],
   "source": [
    "class Forge(abc.ABC):\n",
    "    def __init__(self, A, rank):\n",
    "        self.A = A\n",
    "        M = self.transform(A)\n",
    "        M_LR = self._low_rank_approx(M, rank)\n",
    "        A_LR = self.backtransform(M_LR, A)\n",
    "        self.scores_matrix = self._normalize(A_LR)\n",
    "        self.num_edges = A.sum() / 2\n",
    "        \n",
    "    def __call__(self, sample_size, logdir=None, val_edges=(None, None)):\n",
    "        sampled_graphs = []\n",
    "        for experiment in range(sample_size):\n",
    "            start = time.time()\n",
    "            sampled_graph = self._sample()\n",
    "            sampled_graphs.append(sampled_graph)\n",
    "            timing = time.time() - start\n",
    "            if logdir:\n",
    "                self._log(sampled_graph,\n",
    "                          os.path.join(logdir,\n",
    "                                       f'Experiment_{experiment:0{len(str(sample_size))}d}',\n",
    "                                       f'sampled_graphs'),\n",
    "                          timing,\n",
    "                          val_edges=val_edges)\n",
    "        return sampled_graphs\n",
    "    \n",
    "    def _low_rank_approx(self, M, rank):\n",
    "        u, s, vt = sp.linalg.svds(M, k=rank, which='LM')\n",
    "        M_LR = u @ np.diag(s) @ vt\n",
    "        return M_LR\n",
    "    \n",
    "    def _normalize(self, A_LR):\n",
    "        A_LR = np.maximum(A_LR, A_LR.T)\n",
    "        scores_matrix = np.minimum(np.maximum(A_LR, 0), 1)\n",
    "        return scores_matrix\n",
    "    \n",
    "    def _sample(self):\n",
    "        sampled_graph = utils.graph_from_scores(self.scores_matrix, self.num_edges)\n",
    "        return sampled_graph\n",
    "    \n",
    "    def _log(self, sampled_graph, logdir, timing, val_edges=(None, None)):\n",
    "        Path(logdir).mkdir(parents=True, exist_ok=True)\n",
    "        filename = 'graph_1'\n",
    "        save_npz(file=os.path.join(logdir, filename),\n",
    "                 matrix=sampled_graph)\n",
    "        \n",
    "        utils.save_dict({1: timing}, os.path.join(logdir, 'timing.pickle'))\n",
    "        \n",
    "        # compute overlap\n",
    "        overlap = utils.edge_overlap(self.A, sampled_graph) / self.num_edges\n",
    "        utils.save_dict({1: overlap}, os.path.join(logdir, 'overlap.pickle'))\n",
    "        \n",
    "        # evaluate link prediction performance\n",
    "        val_ones, val_zeros = val_edges\n",
    "        if val_ones is not None and val_zeros is not None:\n",
    "            roc_auc, avg_prec = utils.link_prediction_performance(self.scores_matrix,\n",
    "                                                                  val_ones,\n",
    "                                                                  val_zeros)\n",
    "            utils.save_dict({1: roc_auc}, os.path.join(logdir, 'ROC-AUC.pickle'))\n",
    "            utils.save_dict({1: avg_prec}, os.path.join(logdir, 'avg_prec.pickle'))\n",
    "    \n",
    "    @abc.abstractmethod\n",
    "    def transform(self, A):\n",
    "        pass\n",
    "    \n",
    "    @abc.abstractmethod\n",
    "    def backtransform(self, M_LR, A):\n",
    "        pass\n",
    "\n",
    "    \n",
    "class Forge_Adjacency(Forge):\n",
    "    def transform(self, A):\n",
    "        return A\n",
    "    \n",
    "    def backtransform(self, M_LR, A):\n",
    "        return M_LR\n",
    "    \n",
    "    \n",
    "class Forge_Transition(Forge):\n",
    "    def transform(self, A):\n",
    "        return A.multiply(1 / A.sum(axis=-1))\n",
    "    \n",
    "    def backtransform(self, M_LR, A):\n",
    "        M_LR = np.maximum(M_LR, 0)\n",
    "        M_LR = M_LR / np.sum(M_LR, axis=-1, keepdims=True)\n",
    "        scores_matrix = utils.scores_matrix_from_transition_matrix(transition_matrix=M_LR,\n",
    "                                                                   symmetric=True)\n",
    "        return scores_matrix\n",
    "    \n",
    "    def _normalize(self, A_LR):\n",
    "        return A_LR\n",
    "    \n",
    "    \n",
    "class Forge_Modularity(Forge):\n",
    "    def transform(self, A):\n",
    "        degrees = np.array(A.sum(axis=-1))\n",
    "        KKT = degrees @ degrees.T / degrees.sum()\n",
    "        M = A.toarray() - KKT\n",
    "        return M\n",
    "        \n",
    "    def backtransform(self, M_LR, A):\n",
    "        degrees = np.array(A.sum(axis=-1))\n",
    "        KKT = degrees @ degrees.T / degrees.sum()\n",
    "        A_LR = M_LR + KKT\n",
    "        return A_LR\n",
    "    \n",
    "    \n",
    "class Forge_SymmetricLaplacian(Forge):\n",
    "    def transform(self, A):\n",
    "        N = A.shape[0]\n",
    "        degrees_sqrt = np.sqrt(np.array(A.sum(axis=-1)))\n",
    "        degrees_sqrt_inv = 1 / degrees_sqrt\n",
    "        M = sp.identity(N) - A.multiply(degrees_sqrt_inv).multiply(degrees_sqrt_inv.T)\n",
    "        return M\n",
    "    \n",
    "    def backtransform(self, M_LR, A):\n",
    "        N = A.shape[0]\n",
    "        degrees_sqrt = np.sqrt(np.array(A.sum(axis=-1)))\n",
    "        A_LR = np.eye(N) - degrees_sqrt * M_LR * degrees_sqrt.T\n",
    "        return A_LR"
   ]
  },
  {
   "cell_type": "code",
   "execution_count": 15,
   "metadata": {},
   "outputs": [
    {
     "data": {
      "text/plain": [
       "[<2810x2810 sparse matrix of type '<class 'numpy.float64'>'\n",
       " \twith 13566 stored elements in Compressed Sparse Row format>,\n",
       " <2810x2810 sparse matrix of type '<class 'numpy.float64'>'\n",
       " \twith 13566 stored elements in Compressed Sparse Row format>,\n",
       " <2810x2810 sparse matrix of type '<class 'numpy.float64'>'\n",
       " \twith 13566 stored elements in Compressed Sparse Row format>,\n",
       " <2810x2810 sparse matrix of type '<class 'numpy.float64'>'\n",
       " \twith 13566 stored elements in Compressed Sparse Row format>,\n",
       " <2810x2810 sparse matrix of type '<class 'numpy.float64'>'\n",
       " \twith 13566 stored elements in Compressed Sparse Row format>,\n",
       " <2810x2810 sparse matrix of type '<class 'numpy.float64'>'\n",
       " \twith 13566 stored elements in Compressed Sparse Row format>,\n",
       " <2810x2810 sparse matrix of type '<class 'numpy.float64'>'\n",
       " \twith 13566 stored elements in Compressed Sparse Row format>,\n",
       " <2810x2810 sparse matrix of type '<class 'numpy.float64'>'\n",
       " \twith 13566 stored elements in Compressed Sparse Row format>,\n",
       " <2810x2810 sparse matrix of type '<class 'numpy.float64'>'\n",
       " \twith 13566 stored elements in Compressed Sparse Row format>,\n",
       " <2810x2810 sparse matrix of type '<class 'numpy.float64'>'\n",
       " \twith 13566 stored elements in Compressed Sparse Row format>,\n",
       " <2810x2810 sparse matrix of type '<class 'numpy.float64'>'\n",
       " \twith 13566 stored elements in Compressed Sparse Row format>,\n",
       " <2810x2810 sparse matrix of type '<class 'numpy.float64'>'\n",
       " \twith 13566 stored elements in Compressed Sparse Row format>,\n",
       " <2810x2810 sparse matrix of type '<class 'numpy.float64'>'\n",
       " \twith 13566 stored elements in Compressed Sparse Row format>,\n",
       " <2810x2810 sparse matrix of type '<class 'numpy.float64'>'\n",
       " \twith 13566 stored elements in Compressed Sparse Row format>,\n",
       " <2810x2810 sparse matrix of type '<class 'numpy.float64'>'\n",
       " \twith 13566 stored elements in Compressed Sparse Row format>,\n",
       " <2810x2810 sparse matrix of type '<class 'numpy.float64'>'\n",
       " \twith 13566 stored elements in Compressed Sparse Row format>,\n",
       " <2810x2810 sparse matrix of type '<class 'numpy.float64'>'\n",
       " \twith 13566 stored elements in Compressed Sparse Row format>,\n",
       " <2810x2810 sparse matrix of type '<class 'numpy.float64'>'\n",
       " \twith 13566 stored elements in Compressed Sparse Row format>,\n",
       " <2810x2810 sparse matrix of type '<class 'numpy.float64'>'\n",
       " \twith 13566 stored elements in Compressed Sparse Row format>,\n",
       " <2810x2810 sparse matrix of type '<class 'numpy.float64'>'\n",
       " \twith 13566 stored elements in Compressed Sparse Row format>]"
      ]
     },
     "execution_count": 15,
     "metadata": {},
     "output_type": "execute_result"
    }
   ],
   "source": [
    "fa = Forge_Adjacency(A=train_graph, rank=1600)\n",
    "fa(sample_size=20,\n",
    "   logdir='../logs/CORA-ML/baseline_FA',\n",
    "   val_edges=val_edges)"
   ]
  },
  {
   "cell_type": "code",
   "execution_count": 16,
   "metadata": {},
   "outputs": [
    {
     "data": {
      "text/plain": [
       "[<2810x2810 sparse matrix of type '<class 'numpy.float64'>'\n",
       " \twith 13566 stored elements in Compressed Sparse Row format>,\n",
       " <2810x2810 sparse matrix of type '<class 'numpy.float64'>'\n",
       " \twith 13566 stored elements in Compressed Sparse Row format>,\n",
       " <2810x2810 sparse matrix of type '<class 'numpy.float64'>'\n",
       " \twith 13566 stored elements in Compressed Sparse Row format>,\n",
       " <2810x2810 sparse matrix of type '<class 'numpy.float64'>'\n",
       " \twith 13566 stored elements in Compressed Sparse Row format>,\n",
       " <2810x2810 sparse matrix of type '<class 'numpy.float64'>'\n",
       " \twith 13566 stored elements in Compressed Sparse Row format>,\n",
       " <2810x2810 sparse matrix of type '<class 'numpy.float64'>'\n",
       " \twith 13566 stored elements in Compressed Sparse Row format>,\n",
       " <2810x2810 sparse matrix of type '<class 'numpy.float64'>'\n",
       " \twith 13566 stored elements in Compressed Sparse Row format>,\n",
       " <2810x2810 sparse matrix of type '<class 'numpy.float64'>'\n",
       " \twith 13566 stored elements in Compressed Sparse Row format>,\n",
       " <2810x2810 sparse matrix of type '<class 'numpy.float64'>'\n",
       " \twith 13566 stored elements in Compressed Sparse Row format>,\n",
       " <2810x2810 sparse matrix of type '<class 'numpy.float64'>'\n",
       " \twith 13566 stored elements in Compressed Sparse Row format>,\n",
       " <2810x2810 sparse matrix of type '<class 'numpy.float64'>'\n",
       " \twith 13566 stored elements in Compressed Sparse Row format>,\n",
       " <2810x2810 sparse matrix of type '<class 'numpy.float64'>'\n",
       " \twith 13566 stored elements in Compressed Sparse Row format>,\n",
       " <2810x2810 sparse matrix of type '<class 'numpy.float64'>'\n",
       " \twith 13566 stored elements in Compressed Sparse Row format>,\n",
       " <2810x2810 sparse matrix of type '<class 'numpy.float64'>'\n",
       " \twith 13566 stored elements in Compressed Sparse Row format>,\n",
       " <2810x2810 sparse matrix of type '<class 'numpy.float64'>'\n",
       " \twith 13566 stored elements in Compressed Sparse Row format>,\n",
       " <2810x2810 sparse matrix of type '<class 'numpy.float64'>'\n",
       " \twith 13566 stored elements in Compressed Sparse Row format>,\n",
       " <2810x2810 sparse matrix of type '<class 'numpy.float64'>'\n",
       " \twith 13566 stored elements in Compressed Sparse Row format>,\n",
       " <2810x2810 sparse matrix of type '<class 'numpy.float64'>'\n",
       " \twith 13566 stored elements in Compressed Sparse Row format>,\n",
       " <2810x2810 sparse matrix of type '<class 'numpy.float64'>'\n",
       " \twith 13566 stored elements in Compressed Sparse Row format>,\n",
       " <2810x2810 sparse matrix of type '<class 'numpy.float64'>'\n",
       " \twith 13566 stored elements in Compressed Sparse Row format>]"
      ]
     },
     "execution_count": 16,
     "metadata": {},
     "output_type": "execute_result"
    }
   ],
   "source": [
    "ft = Forge_Transition(A=train_graph, rank=1600)\n",
    "ft(sample_size=20,\n",
    "   logdir='../logs/CORA-ML/baseline_FT',\n",
    "   val_edges=val_edges)"
   ]
  },
  {
   "cell_type": "code",
   "execution_count": 7,
   "metadata": {},
   "outputs": [
    {
     "data": {
      "text/plain": [
       "[<2810x2810 sparse matrix of type '<class 'numpy.float64'>'\n",
       " \twith 27132 stored elements in Compressed Sparse Row format>,\n",
       " <2810x2810 sparse matrix of type '<class 'numpy.float64'>'\n",
       " \twith 27132 stored elements in Compressed Sparse Row format>]"
      ]
     },
     "execution_count": 7,
     "metadata": {},
     "output_type": "execute_result"
    }
   ],
   "source": [
    "fa = Forge_Modularity(A=train_graph, rank=10)\n",
    "fa(sample_size=20)"
   ]
  },
  {
   "cell_type": "code",
   "execution_count": 8,
   "metadata": {},
   "outputs": [
    {
     "data": {
      "text/plain": [
       "[<2810x2810 sparse matrix of type '<class 'numpy.float64'>'\n",
       " \twith 27132 stored elements in Compressed Sparse Row format>,\n",
       " <2810x2810 sparse matrix of type '<class 'numpy.float64'>'\n",
       " \twith 27132 stored elements in Compressed Sparse Row format>]"
      ]
     },
     "execution_count": 8,
     "metadata": {},
     "output_type": "execute_result"
    }
   ],
   "source": [
    "fa = Forge_SymmetricLaplacian(A=train_graph, rank=10)\n",
    "fa(sample_size=2)"
   ]
  },
  {
   "cell_type": "code",
   "execution_count": 9,
   "metadata": {},
   "outputs": [],
   "source": [
    "def configuration_model(A, B=None, EO=None):\n",
    "    \"\"\"Given two graphs A and B with same amount of edges, generates new graph by keeping overlapping edges,\n",
    "       and rewiring remaining edges such that degrees of nodes in A are preserved. Self-loops and multiple \n",
    "       edges are removed. If B is None, draws the percentage EO of edges from A.\"\"\"\n",
    "    configuration_graph = sp.csr_matrix(A.shape)\n",
    "    if B is not None:\n",
    "        configuration_graph = A.multiply(B)\n",
    "    else:\n",
    "        B = sp.csr_matrix(sp.triu(A, k=1))\n",
    "        B /= B.sum()\n",
    "        nonzero_ixs = B.nonzero()\n",
    "        edges_from_A = np.random.choice(a=len(nonzero_ixs[0]), size=int(EO * A.sum() / 2), replace=False, \n",
    "                                        p=np.array(B[nonzero_ixs]).flatten())\n",
    "        configuration_graph[nonzero_ixs[0][edges_from_A], nonzero_ixs[1][edges_from_A]] = 1\n",
    "        configuration_graph = configuration_graph + configuration_graph.T\n",
    "    degrees = (np.array(A.sum(axis=-1)) - np.array(configuration_graph.sum(axis=-1))).astype(int).flatten()\n",
    "    stubs = np.zeros(degrees.sum())\n",
    "    counter = 0\n",
    "    for i in degrees.nonzero()[0]:\n",
    "        stubs[counter: counter+degrees[i]] = i * np.ones(degrees[i])\n",
    "        counter += degrees[i]\n",
    "    np.random.shuffle(stubs)\n",
    "    stubs = stubs.reshape(-1, 2).astype(int)\n",
    "    configuration_graph[stubs[:, 0], stubs[:, 1]] = 1\n",
    "    configuration_graph[stubs[:, 1], stubs[:, 0]] = 1  \n",
    "    configuration_graph.setdiag(0)\n",
    "    configuration_graph.eliminate_zeros()\n",
    "    return configuration_graph"
   ]
  },
  {
   "cell_type": "code",
   "execution_count": 10,
   "metadata": {},
   "outputs": [
    {
     "data": {
      "text/plain": [
       "0.5229249594574672"
      ]
     },
     "execution_count": 10,
     "metadata": {},
     "output_type": "execute_result"
    }
   ],
   "source": [
    "sampled_graph = configuration_model(A=train_graph, EO=0.52)\n",
    "2 * utils.edge_overlap(train_graph, sampled_graph) / train_graph.sum()"
   ]
  },
  {
   "cell_type": "code",
   "execution_count": null,
   "metadata": {},
   "outputs": [],
   "source": []
  }
 ],
 "metadata": {
  "kernelspec": {
   "display_name": "Python [conda env:netgan]",
   "language": "python",
   "name": "conda-env-netgan-py"
  },
  "language_info": {
   "codemirror_mode": {
    "name": "ipython",
    "version": 3
   },
   "file_extension": ".py",
   "mimetype": "text/x-python",
   "name": "python",
   "nbconvert_exporter": "python",
   "pygments_lexer": "ipython3",
   "version": "3.6.9"
  }
 },
 "nbformat": 4,
 "nbformat_minor": 2
}
