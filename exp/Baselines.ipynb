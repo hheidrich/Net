{
 "cells": [
  {
   "cell_type": "code",
   "execution_count": 1,
   "metadata": {},
   "outputs": [],
   "source": [
    "import sys\n",
    "from scipy.sparse import load_npz, save_npz\n",
    "sys.path.insert(0, '../src/')\n",
    "\n",
    "import warnings\n",
    "warnings.filterwarnings('ignore')\n",
    "\n",
    "import numpy as np\n",
    "import scipy.sparse as sp\n",
    "\n",
    "import utils\n",
    "from baselines import (Forge_Adjacency, Forge_Modularity, Forge_SymmetricLaplacian, Forge_Transition,\n",
    "                       train_and_log_multiple_conf_models)"
   ]
  },
  {
   "cell_type": "code",
   "execution_count": 2,
   "metadata": {},
   "outputs": [],
   "source": [
    "_A_obs = load_npz('../data/datasets/CORA_ML.npz')"
   ]
  },
  {
   "cell_type": "code",
   "execution_count": 3,
   "metadata": {},
   "outputs": [],
   "source": [
    "val_share = 0.1\n",
    "test_share = 0.05\n",
    "seed = 481516234\n",
    "\n",
    "train_ones, val_ones, val_zeros, test_ones, test_zeros = utils.train_val_test_split_adjacency(_A_obs, val_share, test_share, seed, undirected=True, connected=True, asserts=False)\n",
    "\n",
    "train_graph = sp.csr_matrix((np.ones(len(train_ones)),(train_ones[:,0], train_ones[:,1])))\n",
    "assert (train_graph.toarray() == train_graph.toarray().T).all()\n",
    "val_edges = (val_ones, val_zeros)"
   ]
  },
  {
   "cell_type": "markdown",
   "metadata": {},
   "source": [
    "## Forge Framework"
   ]
  },
  {
   "cell_type": "code",
   "execution_count": 4,
   "metadata": {},
   "outputs": [],
   "source": [
    "fa = Forge_Adjacency(A=train_graph, rank=1600)\n",
    "graphs_fa = fa(sample_size=5,\n",
    "               logdir='../logs/CORA-ML/baseline_FA',\n",
    "               val_edges=val_edges)"
   ]
  },
  {
   "cell_type": "code",
   "execution_count": 5,
   "metadata": {},
   "outputs": [],
   "source": [
    "ft = Forge_Transition(A=train_graph, rank=1600)\n",
    "graphs_ft = ft(sample_size=5,\n",
    "               logdir='../logs/CORA-ML/baseline_FT',\n",
    "               val_edges=val_edges)"
   ]
  },
  {
   "cell_type": "code",
   "execution_count": 6,
   "metadata": {},
   "outputs": [],
   "source": [
    "fm = Forge_Modularity(A=train_graph, rank=1600)\n",
    "graphs_fm = fm(sample_size=5,\n",
    "               logdir='../logs/CORA-ML/baseline_FM',\n",
    "               val_edges=val_edges)"
   ]
  },
  {
   "cell_type": "code",
   "execution_count": 8,
   "metadata": {},
   "outputs": [],
   "source": [
    "fs = Forge_SymmetricLaplacian(A=train_graph, rank=2500)\n",
    "graphs_fs = fs(sample_size=5,\n",
    "               logdir='../logs/CORA-ML/baseline_FS',\n",
    "               val_edges=val_edges)"
   ]
  },
  {
   "cell_type": "markdown",
   "metadata": {},
   "source": [
    "## Configuration Model"
   ]
  },
  {
   "cell_type": "code",
   "execution_count": 9,
   "metadata": {},
   "outputs": [],
   "source": [
    "train_and_log_multiple_conf_models(logdir='../logs/CORA-ML/baseline_conf/',\n",
    "                                   A=train_graph,\n",
    "                                   EOs=[0.3, 0.5, 0.7],\n",
    "                                   experiments_per_EO=20)"
   ]
  }
 ],
 "metadata": {
  "kernelspec": {
   "display_name": "Python [conda env:torch]",
   "language": "python",
   "name": "conda-env-torch-py"
  },
  "language_info": {
   "codemirror_mode": {
    "name": "ipython",
    "version": 3
   },
   "file_extension": ".py",
   "mimetype": "text/x-python",
   "name": "python",
   "nbconvert_exporter": "python",
   "pygments_lexer": "ipython3",
   "version": "3.6.9"
  }
 },
 "nbformat": 4,
 "nbformat_minor": 2
}
