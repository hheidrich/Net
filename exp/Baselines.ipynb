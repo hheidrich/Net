{
 "cells": [
  {
   "cell_type": "code",
   "execution_count": 1,
   "metadata": {},
   "outputs": [],
   "source": [
    "import os\n",
    "import sys\n",
    "sys.path.insert(0, '../src/')\n",
    "\n",
    "import warnings\n",
    "warnings.filterwarnings('ignore')\n",
    "\n",
    "import numpy as np\n",
    "import scipy.sparse as sp\n",
    "from scipy.sparse import load_npz, save_npz\n",
    "\n",
    "import torch\n",
    "\n",
    "import utils\n",
    "from net import start_experiments\n",
    "from baselines import (Forge_Adjacency, Forge_Modularity, Forge_SymmetricLaplacian, Forge_Transition,\n",
    "                       train_and_log_multiple_conf_models, Transition)"
   ]
  },
  {
   "cell_type": "code",
   "execution_count": 2,
   "metadata": {},
   "outputs": [],
   "source": [
    "#logroot = '../logs'\n",
    "logroot = '../rel_error_table'"
   ]
  },
  {
   "cell_type": "code",
   "execution_count": 3,
   "metadata": {},
   "outputs": [],
   "source": [
    "dataset = 'rt_gop'\n",
    "#dataset = 'CORA-ML'\n",
    "_A_obs = load_npz(f'../data/datasets/{dataset}.npz')"
   ]
  },
  {
   "cell_type": "code",
   "execution_count": 4,
   "metadata": {},
   "outputs": [],
   "source": [
    "val_share = 0.1\n",
    "test_share = 0.05\n",
    "seed = 481516234\n",
    "\n",
    "train_ones, val_ones, val_zeros, test_ones, test_zeros = utils.train_val_test_split_adjacency(_A_obs, val_share, test_share, seed, undirected=True, connected=True, asserts=False)\n",
    "\n",
    "train_graph = sp.csr_matrix((np.ones(len(train_ones)),(train_ones[:,0], train_ones[:,1])))\n",
    "assert (train_graph.toarray() == train_graph.toarray().T).all()\n",
    "val_edges = (test_ones, test_zeros)"
   ]
  },
  {
   "cell_type": "markdown",
   "metadata": {},
   "source": [
    "## Forge Framework"
   ]
  },
  {
   "cell_type": "code",
   "execution_count": 5,
   "metadata": {},
   "outputs": [],
   "source": [
    "fa = Forge_Adjacency(A=train_graph, rank=1600)\n",
    "graphs_fa = fa(sample_size=5,\n",
    "               logdir=os.path.join(logroot, dataset, 'baseline_FA'),\n",
    "               val_edges=val_edges)"
   ]
  },
  {
   "cell_type": "code",
   "execution_count": 6,
   "metadata": {},
   "outputs": [],
   "source": [
    "ft = Forge_Transition(A=train_graph, rank=1600)\n",
    "graphs_ft = ft(sample_size=5,\n",
    "               logdir=os.path.join(logroot, dataset, 'baseline_FT'),\n",
    "               val_edges=val_edges)"
   ]
  },
  {
   "cell_type": "code",
   "execution_count": 7,
   "metadata": {},
   "outputs": [],
   "source": [
    "fm = Forge_Modularity(A=train_graph, rank=1600)\n",
    "graphs_fm = fm(sample_size=5,\n",
    "               logdir=os.path.join(logroot, dataset, 'baseline_FM'),\n",
    "               val_edges=val_edges)"
   ]
  },
  {
   "cell_type": "code",
   "execution_count": 8,
   "metadata": {},
   "outputs": [],
   "source": [
    "fs = Forge_SymmetricLaplacian(A=train_graph, rank=2500)\n",
    "graphs_fs = fs(sample_size=5,\n",
    "               logdir=os.path.join(logroot, dataset, 'baseline_FS'),\n",
    "               val_edges=val_edges)"
   ]
  },
  {
   "cell_type": "markdown",
   "metadata": {},
   "source": [
    "## Transition with Cross Entropy"
   ]
  },
  {
   "cell_type": "code",
   "execution_count": 9,
   "metadata": {},
   "outputs": [
    {
     "name": "stdout",
     "output_type": "stream",
     "text": [
      "\n",
      "Experiment_0\n",
      "Step:   5/100, Loss: 8.20919, Edge-Overlap: 0.000\n",
      "Step:  10/100, Loss: 8.00024, Edge-Overlap: 0.001\n",
      "Step:  15/100, Loss: 7.81789, Edge-Overlap: 0.001\n",
      "Step:  20/100, Loss: 7.60926, Edge-Overlap: 0.003\n",
      "Step:  25/100, Loss: 7.36899, Edge-Overlap: 0.003\n",
      "Step:  30/100, Loss: 7.08921, Edge-Overlap: 0.003\n",
      "Step:  35/100, Loss: 6.76065, Edge-Overlap: 0.006\n",
      "Step:  40/100, Loss: 6.38176, Edge-Overlap: 0.012\n",
      "Step:  45/100, Loss: 5.95989, Edge-Overlap: 0.016\n",
      "Step:  50/100, Loss: 5.50552, Edge-Overlap: 0.021\n",
      "Step:  55/100, Loss: 5.03098, Edge-Overlap: 0.038\n",
      "Step:  60/100, Loss: 4.54356, Edge-Overlap: 0.073\n",
      "Step:  65/100, Loss: 4.04784, Edge-Overlap: 0.104\n",
      "Step:  70/100, Loss: 3.56227, Edge-Overlap: 0.160\n",
      "Step:  75/100, Loss: 3.10808, Edge-Overlap: 0.249\n",
      "Step:  80/100, Loss: 2.70426, Edge-Overlap: 0.332\n",
      "Step:  85/100, Loss: 2.37319, Edge-Overlap: 0.463\n",
      "Step:  90/100, Loss: 2.13999, Edge-Overlap: 0.553\n",
      "Step:  95/100, Loss: 2.00640, Edge-Overlap: 0.619\n",
      "Step: 100/100, Loss: 1.93822, Edge-Overlap: 0.663\n",
      "\n",
      "Experiment_1\n",
      "Step:   5/100, Loss: 8.20921, Edge-Overlap: 0.001\n",
      "Step:  10/100, Loss: 8.00038, Edge-Overlap: 0.001\n",
      "Step:  15/100, Loss: 7.81809, Edge-Overlap: 0.002\n",
      "Step:  20/100, Loss: 7.60896, Edge-Overlap: 0.002\n",
      "Step:  25/100, Loss: 7.36772, Edge-Overlap: 0.002\n",
      "Step:  30/100, Loss: 7.08739, Edge-Overlap: 0.004\n",
      "Step:  35/100, Loss: 6.75932, Edge-Overlap: 0.005\n",
      "Step:  40/100, Loss: 6.38108, Edge-Overlap: 0.008\n",
      "Step:  45/100, Loss: 5.96033, Edge-Overlap: 0.016\n",
      "Step:  50/100, Loss: 5.50972, Edge-Overlap: 0.022\n",
      "Step:  55/100, Loss: 5.03774, Edge-Overlap: 0.036\n",
      "Step:  60/100, Loss: 4.54919, Edge-Overlap: 0.059\n",
      "Step:  65/100, Loss: 4.05408, Edge-Overlap: 0.095\n",
      "Step:  70/100, Loss: 3.57124, Edge-Overlap: 0.167\n",
      "Step:  75/100, Loss: 3.11744, Edge-Overlap: 0.243\n",
      "Step:  80/100, Loss: 2.71259, Edge-Overlap: 0.337\n",
      "Step:  85/100, Loss: 2.38682, Edge-Overlap: 0.438\n",
      "Step:  90/100, Loss: 2.15695, Edge-Overlap: 0.543\n",
      "Step:  95/100, Loss: 2.01305, Edge-Overlap: 0.622\n",
      "Step: 100/100, Loss: 1.93809, Edge-Overlap: 0.657\n",
      "\n",
      "Experiment_2\n",
      "Step:   5/100, Loss: 8.20915, Edge-Overlap: 0.001\n",
      "Step:  10/100, Loss: 8.00015, Edge-Overlap: 0.000\n",
      "Step:  15/100, Loss: 7.81783, Edge-Overlap: 0.001\n",
      "Step:  20/100, Loss: 7.60977, Edge-Overlap: 0.002\n",
      "Step:  25/100, Loss: 7.36986, Edge-Overlap: 0.003\n",
      "Step:  30/100, Loss: 7.09013, Edge-Overlap: 0.005\n",
      "Step:  35/100, Loss: 6.76132, Edge-Overlap: 0.006\n",
      "Step:  40/100, Loss: 6.38192, Edge-Overlap: 0.008\n",
      "Step:  45/100, Loss: 5.96141, Edge-Overlap: 0.016\n",
      "Step:  50/100, Loss: 5.51169, Edge-Overlap: 0.022\n",
      "Step:  55/100, Loss: 5.03903, Edge-Overlap: 0.037\n",
      "Step:  60/100, Loss: 4.55040, Edge-Overlap: 0.059\n",
      "Step:  65/100, Loss: 4.05676, Edge-Overlap: 0.101\n",
      "Step:  70/100, Loss: 3.57596, Edge-Overlap: 0.154\n",
      "Step:  75/100, Loss: 3.12155, Edge-Overlap: 0.230\n",
      "Step:  80/100, Loss: 2.70988, Edge-Overlap: 0.346\n",
      "Step:  85/100, Loss: 2.37144, Edge-Overlap: 0.465\n",
      "Step:  90/100, Loss: 2.13547, Edge-Overlap: 0.562\n",
      "Step:  95/100, Loss: 2.00075, Edge-Overlap: 0.638\n",
      "Step: 100/100, Loss: 1.92889, Edge-Overlap: 0.670\n",
      "\n",
      "Experiment_3\n",
      "Step:   5/100, Loss: 8.20922, Edge-Overlap: 0.001\n",
      "Step:  10/100, Loss: 8.00016, Edge-Overlap: 0.001\n",
      "Step:  15/100, Loss: 7.81736, Edge-Overlap: 0.002\n",
      "Step:  20/100, Loss: 7.60811, Edge-Overlap: 0.001\n",
      "Step:  25/100, Loss: 7.36702, Edge-Overlap: 0.001\n",
      "Step:  30/100, Loss: 7.08684, Edge-Overlap: 0.004\n",
      "Step:  35/100, Loss: 6.75862, Edge-Overlap: 0.007\n",
      "Step:  40/100, Loss: 6.37998, Edge-Overlap: 0.009\n",
      "Step:  45/100, Loss: 5.95931, Edge-Overlap: 0.013\n",
      "Step:  50/100, Loss: 5.50992, Edge-Overlap: 0.023\n",
      "Step:  55/100, Loss: 5.04039, Edge-Overlap: 0.038\n",
      "Step:  60/100, Loss: 4.55115, Edge-Overlap: 0.061\n",
      "Step:  65/100, Loss: 4.05170, Edge-Overlap: 0.106\n",
      "Step:  70/100, Loss: 3.56599, Edge-Overlap: 0.165\n",
      "Step:  75/100, Loss: 3.11659, Edge-Overlap: 0.237\n",
      "Step:  80/100, Loss: 2.70986, Edge-Overlap: 0.332\n",
      "Step:  85/100, Loss: 2.37783, Edge-Overlap: 0.451\n",
      "Step:  90/100, Loss: 2.14592, Edge-Overlap: 0.550\n",
      "Step:  95/100, Loss: 2.00716, Edge-Overlap: 0.623\n",
      "Step: 100/100, Loss: 1.93574, Edge-Overlap: 0.663\n",
      "\n",
      "Experiment_4\n",
      "Step:   5/100, Loss: 8.20918, Edge-Overlap: 0.000\n",
      "Step:  10/100, Loss: 8.00015, Edge-Overlap: 0.001\n",
      "Step:  15/100, Loss: 7.81738, Edge-Overlap: 0.002\n",
      "Step:  20/100, Loss: 7.60824, Edge-Overlap: 0.001\n",
      "Step:  25/100, Loss: 7.36779, Edge-Overlap: 0.001\n",
      "Step:  30/100, Loss: 7.08813, Edge-Overlap: 0.005\n",
      "Step:  35/100, Loss: 6.75972, Edge-Overlap: 0.005\n",
      "Step:  40/100, Loss: 6.38184, Edge-Overlap: 0.008\n",
      "Step:  45/100, Loss: 5.96099, Edge-Overlap: 0.017\n",
      "Step:  50/100, Loss: 5.50858, Edge-Overlap: 0.021\n",
      "Step:  55/100, Loss: 5.03421, Edge-Overlap: 0.044\n",
      "Step:  60/100, Loss: 4.54243, Edge-Overlap: 0.059\n",
      "Step:  65/100, Loss: 4.04584, Edge-Overlap: 0.095\n",
      "Step:  70/100, Loss: 3.56344, Edge-Overlap: 0.163\n",
      "Step:  75/100, Loss: 3.10942, Edge-Overlap: 0.237\n",
      "Step:  80/100, Loss: 2.69694, Edge-Overlap: 0.344\n",
      "Step:  85/100, Loss: 2.36395, Edge-Overlap: 0.455\n",
      "Step:  90/100, Loss: 2.13135, Edge-Overlap: 0.555\n",
      "Step:  95/100, Loss: 1.99219, Edge-Overlap: 0.617\n",
      "Step: 100/100, Loss: 1.92079, Edge-Overlap: 0.667\n"
     ]
    }
   ],
   "source": [
    "models = start_experiments(num_experiments=5,\n",
    "                           experiment_root=os.path.join(logroot, dataset, 'baseline_transition_ce_loss'),\n",
    "                           train_graph=train_graph,\n",
    "                           H=950,\n",
    "                           optimizer=torch.optim.Adam,\n",
    "                           optimizer_args={'lr': 0.1,\n",
    "                                           'weight_decay': 1e-7},\n",
    "                           invoke_every=5,\n",
    "                           steps = 100,\n",
    "                           Model=Transition,\n",
    "                           val_edges=(val_ones, val_zeros))"
   ]
  },
  {
   "cell_type": "markdown",
   "metadata": {},
   "source": [
    "## Configuration Model"
   ]
  },
  {
   "cell_type": "code",
   "execution_count": 10,
   "metadata": {},
   "outputs": [],
   "source": [
    "train_and_log_multiple_conf_models(logdir=os.path.join(logroot, dataset, 'baseline_conf'),\n",
    "                                   A=train_graph,\n",
    "                                   EOs=[0.3, 0.5, 0.7],\n",
    "                                   experiments_per_EO=20)"
   ]
  }
 ],
 "metadata": {
  "kernelspec": {
   "display_name": "Python [conda env:netgan]",
   "language": "python",
   "name": "conda-env-netgan-py"
  },
  "language_info": {
   "codemirror_mode": {
    "name": "ipython",
    "version": 3
   },
   "file_extension": ".py",
   "mimetype": "text/x-python",
   "name": "python",
   "nbconvert_exporter": "python",
   "pygments_lexer": "ipython3",
   "version": "3.6.9"
  }
 },
 "nbformat": 4,
 "nbformat_minor": 2
}
