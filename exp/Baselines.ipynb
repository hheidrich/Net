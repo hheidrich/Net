{
 "cells": [
  {
   "cell_type": "code",
   "execution_count": 1,
   "metadata": {},
   "outputs": [],
   "source": [
    "import sys\n",
    "from scipy.sparse import load_npz, save_npz\n",
    "sys.path.insert(0, '../src/')\n",
    "\n",
    "import warnings\n",
    "warnings.filterwarnings('ignore')\n",
    "\n",
    "import numpy as np\n",
    "import scipy.sparse as sp\n",
    "import torch\n",
    "\n",
    "import utils\n",
    "from net import start_experiments\n",
    "from baselines import (Forge_Adjacency, Forge_Modularity, Forge_SymmetricLaplacian, Forge_Transition,\n",
    "                       train_and_log_multiple_conf_models, Transition)"
   ]
  },
  {
   "cell_type": "code",
   "execution_count": 2,
   "metadata": {},
   "outputs": [],
   "source": [
    "_A_obs = load_npz('../data/CORA_ML.npz')"
   ]
  },
  {
   "cell_type": "code",
   "execution_count": 3,
   "metadata": {},
   "outputs": [],
   "source": [
    "val_share = 0.1\n",
    "test_share = 0.05\n",
    "seed = 481516234\n",
    "\n",
    "train_ones, val_ones, val_zeros, test_ones, test_zeros = utils.train_val_test_split_adjacency(_A_obs, val_share, test_share, seed, undirected=True, connected=True, asserts=False)\n",
    "\n",
    "train_graph = sp.csr_matrix((np.ones(len(train_ones)),(train_ones[:,0], train_ones[:,1])))\n",
    "assert (train_graph.toarray() == train_graph.toarray().T).all()\n",
    "val_edges = (val_ones, val_zeros)"
   ]
  },
  {
   "cell_type": "markdown",
   "metadata": {},
   "source": [
    "## Forge Framework"
   ]
  },
  {
   "cell_type": "code",
   "execution_count": 4,
   "metadata": {},
   "outputs": [],
   "source": [
    "fa = Forge_Adjacency(A=train_graph, rank=1600)\n",
    "graphs_fa = fa(sample_size=20,\n",
    "               logdir='../logs/CORA-ML/baseline_FA',\n",
    "               val_edges=val_edges)"
   ]
  },
  {
   "cell_type": "code",
   "execution_count": 5,
   "metadata": {},
   "outputs": [],
   "source": [
    "ft = Forge_Transition(A=train_graph, rank=1600)\n",
    "graphs_ft = ft(sample_size=20,\n",
    "               logdir='../logs/CORA-ML/baseline_FT',\n",
    "               val_edges=val_edges)"
   ]
  },
  {
   "cell_type": "code",
   "execution_count": 6,
   "metadata": {},
   "outputs": [],
   "source": [
    "fm = Forge_Modularity(A=train_graph, rank=1600)\n",
    "graphs_fm = fm(sample_size=20,\n",
    "               logdir='../logs/CORA-ML/baseline_FM',\n",
    "               val_edges=val_edges)"
   ]
  },
  {
   "cell_type": "code",
   "execution_count": 15,
   "metadata": {},
   "outputs": [],
   "source": [
    "fs = Forge_SymmetricLaplacian(A=train_graph, rank=2530)\n",
    "graphs_fs = fs(sample_size=20,\n",
    "               logdir='../logs/CORA-ML/baseline_FS',\n",
    "               val_edges=val_edges)"
   ]
  },
  {
   "cell_type": "markdown",
   "metadata": {},
   "source": [
    "## Transition with Cross Entropy"
   ]
  },
  {
   "cell_type": "code",
   "execution_count": 5,
   "metadata": {},
   "outputs": [
    {
     "name": "stdout",
     "output_type": "stream",
     "text": [
      "\n",
      "Experiment_0\n",
      "Step:   5/100, Loss: 7.72731, Edge-Overlap: 0.002\n",
      "Step:  10/100, Loss: 7.57919, Edge-Overlap: 0.004\n",
      "Step:  15/100, Loss: 7.44946, Edge-Overlap: 0.006\n",
      "Step:  20/100, Loss: 7.23589, Edge-Overlap: 0.008\n",
      "Step:  25/100, Loss: 6.92385, Edge-Overlap: 0.011\n",
      "Step:  30/100, Loss: 6.56970, Edge-Overlap: 0.017\n",
      "Step:  35/100, Loss: 6.21148, Edge-Overlap: 0.020\n",
      "Step:  40/100, Loss: 5.85016, Edge-Overlap: 0.032\n",
      "Step:  45/100, Loss: 5.47775, Edge-Overlap: 0.046\n",
      "Step:  50/100, Loss: 5.09422, Edge-Overlap: 0.069\n",
      "Step:  55/100, Loss: 4.70832, Edge-Overlap: 0.097\n",
      "Step:  60/100, Loss: 4.32631, Edge-Overlap: 0.128\n",
      "Step:  65/100, Loss: 3.95522, Edge-Overlap: 0.192\n",
      "Step:  70/100, Loss: 3.61128, Edge-Overlap: 0.245\n",
      "Step:  75/100, Loss: 3.31622, Edge-Overlap: 0.316\n",
      "Step:  80/100, Loss: 3.09036, Edge-Overlap: 0.397\n",
      "Step:  85/100, Loss: 2.93726, Edge-Overlap: 0.448\n",
      "Step:  90/100, Loss: 2.84310, Edge-Overlap: 0.481\n",
      "Step:  95/100, Loss: 2.78743, Edge-Overlap: 0.501\n",
      "Step: 100/100, Loss: 2.75410, Edge-Overlap: 0.513\n"
     ]
    }
   ],
   "source": [
    "models = start_experiments(num_experiments=5,\n",
    "                           experiment_root='../logs/CORA-ML/baseline_transition_ce_loss',\n",
    "                           train_graph=train_graph,\n",
    "                           H=950,\n",
    "                           optimizer=torch.optim.Adam,\n",
    "                           optimizer_args={'lr': 0.1,\n",
    "                                           'weight_decay': 1e-7},\n",
    "                           invoke_every=5,\n",
    "                           steps = 100,\n",
    "                           Model=Transition,\n",
    "                           val_edges=(val_ones, val_zeros))"
   ]
  },
  {
   "cell_type": "markdown",
   "metadata": {},
   "source": [
    "## Configuration Model"
   ]
  },
  {
   "cell_type": "code",
   "execution_count": 9,
   "metadata": {},
   "outputs": [],
   "source": [
    "train_and_log_multiple_conf_models(logdir='../logs/CORA-ML/baseline_conf/',\n",
    "                                   A=train_graph,\n",
    "                                   EOs=[0.3, 0.5, 0.7],\n",
    "                                   experiments_per_EO=20)"
   ]
  }
 ],
 "metadata": {
  "kernelspec": {
   "display_name": "Python [conda env:netgan]",
   "language": "python",
   "name": "conda-env-netgan-py"
  },
  "language_info": {
   "codemirror_mode": {
    "name": "ipython",
    "version": 3
   },
   "file_extension": ".py",
   "mimetype": "text/x-python",
   "name": "python",
   "nbconvert_exporter": "python",
   "pygments_lexer": "ipython3",
   "version": "3.6.9"
  }
 },
 "nbformat": 4,
 "nbformat_minor": 2
}
