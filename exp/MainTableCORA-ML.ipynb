{
 "cells": [
  {
   "cell_type": "code",
   "execution_count": 1,
   "metadata": {},
   "outputs": [],
   "source": [
    "import sys\n",
    "sys.path.insert(0, '../src/')\n",
    "import warnings\n",
    "warnings.filterwarnings('ignore')\n",
    "import numpy as np\n",
    "import scipy.sparse as sp\n",
    "from scipy.sparse import load_npz\n",
    "import graph_statistics\n",
    "import utils\n",
    "\n",
    "from evaluation import (Evaluation, tabular_from_statistics, df_from_tabular, compute_original_statistics,\n",
    "                        boxplot, df_from_dataset, errorbar_plot)"
   ]
  },
  {
   "cell_type": "markdown",
   "metadata": {},
   "source": [
    "#### True graph"
   ]
  },
  {
   "cell_type": "code",
   "execution_count": 2,
   "metadata": {},
   "outputs": [],
   "source": [
    "_A_obs = load_npz('../data/datasets/CORA_ML.npz')\n",
    "\n",
    "val_share = 0.1\n",
    "test_share = 0.05\n",
    "seed = 481516234\n",
    "\n",
    "train_ones, val_ones, val_zeros, test_ones, test_zeros = utils.train_val_test_split_adjacency(_A_obs, val_share, test_share, seed, undirected=True, connected=True, asserts=False)\n",
    "\n",
    "train_graph = sp.csr_matrix((np.ones(len(train_ones)),(train_ones[:,0], train_ones[:,1])))\n",
    "assert (train_graph.toarray() == train_graph.toarray().T).all()"
   ]
  },
  {
   "cell_type": "markdown",
   "metadata": {},
   "source": [
    "#### Statistic Functions"
   ]
  },
  {
   "cell_type": "code",
   "execution_count": 4,
   "metadata": {},
   "outputs": [],
   "source": [
    "statistic_fns = {'Assortativity':graph_statistics.assortativity,\n",
    "                 #'Average Degree':graph_statistics.average_degree,\n",
    "                 #'Claw Count':graph_statistics.claw_count,\n",
    "                 'Clustering Coefficient':graph_statistics.clustering_coefficient,\n",
    "                 #'Characteristic Path Length':graph_statistics.compute_cpl,\n",
    "#                  'Edge Distribution Entropy':graph_statistics.edge_distribution_entropy,\n",
    "                 #'Gini':graph_statistics.gini,\n",
    "#                   'Intra com.' : intra_community_density,\n",
    "#                   'Inter com.' : inter_community_density,\n",
    "                 #'LCC Size':graph_statistics.LCC,\n",
    "                 'Max Degree':graph_statistics.max_degree,\n",
    "                 #'Min Degree':graph_statistics.min_degree,\n",
    "                 #'Num Connected Components':graph_statistics.num_connected_components,\n",
    "                 'Power Law α':graph_statistics.power_law_alpha,\n",
    "                 'Spectral Gap':graph_statistics.spectral_gap,\n",
    "                 'Square Count':graph_statistics.square_count,\n",
    "                 'Triangle Count':graph_statistics.triangle_count,\n",
    "#                  'Wedge Count':graph_statistics.wedge_count,\n",
    "                 }"
   ]
  },
  {
   "cell_type": "markdown",
   "metadata": {},
   "source": [
    "#### Evaluate "
   ]
  },
  {
   "cell_type": "code",
   "execution_count": 5,
   "metadata": {},
   "outputs": [
    {
     "data": {
      "text/html": [
       "<div>\n",
       "<style scoped>\n",
       "    .dataframe tbody tr th:only-of-type {\n",
       "        vertical-align: middle;\n",
       "    }\n",
       "\n",
       "    .dataframe tbody tr th {\n",
       "        vertical-align: top;\n",
       "    }\n",
       "\n",
       "    .dataframe thead th {\n",
       "        text-align: right;\n",
       "    }\n",
       "</style>\n",
       "<table border=\"1\" class=\"dataframe\">\n",
       "  <thead>\n",
       "    <tr style=\"text-align: right;\">\n",
       "      <th></th>\n",
       "      <th>Assortativity</th>\n",
       "      <th>Clustering Coefficient</th>\n",
       "      <th>Max Degree</th>\n",
       "      <th>Power Law α</th>\n",
       "      <th>Spectral Gap</th>\n",
       "      <th>Square Count</th>\n",
       "      <th>Triangle Count</th>\n",
       "      <th>Edge Overlap (%)</th>\n",
       "      <th>ROC-AUC Score</th>\n",
       "      <th>Average Precision</th>\n",
       "      <th>Time (s)</th>\n",
       "    </tr>\n",
       "  </thead>\n",
       "  <tbody>\n",
       "    <tr>\n",
       "      <th>CORA-ML</th>\n",
       "      <td>-0.076264</td>\n",
       "      <td>0.002771</td>\n",
       "      <td>238.00</td>\n",
       "      <td>1.855065</td>\n",
       "      <td>0.006114</td>\n",
       "      <td>14268.00</td>\n",
       "      <td>2802.00</td>\n",
       "      <td>1.000000</td>\n",
       "      <td>NaN</td>\n",
       "      <td>NaN</td>\n",
       "      <td>NaN</td>\n",
       "    </tr>\n",
       "    <tr>\n",
       "      <th>baseline_FS</th>\n",
       "      <td>-0.084191</td>\n",
       "      <td>0.001622</td>\n",
       "      <td>167.20</td>\n",
       "      <td>1.788639</td>\n",
       "      <td>0.023150</td>\n",
       "      <td>1942.40</td>\n",
       "      <td>691.40</td>\n",
       "      <td>0.520212</td>\n",
       "      <td>0.799069</td>\n",
       "      <td>0.853881</td>\n",
       "      <td>38.14351</td>\n",
       "    </tr>\n",
       "    <tr>\n",
       "      <th>baseline_conf</th>\n",
       "      <td>-0.053171</td>\n",
       "      <td>0.000688</td>\n",
       "      <td>228.25</td>\n",
       "      <td>1.856362</td>\n",
       "      <td>0.061390</td>\n",
       "      <td>3110.95</td>\n",
       "      <td>623.35</td>\n",
       "      <td>0.523411</td>\n",
       "      <td>NaN</td>\n",
       "      <td>NaN</td>\n",
       "      <td>0.10393</td>\n",
       "    </tr>\n",
       "  </tbody>\n",
       "</table>\n",
       "</div>"
      ],
      "text/plain": [
       "               Assortativity  Clustering Coefficient  Max Degree  Power Law α  \\\n",
       "CORA-ML            -0.076264                0.002771      238.00     1.855065   \n",
       "baseline_FS        -0.084191                0.001622      167.20     1.788639   \n",
       "baseline_conf      -0.053171                0.000688      228.25     1.856362   \n",
       "\n",
       "               Spectral Gap  Square Count  Triangle Count  Edge Overlap (%)  \\\n",
       "CORA-ML            0.006114      14268.00         2802.00          1.000000   \n",
       "baseline_FS        0.023150       1942.40          691.40          0.520212   \n",
       "baseline_conf      0.061390       3110.95          623.35          0.523411   \n",
       "\n",
       "               ROC-AUC Score  Average Precision  Time (s)  \n",
       "CORA-ML                  NaN                NaN       NaN  \n",
       "baseline_FS         0.799069           0.853881  38.14351  \n",
       "baseline_conf            NaN                NaN   0.10393  "
      ]
     },
     "execution_count": 5,
     "metadata": {},
     "output_type": "execute_result"
    }
   ],
   "source": [
    "df, evals = df_from_dataset(path_to_dataset='../logs/CORA-ML/',\n",
    "                            statistic_fns=statistic_fns,\n",
    "                            target_overlap=0.50,\n",
    "                            original_graph=train_graph,\n",
    "                            max_trials=None)\n",
    "df"
   ]
  },
  {
   "cell_type": "markdown",
   "metadata": {},
   "source": [
    "#### Plot at selected statistics"
   ]
  },
  {
   "cell_type": "code",
   "execution_count": 6,
   "metadata": {},
   "outputs": [
    {
     "data": {
      "text/html": [
       "<div>\n",
       "<style scoped>\n",
       "    .dataframe tbody tr th:only-of-type {\n",
       "        vertical-align: middle;\n",
       "    }\n",
       "\n",
       "    .dataframe tbody tr th {\n",
       "        vertical-align: top;\n",
       "    }\n",
       "\n",
       "    .dataframe thead th {\n",
       "        text-align: right;\n",
       "    }\n",
       "</style>\n",
       "<table border=\"1\" class=\"dataframe\">\n",
       "  <thead>\n",
       "    <tr style=\"text-align: right;\">\n",
       "      <th></th>\n",
       "      <th>Max Degree</th>\n",
       "      <th>Assortativity</th>\n",
       "      <th>Triangle Count</th>\n",
       "      <th>Square Count</th>\n",
       "      <th>Power Law α</th>\n",
       "      <th>Clustering Coefficient</th>\n",
       "      <th>Spectral Gap</th>\n",
       "      <th>ROC-AUC Score</th>\n",
       "      <th>Time (s)</th>\n",
       "      <th>Edge Overlap (%)</th>\n",
       "    </tr>\n",
       "  </thead>\n",
       "  <tbody>\n",
       "    <tr>\n",
       "      <th>CORA-ML</th>\n",
       "      <td>238.00</td>\n",
       "      <td>-0.076264</td>\n",
       "      <td>2802.00</td>\n",
       "      <td>14268.00</td>\n",
       "      <td>1.855065</td>\n",
       "      <td>0.002771</td>\n",
       "      <td>0.006114</td>\n",
       "      <td>NaN</td>\n",
       "      <td>NaN</td>\n",
       "      <td>1.000000</td>\n",
       "    </tr>\n",
       "    <tr>\n",
       "      <th>baseline_conf</th>\n",
       "      <td>228.25</td>\n",
       "      <td>-0.053171</td>\n",
       "      <td>623.35</td>\n",
       "      <td>3110.95</td>\n",
       "      <td>1.856362</td>\n",
       "      <td>0.000688</td>\n",
       "      <td>0.061390</td>\n",
       "      <td>NaN</td>\n",
       "      <td>0.10393</td>\n",
       "      <td>0.523411</td>\n",
       "    </tr>\n",
       "    <tr>\n",
       "      <th>baseline_FS</th>\n",
       "      <td>167.20</td>\n",
       "      <td>-0.084191</td>\n",
       "      <td>691.40</td>\n",
       "      <td>1942.40</td>\n",
       "      <td>1.788639</td>\n",
       "      <td>0.001622</td>\n",
       "      <td>0.023150</td>\n",
       "      <td>0.799069</td>\n",
       "      <td>38.14351</td>\n",
       "      <td>0.520212</td>\n",
       "    </tr>\n",
       "  </tbody>\n",
       "</table>\n",
       "</div>"
      ],
      "text/plain": [
       "               Max Degree  Assortativity  Triangle Count  Square Count  \\\n",
       "CORA-ML            238.00      -0.076264         2802.00      14268.00   \n",
       "baseline_conf      228.25      -0.053171          623.35       3110.95   \n",
       "baseline_FS        167.20      -0.084191          691.40       1942.40   \n",
       "\n",
       "               Power Law α  Clustering Coefficient  Spectral Gap  \\\n",
       "CORA-ML           1.855065                0.002771      0.006114   \n",
       "baseline_conf     1.856362                0.000688      0.061390   \n",
       "baseline_FS       1.788639                0.001622      0.023150   \n",
       "\n",
       "               ROC-AUC Score  Time (s)  Edge Overlap (%)  \n",
       "CORA-ML                  NaN       NaN          1.000000  \n",
       "baseline_conf            NaN   0.10393          0.523411  \n",
       "baseline_FS         0.799069  38.14351          0.520212  "
      ]
     },
     "execution_count": 6,
     "metadata": {},
     "output_type": "execute_result"
    }
   ],
   "source": [
    "# df_for_paper = df.reindex(['CORA-ML', 'baseline_conf', 'baseline_FA', 'baseline_FT', 'baseline_FS', \n",
    "#                            'baseline_FM',\n",
    "#                            'baseline_NetGAN_sample_many', \n",
    "#                            'Ours'])\n",
    "df_for_paper = df.reindex(['CORA-ML', 'baseline_conf', 'baseline_FS'])\n",
    "df_for_paper[['Max Degree', 'Assortativity', 'Triangle Count', 'Square Count', 'Power Law α', 'Clustering Coefficient',\n",
    "              'Spectral Gap', 'ROC-AUC Score', 'Time (s)', 'Edge Overlap (%)']]"
   ]
  }
 ],
 "metadata": {
  "kernelspec": {
   "display_name": "Python [conda env:torch]",
   "language": "python",
   "name": "conda-env-torch-py"
  },
  "language_info": {
   "codemirror_mode": {
    "name": "ipython",
    "version": 3
   },
   "file_extension": ".py",
   "mimetype": "text/x-python",
   "name": "python",
   "nbconvert_exporter": "python",
   "pygments_lexer": "ipython3",
   "version": "3.6.9"
  }
 },
 "nbformat": 4,
 "nbformat_minor": 2
}
