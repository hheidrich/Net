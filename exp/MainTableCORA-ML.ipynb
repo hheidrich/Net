{
 "cells": [
  {
   "cell_type": "code",
   "execution_count": 1,
   "metadata": {},
   "outputs": [
    {
     "ename": "ModuleNotFoundError",
     "evalue": "No module named 'scipy'",
     "output_type": "error",
     "traceback": [
      "\u001b[0;31m---------------------------------------------------------------------------\u001b[0m",
      "\u001b[0;31mModuleNotFoundError\u001b[0m                       Traceback (most recent call last)",
      "\u001b[0;32m<ipython-input-1-9b03862c6468>\u001b[0m in \u001b[0;36m<module>\u001b[0;34m\u001b[0m\n\u001b[1;32m      4\u001b[0m \u001b[0mwarnings\u001b[0m\u001b[0;34m.\u001b[0m\u001b[0mfilterwarnings\u001b[0m\u001b[0;34m(\u001b[0m\u001b[0;34m'ignore'\u001b[0m\u001b[0;34m)\u001b[0m\u001b[0;34m\u001b[0m\u001b[0;34m\u001b[0m\u001b[0m\n\u001b[1;32m      5\u001b[0m \u001b[0;32mimport\u001b[0m \u001b[0mnumpy\u001b[0m \u001b[0;32mas\u001b[0m \u001b[0mnp\u001b[0m\u001b[0;34m\u001b[0m\u001b[0;34m\u001b[0m\u001b[0m\n\u001b[0;32m----> 6\u001b[0;31m \u001b[0;32mimport\u001b[0m \u001b[0mscipy\u001b[0m\u001b[0;34m.\u001b[0m\u001b[0msparse\u001b[0m \u001b[0;32mas\u001b[0m \u001b[0msp\u001b[0m\u001b[0;34m\u001b[0m\u001b[0;34m\u001b[0m\u001b[0m\n\u001b[0m\u001b[1;32m      7\u001b[0m \u001b[0;32mfrom\u001b[0m \u001b[0mscipy\u001b[0m\u001b[0;34m.\u001b[0m\u001b[0msparse\u001b[0m \u001b[0;32mimport\u001b[0m \u001b[0mload_npz\u001b[0m\u001b[0;34m\u001b[0m\u001b[0;34m\u001b[0m\u001b[0m\n\u001b[1;32m      8\u001b[0m \u001b[0;32mimport\u001b[0m \u001b[0mgraph_statistics\u001b[0m\u001b[0;34m\u001b[0m\u001b[0;34m\u001b[0m\u001b[0m\n",
      "\u001b[0;31mModuleNotFoundError\u001b[0m: No module named 'scipy'"
     ]
    }
   ],
   "source": [
    "import sys\n",
    "sys.path.insert(0, '../src/')\n",
    "import warnings\n",
    "warnings.filterwarnings('ignore')\n",
    "import numpy as np\n",
    "import scipy.sparse as sp\n",
    "from scipy.sparse import load_npz\n",
    "import graph_statistics\n",
    "import utils\n",
    "\n",
    "from evaluation import (Evaluation, tabular_from_statistics, df_from_tabular, compute_original_statistics,\n",
    "                        boxplot, df_from_dataset, errorbar_plot)"
   ]
  },
  {
   "cell_type": "markdown",
   "metadata": {},
   "source": [
    "#### True graph"
   ]
  },
  {
   "cell_type": "code",
   "execution_count": 2,
   "metadata": {},
   "outputs": [],
   "source": [
    "dataset = 'rt_gop'\n",
    "#dataset = 'citeseer'\n",
    "_A_obs = load_npz(f'../data/datasets/{dataset}.npz')\n",
    "\n",
    "val_share = 0.1\n",
    "test_share = 0.05\n",
    "seed = 481516234\n",
    "\n",
    "train_ones, val_ones, val_zeros, test_ones, test_zeros = utils.train_val_test_split_adjacency(_A_obs, val_share, test_share, seed, undirected=True, connected=True, asserts=False)\n",
    "\n",
    "train_graph = sp.csr_matrix((np.ones(len(train_ones)),(train_ones[:,0], train_ones[:,1])))\n",
    "assert (train_graph.toarray() == train_graph.toarray().T).all()"
   ]
  },
  {
   "cell_type": "markdown",
   "metadata": {},
   "source": [
    "#### Statistic Functions"
   ]
  },
  {
   "cell_type": "code",
   "execution_count": 4,
   "metadata": {},
   "outputs": [],
   "source": [
    "statistic_fns = {'Assortativity':graph_statistics.assortativity,\n",
    "                 #'Average Degree':graph_statistics.average_degree,\n",
    "                 #'Claw Count':graph_statistics.claw_count,\n",
    "                 'Clustering Coefficient':graph_statistics.clustering_coefficient,\n",
    "                 'Characteristic Path Length':graph_statistics.compute_cpl,\n",
    "#                  'Edge Distribution Entropy':graph_statistics.edge_distribution_entropy,\n",
    "                 #'Gini':graph_statistics.gini,\n",
    "#                   'Intra com.' : intra_community_density,\n",
    "#                   'Inter com.' : inter_community_density,\n",
    "                 #'LCC Size':graph_statistics.LCC,\n",
    "                 'Max Degree':graph_statistics.max_degree,\n",
    "                 #'Min Degree':graph_statistics.min_degree,\n",
    "                 #'Num Connected Components':graph_statistics.num_connected_components,\n",
    "                 'Power Law α':graph_statistics.power_law_alpha,\n",
    "                 #'Spectral Gap':graph_statistics.spectral_gap,\n",
    "                 'Square Count':graph_statistics.square_count,\n",
    "                 'Triangle Count':graph_statistics.triangle_count,\n",
    "#                  'Wedge Count':graph_statistics.wedge_count,\n",
    "                 }"
   ]
  },
  {
   "cell_type": "markdown",
   "metadata": {},
   "source": [
    "#### Evaluate "
   ]
  },
  {
   "cell_type": "code",
   "execution_count": 5,
   "metadata": {},
   "outputs": [
    {
     "data": {
      "text/html": [
       "<div>\n",
       "<style scoped>\n",
       "    .dataframe tbody tr th:only-of-type {\n",
       "        vertical-align: middle;\n",
       "    }\n",
       "\n",
       "    .dataframe tbody tr th {\n",
       "        vertical-align: top;\n",
       "    }\n",
       "\n",
       "    .dataframe thead th {\n",
       "        text-align: right;\n",
       "    }\n",
       "</style>\n",
       "<table border=\"1\" class=\"dataframe\">\n",
       "  <thead>\n",
       "    <tr style=\"text-align: right;\">\n",
       "      <th></th>\n",
       "      <th>Assortativity</th>\n",
       "      <th>Clustering Coefficient</th>\n",
       "      <th>Max Degree</th>\n",
       "      <th>Power Law α</th>\n",
       "      <th>Spectral Gap</th>\n",
       "      <th>Square Count</th>\n",
       "      <th>Triangle Count</th>\n",
       "      <th>Edge Overlap (%)</th>\n",
       "      <th>ROC-AUC Score</th>\n",
       "      <th>Average Precision</th>\n",
       "      <th>Time (s)</th>\n",
       "    </tr>\n",
       "  </thead>\n",
       "  <tbody>\n",
       "    <tr>\n",
       "      <th>citeseer</th>\n",
       "      <td>-0.014617</td>\n",
       "      <td>0.012596</td>\n",
       "      <td>72.0</td>\n",
       "      <td>2.237941</td>\n",
       "      <td>0.001633</td>\n",
       "      <td>1866.0</td>\n",
       "      <td>483.0</td>\n",
       "      <td>1.000000</td>\n",
       "      <td>NaN</td>\n",
       "      <td>NaN</td>\n",
       "      <td>NaN</td>\n",
       "    </tr>\n",
       "    <tr>\n",
       "      <th>baseline_transition_ce_loss</th>\n",
       "      <td>-0.075784</td>\n",
       "      <td>0.010023</td>\n",
       "      <td>47.2</td>\n",
       "      <td>2.130685</td>\n",
       "      <td>0.012782</td>\n",
       "      <td>548.8</td>\n",
       "      <td>137.6</td>\n",
       "      <td>0.557202</td>\n",
       "      <td>0.902619</td>\n",
       "      <td>0.920768</td>\n",
       "      <td>19.380773</td>\n",
       "    </tr>\n",
       "  </tbody>\n",
       "</table>\n",
       "</div>"
      ],
      "text/plain": [
       "                             Assortativity  Clustering Coefficient  \\\n",
       "citeseer                         -0.014617                0.012596   \n",
       "baseline_transition_ce_loss      -0.075784                0.010023   \n",
       "\n",
       "                             Max Degree  Power Law α  Spectral Gap  \\\n",
       "citeseer                           72.0     2.237941      0.001633   \n",
       "baseline_transition_ce_loss        47.2     2.130685      0.012782   \n",
       "\n",
       "                             Square Count  Triangle Count  Edge Overlap (%)  \\\n",
       "citeseer                           1866.0           483.0          1.000000   \n",
       "baseline_transition_ce_loss         548.8           137.6          0.557202   \n",
       "\n",
       "                             ROC-AUC Score  Average Precision   Time (s)  \n",
       "citeseer                               NaN                NaN        NaN  \n",
       "baseline_transition_ce_loss       0.902619           0.920768  19.380773  "
      ]
     },
     "execution_count": 5,
     "metadata": {},
     "output_type": "execute_result"
    }
   ],
   "source": [
    "df, evals = df_from_dataset(path_to_dataset=f'../rel_error_table/{dataset}/',\n",
    "                            statistic_fns=statistic_fns,\n",
    "                            target_overlap=0.54,\n",
    "                            original_graph=train_graph,\n",
    "                            max_trials=None)\n",
    "df"
   ]
  },
  {
   "cell_type": "markdown",
   "metadata": {},
   "source": [
    "#### Plot at selected statistics"
   ]
  },
  {
   "cell_type": "code",
   "execution_count": 7,
   "metadata": {},
   "outputs": [
    {
     "data": {
      "text/html": [
       "<div>\n",
       "<style scoped>\n",
       "    .dataframe tbody tr th:only-of-type {\n",
       "        vertical-align: middle;\n",
       "    }\n",
       "\n",
       "    .dataframe tbody tr th {\n",
       "        vertical-align: top;\n",
       "    }\n",
       "\n",
       "    .dataframe thead th {\n",
       "        text-align: right;\n",
       "    }\n",
       "</style>\n",
       "<table border=\"1\" class=\"dataframe\">\n",
       "  <thead>\n",
       "    <tr style=\"text-align: right;\">\n",
       "      <th></th>\n",
       "      <th>Max Degree</th>\n",
       "      <th>Assortativity</th>\n",
       "      <th>Triangle Count</th>\n",
       "      <th>Square Count</th>\n",
       "      <th>Power Law α</th>\n",
       "      <th>Clustering Coefficient</th>\n",
       "      <th>Spectral Gap</th>\n",
       "      <th>ROC-AUC Score</th>\n",
       "      <th>Time (s)</th>\n",
       "      <th>Edge Overlap (%)</th>\n",
       "    </tr>\n",
       "  </thead>\n",
       "  <tbody>\n",
       "    <tr>\n",
       "      <th>citeseer</th>\n",
       "      <td>72.0</td>\n",
       "      <td>-0.014617</td>\n",
       "      <td>483.0</td>\n",
       "      <td>1866.0</td>\n",
       "      <td>2.237941</td>\n",
       "      <td>0.012596</td>\n",
       "      <td>0.001633</td>\n",
       "      <td>NaN</td>\n",
       "      <td>NaN</td>\n",
       "      <td>1.000000</td>\n",
       "    </tr>\n",
       "    <tr>\n",
       "      <th>baseline_transition_ce_loss</th>\n",
       "      <td>47.2</td>\n",
       "      <td>-0.075784</td>\n",
       "      <td>137.6</td>\n",
       "      <td>548.8</td>\n",
       "      <td>2.130685</td>\n",
       "      <td>0.010023</td>\n",
       "      <td>0.012782</td>\n",
       "      <td>0.902619</td>\n",
       "      <td>19.380773</td>\n",
       "      <td>0.557202</td>\n",
       "    </tr>\n",
       "  </tbody>\n",
       "</table>\n",
       "</div>"
      ],
      "text/plain": [
       "                             Max Degree  Assortativity  Triangle Count  \\\n",
       "citeseer                           72.0      -0.014617           483.0   \n",
       "baseline_transition_ce_loss        47.2      -0.075784           137.6   \n",
       "\n",
       "                             Square Count  Power Law α  \\\n",
       "citeseer                           1866.0     2.237941   \n",
       "baseline_transition_ce_loss         548.8     2.130685   \n",
       "\n",
       "                             Clustering Coefficient  Spectral Gap  \\\n",
       "citeseer                                   0.012596      0.001633   \n",
       "baseline_transition_ce_loss                0.010023      0.012782   \n",
       "\n",
       "                             ROC-AUC Score   Time (s)  Edge Overlap (%)  \n",
       "citeseer                               NaN        NaN          1.000000  \n",
       "baseline_transition_ce_loss       0.902619  19.380773          0.557202  "
      ]
     },
     "execution_count": 7,
     "metadata": {},
     "output_type": "execute_result"
    }
   ],
   "source": [
    "df[['Max Degree', 'Assortativity', 'Triangle Count', 'Square Count', 'Power Law α', 'Clustering Coefficient',\n",
    "    'Characteristic Path Length', 'ROC-AUC Score', 'Time (s)', 'Edge Overlap (%)']]"
   ]
  },
  {
   "cell_type": "code",
   "execution_count": 6,
   "metadata": {},
   "outputs": [
    {
     "ename": "NameError",
     "evalue": "name 'df_for_paper' is not defined",
     "output_type": "error",
     "traceback": [
      "\u001b[0;31m---------------------------------------------------------------------------\u001b[0m",
      "\u001b[0;31mNameError\u001b[0m                                 Traceback (most recent call last)",
      "\u001b[0;32m<ipython-input-6-bcb8f53172a9>\u001b[0m in \u001b[0;36m<module>\u001b[0;34m\u001b[0m\n\u001b[1;32m      5\u001b[0m \u001b[0;31m#                            'Ours'])\u001b[0m\u001b[0;34m\u001b[0m\u001b[0;34m\u001b[0m\u001b[0;34m\u001b[0m\u001b[0m\n\u001b[1;32m      6\u001b[0m \u001b[0;31m# df_for_paper = df.reindex(['CORA-ML', 'baseline_conf', 'baseline_FS'])\u001b[0m\u001b[0;34m\u001b[0m\u001b[0;34m\u001b[0m\u001b[0;34m\u001b[0m\u001b[0m\n\u001b[0;32m----> 7\u001b[0;31m df_for_paper[['Max Degree', 'Assortativity', 'Triangle Count', 'Square Count', 'Power Law α', 'Clustering Coefficient',\n\u001b[0m\u001b[1;32m      8\u001b[0m               'Spectral Gap', 'ROC-AUC Score', 'Time (s)', 'Edge Overlap (%)']]\n",
      "\u001b[0;31mNameError\u001b[0m: name 'df_for_paper' is not defined"
     ]
    }
   ],
   "source": [
    "df_for_paper = df.reindex(['citeseer', 'baseline_conf', 'baseline_FA', 'baseline_FT', 'baseline_FS', \n",
    "                           'baseline_FM',\n",
    "                           'baseline_transition_ce_loss',\n",
    "                           'baseline_Netgan_sample_many_eo_52', \n",
    "                           'Ours'])\n",
    "# df_for_paper = df.reindex(['CORA-ML', 'baseline_conf', 'baseline_FS'])\n",
    "df_for_paper[['Max Degree', 'Assortativity', 'Triangle Count', 'Square Count', 'Power Law α', 'Clustering Coefficient',\n",
    "              'Spectral Gap', 'ROC-AUC Score', 'Time (s)', 'Edge Overlap (%)']]"
   ]
  }
 ],
 "metadata": {
  "kernelspec": {
   "display_name": "Python [conda env:torch] *",
   "language": "python",
   "name": "conda-env-torch-py"
  },
  "language_info": {
   "codemirror_mode": {
    "name": "ipython",
    "version": 3
   },
   "file_extension": ".py",
   "mimetype": "text/x-python",
   "name": "python",
   "nbconvert_exporter": "python",
   "pygments_lexer": "ipython3",
   "version": "3.7.5"
  }
 },
 "nbformat": 4,
 "nbformat_minor": 2
}
