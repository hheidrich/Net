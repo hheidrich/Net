{
 "cells": [
  {
   "cell_type": "code",
   "execution_count": 2,
   "metadata": {},
   "outputs": [],
   "source": [
    "import sys\n",
    "sys.path.insert(0, '../src/')\n",
    "\n",
    "import warnings\n",
    "warnings.filterwarnings('ignore')\n",
    "\n",
    "import numpy as np\n",
    "import scipy.sparse as sp\n",
    "from scipy.sparse import load_npz\n",
    "import pickle\n",
    "\n",
    "import torch\n",
    "\n",
    "import utils\n",
    "from net import start_experiments\n",
    "import graph_statistics\n",
    "from evaluation import (Evaluation, tabular_from_statistics, df_from_tabular, compute_original_statistics,\n",
    "                        boxplot)"
   ]
  },
  {
   "cell_type": "code",
   "execution_count": 8,
   "metadata": {},
   "outputs": [],
   "source": [
    "train_graph, _ = pickle.load(open('../data/datasets/cycle.p', 'rb'))\n",
    "train_graph = sp.csr_matrix(train_graph)"
   ]
  },
  {
   "cell_type": "code",
   "execution_count": 15,
   "metadata": {},
   "outputs": [],
   "source": [
    "import matplotlib.pyplot as plt\n",
    "def plot_graph(A, Xs):\n",
    "    Is, Js = A.nonzero()\n",
    "    nonzero_indices = np.array((Is, Js)).T\n",
    "    \n",
    "    f, axs = plt.subplots(figsize=(12,12))\n",
    "\n",
    "    for l in range(nonzero_indices.shape[0]):\n",
    "        style = 'ko-'\n",
    "        axs.plot(Xs[nonzero_indices[l], 0], Xs[nonzero_indices[l], 1], style)\n",
    "    plt.show()\n",
    "    return"
   ]
  },
  {
   "cell_type": "code",
   "execution_count": 18,
   "metadata": {},
   "outputs": [
    {
     "name": "stdout",
     "output_type": "stream",
     "text": [
      "\n",
      "Experiment_0\n",
      "Step:   5/100, Loss: 5.37763, Edge-Overlap: 0.040\n",
      "Step:  10/100, Loss: 4.29092, Edge-Overlap: 0.162\n",
      "Step:  15/100, Loss: 3.47571, Edge-Overlap: 0.362\n",
      "Step:  20/100, Loss: 3.02790, Edge-Overlap: 0.527\n",
      "Step:  25/100, Loss: 2.79986, Edge-Overlap: 0.640\n",
      "Step:  30/100, Loss: 2.66195, Edge-Overlap: 0.688\n",
      "Step:  35/100, Loss: 2.55911, Edge-Overlap: 0.743\n",
      "Step:  40/100, Loss: 2.47829, Edge-Overlap: 0.761\n",
      "Step:  45/100, Loss: 2.41430, Edge-Overlap: 0.781\n",
      "Step:  50/100, Loss: 2.36346, Edge-Overlap: 0.802\n",
      "Step:  55/100, Loss: 2.32542, Edge-Overlap: 0.833\n",
      "Step:  60/100, Loss: 2.29933, Edge-Overlap: 0.841\n",
      "Step:  65/100, Loss: 2.27933, Edge-Overlap: 0.851\n",
      "Step:  70/100, Loss: 2.26326, Edge-Overlap: 0.858\n",
      "Step:  75/100, Loss: 2.25028, Edge-Overlap: 0.876\n",
      "Step:  80/100, Loss: 2.24023, Edge-Overlap: 0.891\n",
      "Step:  85/100, Loss: 2.23181, Edge-Overlap: 0.890\n",
      "Step:  90/100, Loss: 2.22469, Edge-Overlap: 0.881\n",
      "Step:  95/100, Loss: 2.21848, Edge-Overlap: 0.902\n",
      "Step: 100/100, Loss: 2.21311, Edge-Overlap: 0.903\n",
      "\n",
      "Experiment_1\n",
      "Step:   5/100, Loss: 5.37581, Edge-Overlap: 0.056\n",
      "Step:  10/100, Loss: 4.23847, Edge-Overlap: 0.151\n",
      "Step:  15/100, Loss: 3.41063, Edge-Overlap: 0.377\n",
      "Step:  20/100, Loss: 3.02689, Edge-Overlap: 0.512\n",
      "Step:  25/100, Loss: 2.79509, Edge-Overlap: 0.620\n",
      "Step:  30/100, Loss: 2.64845, Edge-Overlap: 0.713\n",
      "Step:  35/100, Loss: 2.54171, Edge-Overlap: 0.774\n",
      "Step:  40/100, Loss: 2.46240, Edge-Overlap: 0.775\n",
      "Step:  45/100, Loss: 2.40499, Edge-Overlap: 0.782\n",
      "Step:  50/100, Loss: 2.36215, Edge-Overlap: 0.798\n",
      "Step:  55/100, Loss: 2.32985, Edge-Overlap: 0.818\n",
      "Step:  60/100, Loss: 2.30571, Edge-Overlap: 0.838\n",
      "Step:  65/100, Loss: 2.28722, Edge-Overlap: 0.860\n",
      "Step:  70/100, Loss: 2.27134, Edge-Overlap: 0.868\n",
      "Step:  75/100, Loss: 2.25812, Edge-Overlap: 0.863\n",
      "Step:  80/100, Loss: 2.24693, Edge-Overlap: 0.876\n",
      "Step:  85/100, Loss: 2.23744, Edge-Overlap: 0.880\n",
      "Step:  90/100, Loss: 2.22928, Edge-Overlap: 0.883\n",
      "Step:  95/100, Loss: 2.22226, Edge-Overlap: 0.880\n",
      "Step: 100/100, Loss: 2.21636, Edge-Overlap: 0.891\n",
      "\n",
      "Experiment_2\n",
      "Step:   5/100, Loss: 5.35899, Edge-Overlap: 0.037\n",
      "Step:  10/100, Loss: 4.19329, Edge-Overlap: 0.182\n",
      "Step:  15/100, Loss: 3.35303, Edge-Overlap: 0.407\n",
      "Step:  20/100, Loss: 2.88795, Edge-Overlap: 0.544\n",
      "Step:  25/100, Loss: 2.65226, Edge-Overlap: 0.669\n",
      "Step:  30/100, Loss: 2.52798, Edge-Overlap: 0.751\n",
      "Step:  35/100, Loss: 2.45539, Edge-Overlap: 0.752\n",
      "Step:  40/100, Loss: 2.39455, Edge-Overlap: 0.813\n",
      "Step:  45/100, Loss: 2.35401, Edge-Overlap: 0.817\n",
      "Step:  50/100, Loss: 2.32552, Edge-Overlap: 0.828\n",
      "Step:  55/100, Loss: 2.30329, Edge-Overlap: 0.855\n",
      "Step:  60/100, Loss: 2.28586, Edge-Overlap: 0.861\n",
      "Step:  65/100, Loss: 2.27069, Edge-Overlap: 0.851\n",
      "Step:  70/100, Loss: 2.25818, Edge-Overlap: 0.870\n",
      "Step:  75/100, Loss: 2.24680, Edge-Overlap: 0.861\n",
      "Step:  80/100, Loss: 2.23663, Edge-Overlap: 0.884\n",
      "Step:  85/100, Loss: 2.22760, Edge-Overlap: 0.876\n",
      "Step:  90/100, Loss: 2.21997, Edge-Overlap: 0.887\n",
      "Step:  95/100, Loss: 2.21366, Edge-Overlap: 0.890\n",
      "Step: 100/100, Loss: 2.20856, Edge-Overlap: 0.897\n",
      "\n",
      "Experiment_3\n",
      "Step:   5/100, Loss: 5.39385, Edge-Overlap: 0.048\n",
      "Step:  10/100, Loss: 4.30660, Edge-Overlap: 0.177\n",
      "Step:  15/100, Loss: 3.49004, Edge-Overlap: 0.378\n",
      "Step:  20/100, Loss: 3.05422, Edge-Overlap: 0.488\n",
      "Step:  25/100, Loss: 2.80921, Edge-Overlap: 0.626\n",
      "Step:  30/100, Loss: 2.66517, Edge-Overlap: 0.727\n",
      "Step:  35/100, Loss: 2.56350, Edge-Overlap: 0.740\n",
      "Step:  40/100, Loss: 2.47938, Edge-Overlap: 0.766\n",
      "Step:  45/100, Loss: 2.41689, Edge-Overlap: 0.757\n",
      "Step:  50/100, Loss: 2.36840, Edge-Overlap: 0.792\n",
      "Step:  55/100, Loss: 2.33378, Edge-Overlap: 0.833\n",
      "Step:  60/100, Loss: 2.30865, Edge-Overlap: 0.822\n",
      "Step:  65/100, Loss: 2.28750, Edge-Overlap: 0.856\n",
      "Step:  70/100, Loss: 2.27120, Edge-Overlap: 0.869\n",
      "Step:  75/100, Loss: 2.25772, Edge-Overlap: 0.857\n",
      "Step:  80/100, Loss: 2.24632, Edge-Overlap: 0.872\n",
      "Step:  85/100, Loss: 2.23651, Edge-Overlap: 0.890\n",
      "Step:  90/100, Loss: 2.22776, Edge-Overlap: 0.892\n",
      "Step:  95/100, Loss: 2.21995, Edge-Overlap: 0.887\n",
      "Step: 100/100, Loss: 2.21320, Edge-Overlap: 0.895\n",
      "\n",
      "Experiment_4\n",
      "Step:   5/100, Loss: 5.39219, Edge-Overlap: 0.036\n",
      "Step:  10/100, Loss: 4.31427, Edge-Overlap: 0.163\n",
      "Step:  15/100, Loss: 3.45037, Edge-Overlap: 0.370\n",
      "Step:  20/100, Loss: 2.98312, Edge-Overlap: 0.557\n",
      "Step:  25/100, Loss: 2.74383, Edge-Overlap: 0.676\n",
      "Step:  30/100, Loss: 2.61292, Edge-Overlap: 0.732\n",
      "Step:  35/100, Loss: 2.52121, Edge-Overlap: 0.762\n",
      "Step:  40/100, Loss: 2.44606, Edge-Overlap: 0.788\n",
      "Step:  45/100, Loss: 2.38995, Edge-Overlap: 0.777\n",
      "Step:  50/100, Loss: 2.34581, Edge-Overlap: 0.813\n",
      "Step:  55/100, Loss: 2.31297, Edge-Overlap: 0.836\n",
      "Step:  60/100, Loss: 2.28777, Edge-Overlap: 0.848\n",
      "Step:  65/100, Loss: 2.26890, Edge-Overlap: 0.859\n",
      "Step:  70/100, Loss: 2.25441, Edge-Overlap: 0.880\n",
      "Step:  75/100, Loss: 2.24265, Edge-Overlap: 0.892\n",
      "Step:  80/100, Loss: 2.23309, Edge-Overlap: 0.885\n",
      "Step:  85/100, Loss: 2.22500, Edge-Overlap: 0.890\n",
      "Step:  90/100, Loss: 2.21802, Edge-Overlap: 0.889\n",
      "Step:  95/100, Loss: 2.21205, Edge-Overlap: 0.892\n",
      "Step: 100/100, Loss: 2.20701, Edge-Overlap: 0.904\n"
     ]
    }
   ],
   "source": [
    "models = start_experiments(num_experiments=5,\n",
    "                           experiment_root='../logs/cycle/Ours',\n",
    "                           train_graph=train_graph,\n",
    "                           H=5,\n",
    "                           optimizer=torch.optim.Adam,\n",
    "                           optimizer_args={'lr': 0.1,\n",
    "                                           'weight_decay': 1e-7},\n",
    "                           invoke_every=5,\n",
    "                           steps = 100,\n",
    "                           val_edges=(None, None))"
   ]
  },
  {
   "cell_type": "code",
   "execution_count": null,
   "metadata": {},
   "outputs": [],
   "source": [
    "statistic_fns = {#'Assortativity':graph_statistics.assortativity,\n",
    "                 #'Average Degree':graph_statistics.average_degree,\n",
    "                 'Claw Count':graph_statistics.claw_count,\n",
    "                 #'Clustering Coefficient':graph_statistics.clustering_coefficient,\n",
    "                 #'Characteristic Path Length':graph_statistics.compute_cpl,\n",
    "                 #'Edge Distribution Entropy':graph_statistics.edge_distribution_entropy,\n",
    "                 #'Gini':graph_statistics.gini,\n",
    "                 #'LCC Size':graph_statistics.LCC,\n",
    "                 #'Max Degree':graph_statistics.max_degree,\n",
    "                 #'Min Degree':graph_statistics.min_degree,\n",
    "                 #'Num Connected Components':graph_statistics.num_connected_components,\n",
    "                 #'Power Law α':graph_statistics.power_law_alpha,\n",
    "                 #'Spectral Gap':graph_statistics.spectral_gap,\n",
    "                 'Square Count':graph_statistics.square_count,\n",
    "                 #'Triangle Count':graph_statistics.triangle_count,\n",
    "                 'Wedge Count':graph_statistics.wedge_count,\n",
    "                 }\n",
    "\n",
    "eval_cycle = Evaluation(experiment_root='../logs/cycle/Ours',\n",
    "                       statistic_fns=statistic_fns)"
   ]
  },
  {
   "cell_type": "code",
   "execution_count": 16,
   "metadata": {},
   "outputs": [
    {
     "data": {
      "image/png": "[encoded data removed]",
      "text/plain": [
       "<Figure size 864x864 with 1 Axes>"
      ]
     },
     "metadata": {
      "needs_background": "light"
     },
     "output_type": "display_data"
    }
   ],
   "source": [
    "plot_graph(train_graph, _)"
   ]
  },
  {
   "cell_type": "markdown",
   "metadata": {},
   "source": [
    "## Define new loss function that punishes long non-edges"
   ]
  },
  {
   "cell_type": "code",
   "execution_count": 77,
   "metadata": {},
   "outputs": [],
   "source": [
    "def get_my_loss_fn(SP, lam):\n",
    "    def my_loss_fn(W, A, num_edges):\n",
    "        d = torch.log(torch.exp(W).sum(dim=-1, keepdims=True))\n",
    "        loss = torch.sum((lam * (1-A) * SP - A) * (W - d * torch.ones_like(A)))\n",
    "        loss *= .5 / num_edges\n",
    "        return loss\n",
    "    return my_loss_fn"
   ]
  },
  {
   "cell_type": "code",
   "execution_count": 62,
   "metadata": {},
   "outputs": [],
   "source": [
    "import networkx as nx\n",
    "G = nx.from_scipy_sparse_matrix(train_graph)\n",
    "B = nx.all_pairs_shortest_path_length(G)\n",
    "\n",
    "B_dict = dict(B)\n",
    "\n",
    "SP = np.zeros(train_graph.shape)\n",
    "\n",
    "for start in B_dict.keys():\n",
    "    for target in B_dict[start].keys():\n",
    "        SP[start, target] = B_dict[start][target]"
   ]
  },
  {
   "cell_type": "code",
   "execution_count": 78,
   "metadata": {},
   "outputs": [],
   "source": [
    "my_loss_fn = get_my_loss_fn(SP=SP, lam=0.1)"
   ]
  }
 ],
 "metadata": {
  "kernelspec": {
   "display_name": "Python [conda env:torch]",
   "language": "python",
   "name": "conda-env-torch-py"
  },
  "language_info": {
   "codemirror_mode": {
    "name": "ipython",
    "version": 3
   },
   "file_extension": ".py",
   "mimetype": "text/x-python",
   "name": "python",
   "nbconvert_exporter": "python",
   "pygments_lexer": "ipython3",
   "version": "3.6.9"
  }
 },
 "nbformat": 4,
 "nbformat_minor": 2
}
