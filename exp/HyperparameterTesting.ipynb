{
 "cells": [
  {
   "cell_type": "code",
   "execution_count": 1,
   "metadata": {},
   "outputs": [],
   "source": [
    "import sys\n",
    "sys.path.insert(0, '../src/')\n",
    "\n",
    "import pickle\n",
    "import warnings\n",
    "warnings.filterwarnings('ignore')\n",
    "import time\n",
    "\n",
    "\n",
    "import numpy as np\n",
    "from matplotlib import pyplot as plt\n",
    "import scipy.sparse as sp\n",
    "from sklearn.metrics import roc_auc_score, average_precision_score\n",
    "\n",
    "\n",
    "#from netgan.netgan import *\n",
    "#from netgan import utils\n",
    "\n",
    "from net.utils import *\n",
    "from net import utils_netgan as utils\n",
    "import net.net as net"
   ]
  },
  {
   "cell_type": "code",
   "execution_count": 2,
   "metadata": {},
   "outputs": [],
   "source": [
    "def grid_train(Model, train_graph, val_ones, val_zeros, Hs, EOs, mixing_coeff, \n",
    "               loss_fn, test_every=50, max_steps=2000):\n",
    "    \"\"\"Trains models with specified bottlenecks until specified edge overlaps are achieved and returns their\n",
    "       graph statistics.\n",
    "    \n",
    "    Parameters\n",
    "    ----------\n",
    "    Model: net.Net class\n",
    "               The model class used for training.\n",
    "    train_graph: sparse matrix\n",
    "               The train graph.\n",
    "    val_ones: array\n",
    "               Validation edges in train graph.\n",
    "    val_zeros: array\n",
    "               Validation non-edges in train graph.               \n",
    "    Hs: list\n",
    "               Bottlenecks, for which the model is trained.\n",
    "    EOs: list\n",
    "               Edge overlaps, for which the model is trained.\n",
    "    mixing_coeff: float in [0,1]\n",
    "               Controls contributions of stationary distribution and uniform distribution. 0 is uniform,\n",
    "               1 is stationary.\n",
    "    loss_fn: function\n",
    "               Loss function for the model.\n",
    "    test_every: integer\n",
    "               Controls how often the edge overlap for stopping is tested during training.\n",
    "    max_steps: integer\n",
    "               Maximum number of training steps allowed to achieve the next edge overlap, starting from the\n",
    "               model that achieves previous edge overlap.\n",
    "\n",
    "    Returns\n",
    "    -------\n",
    "    dict_of_dicts_of_statistics: dictionary of dictionaries\n",
    "                   Dictionary, for which value at key [i, j] is dictionary of graph statistics of the \n",
    "                   sampled graph with bottleneck Hs[i] and edge overlap EOs[j].\n",
    "\n",
    "    \"\"\"\n",
    "    \n",
    "    dict_of_dicts_of_statistics = {}\n",
    "    E = train_graph.sum()\n",
    "    actual_labels_val = np.append(np.ones(len(val_ones)), np.zeros(len(val_zeros)))\n",
    "    \n",
    "    counter = 0\n",
    "    total = len(Hs) * len(EOs)\n",
    "    for i, H in enumerate(Hs):\n",
    "        # Define model with H \n",
    "        netmodel = Model(N=train_graph.shape[0],\n",
    "                         H=H,\n",
    "                         affine=False,\n",
    "                         loss_fn=loss_fn,\n",
    "                         stoppers=[net.OverlapStopper(train_graph=train_graph, \n",
    "                                                      mixing_coeff=mixing_coeff,\n",
    "                                                      test_every=test_every)])\n",
    "        train_time = 0\n",
    "        for j, EO in enumerate(EOs):\n",
    "            counter += 1\n",
    "            print('Start training with H={H} and EO={EO} ({counter}/{total})'.format(H=H, EO=EO,\n",
    "                                                                                     counter=counter,\n",
    "                                                                                     total=total))\n",
    "            start_time = time.time()\n",
    "\n",
    "            # Train model until EO is reached, or a maximum of max_steps steps\n",
    "            netmodel.train(generator=net_walker(walker),\n",
    "                           steps=max_steps,\n",
    "                           optimizer_fn=torch.optim.Adam,\n",
    "                           optimizer_args={'lr': 0.01},\n",
    "                           EO_criterion=EO)\n",
    "            \n",
    "            # Build graph\n",
    "            transition_matrix = netmodel(torch.arange(start=0,end=_N, dtype=int))\n",
    "\n",
    "            scores_matrix = scores_matrix_from_transition_matrix(transition_matrix=transition_matrix,\n",
    "                                                                 symmetric=True,\n",
    "                                                                 mixing_coeff=mixing_coeff)\n",
    "            scores_matrix = sp.csr_matrix(scores_matrix)\n",
    "\n",
    "            sampled_graph = utils.graph_from_scores(scores_matrix, train_graph.sum())\n",
    "            \n",
    "            end_time = time.time()\n",
    "            train_time += end_time - start_time\n",
    "            # Compute graph statistics\n",
    "            \n",
    "            statistics = utils.compute_graph_statistics(sampled_graph)\n",
    "            statistics['overlap'] = utils.edge_overlap(train_graph.toarray(), sampled_graph)/E\n",
    "            edge_scores = np.append(scores_matrix[tuple(val_ones.T)].A1, \n",
    "                                    scores_matrix[tuple(val_zeros.T)].A1)\n",
    "            statistics['val_performance'] = (roc_auc_score(actual_labels_val, edge_scores),\n",
    "                                             average_precision_score(actual_labels_val, edge_scores))\n",
    "            statistics['time'] = train_time\n",
    "            \n",
    "            # Test if EO is achieved\n",
    "            if statistics['overlap']>EO:\n",
    "                dict_of_dicts_of_statistics[i, j] = statistics\n",
    "            else:\n",
    "                counter += len(EOs) - j - 1\n",
    "                print(\"Skipped remaining {} EOs\".format(len(EOs) - j - 1))\n",
    "                break\n",
    "            \n",
    "    return dict_of_dicts_of_statistics\n",
    "\n",
    "def make_H_EO_grid_heatplot(dict_of_dicts_of_statistics, Hs, EOs, keys):\n",
    "    \"\"\"X.\n",
    "    \n",
    "    Parameters\n",
    "    ----------\n",
    "    X: X\n",
    "        X       \n",
    "\n",
    "    Returns\n",
    "    -------\n",
    "    X: X\n",
    "        X\n",
    "\n",
    "    \"\"\"    \n",
    "    n_rows, n_cols = get_plot_grid_size(len(keys))\n",
    "    plt.rcParams.update({'font.size': 15})\n",
    "    f, axs = plt.subplots(n_rows, n_cols, figsize=(12, 12))\n",
    "    axs = np.array(axs).reshape(n_rows, n_cols)\n",
    "    plt.tight_layout(pad=3)\n",
    "    for row in range(n_rows):\n",
    "        for col in range(n_cols):\n",
    "            i = row * n_cols + col\n",
    "            if i < len(keys):\n",
    "                key = keys[row * n_cols + col]\n",
    "                vals = np.full((len(Hs), len(EOs)), np.nan)\n",
    "                for index in np.ndindex(len(Hs), len(EOs)):\n",
    "                    if index in dict_of_dicts_of_statistics.keys():\n",
    "                        vals[index] = dict_of_dicts_of_statistics[index][key]\n",
    "                axs[row, col].set_title(key)\n",
    "                im = axs[row, col].imshow(vals.T[::-1]) # Make sure matrix is presented with right orientation\n",
    "                axs[row, col].figure.colorbar(im, ax=axs[row, col])\n",
    "                \n",
    "                axs[row, col].set_xticks(np.arange(len(Hs)))\n",
    "                axs[row, col].set_yticks(np.arange(len(EOs)))\n",
    "                axs[row, col].set_xticklabels(Hs)\n",
    "                axs[row, col].set_yticklabels(EOs[::-1])\n",
    "                axs[row, col].set_xlabel('Bottleneck H')\n",
    "                axs[row, col].set_ylabel('Edge overlap EO')                \n",
    "            else:\n",
    "                axs[row, col].axis('off')\n",
    "    plt.savefig('hyperparameter_grid.pdf', format='pdf')\n",
    "    return"
   ]
  },
  {
   "cell_type": "markdown",
   "metadata": {},
   "source": [
    "## Test dependency of graph parameters on bottleneck H and edge overlap EO "
   ]
  },
  {
   "cell_type": "code",
   "execution_count": 3,
   "metadata": {},
   "outputs": [
    {
     "name": "stdout",
     "output_type": "stream",
     "text": [
      "Selecting 1 largest connected components\n"
     ]
    }
   ],
   "source": [
    "_A_obs, _X_obs, _z_obs = utils.load_npz('../data/cora_ml.npz')\n",
    "_A_obs = _A_obs + _A_obs.T\n",
    "_A_obs[_A_obs > 1] = 1\n",
    "lcc = utils.largest_connected_components(_A_obs)\n",
    "_A_obs = _A_obs[lcc,:][:,lcc]\n",
    "_N = _A_obs.shape[0]\n",
    "\n",
    "val_share = 0.1\n",
    "test_share = 0.05\n",
    "seed = 481516234\n",
    "\n",
    "train_ones, val_ones, val_zeros, test_ones, test_zeros = utils.train_val_test_split_adjacency(_A_obs, val_share, test_share, seed, undirected=True, connected=True, asserts=True)\n",
    "\n",
    "train_graph = sp.coo_matrix((np.ones(len(train_ones)),(train_ones[:,0], train_ones[:,1]))).tocsr()\n",
    "assert (train_graph.toarray() == train_graph.toarray().T).all()"
   ]
  },
  {
   "cell_type": "code",
   "execution_count": 4,
   "metadata": {},
   "outputs": [],
   "source": [
    "rw_len = 16\n",
    "batch_size = 128\n",
    "mixing_coeff = 1\n",
    "walker = utils.RandomWalker(train_graph, rw_len, p=1, q=1, batch_size=batch_size)"
   ]
  },
  {
   "cell_type": "code",
   "execution_count": 5,
   "metadata": {
    "scrolled": true
   },
   "outputs": [
    {
     "name": "stdout",
     "output_type": "stream",
     "text": [
      "Start training with H=20 and EO=0.3 (1/2)\n",
      "Step: 24, Loss: 7.77624, Edge-Overlap: 0.002\n",
      "Step: 49, Loss: 7.30462, Edge-Overlap: 0.003\n",
      "Step: 74, Loss: 6.26861, Edge-Overlap: 0.019\n",
      "Step: 99, Loss: 5.11525, Edge-Overlap: 0.115\n",
      "Step: 124, Loss: 4.14560, Edge-Overlap: 0.226\n",
      "Step: 149, Loss: 3.67699, Edge-Overlap: 0.320\n",
      "Start training with H=20 and EO=0.4 (2/2)\n",
      "Step: 149, Loss: 3.69503, Edge-Overlap: 0.323\n",
      "Step: 174, Loss: 3.44125, Edge-Overlap: 0.355\n",
      "Step: 199, Loss: 3.17696, Edge-Overlap: 0.418\n"
     ]
    }
   ],
   "source": [
    "Hs = np.arange(1,101)\n",
    "EOs = np.arange(0.05, 1, 0.05)\n",
    "\n",
    "Hs = [20]\n",
    "EOs = [0.3, 0.4]\n",
    "\n",
    "dict_of_dicts_of_statistics = grid_train(Model=net.Net, train_graph=train_graph,\n",
    "                                val_ones=val_ones, val_zeros=val_zeros,\n",
    "                                Hs=Hs, EOs=EOs,\n",
    "                                mixing_coeff=1,\n",
    "                                loss_fn=torch.nn.functional.cross_entropy,\n",
    "                                test_every=25,\n",
    "                                max_steps=1500) "
   ]
  },
  {
   "cell_type": "code",
   "execution_count": 6,
   "metadata": {},
   "outputs": [],
   "source": [
    "pickle.dump( dict_of_dicts_of_statistics, open( \"dict.p\", \"wb\" ) )\n",
    "pickle.dump( Hs, open( \"Hs.p\", \"wb\" ) )\n",
    "pickle.dump( EOs, open( \"EOs.p\", \"wb\" ) )"
   ]
  },
  {
   "cell_type": "code",
   "execution_count": 7,
   "metadata": {},
   "outputs": [],
   "source": [
    "# dict_of_dicts_of_statistics = pickle.load( open( \"dict.p\", \"rb\" ) )\n",
    "# Hs = pickle.load( open( \"Hs.p\", \"rb\" ) )\n",
    "# EOs = pickle.load( open( \"EOs.p\", \"rb\" ) )"
   ]
  },
  {
   "cell_type": "code",
   "execution_count": 8,
   "metadata": {},
   "outputs": [
    {
     "data": {
      "image/png": "[encoded data removed]",
      "text/plain": [
       "<Figure size 864x864 with 11 Axes>"
      ]
     },
     "metadata": {
      "needs_background": "light"
     },
     "output_type": "display_data"
    }
   ],
   "source": [
    "make_H_EO_grid_heatplot(dict_of_dicts_of_statistics=dict_of_dicts_of_statistics, Hs=Hs, EOs=EOs, keys=['overlap', \n",
    "                                                                                     'triangle_count', \n",
    "                                                                                     'assortativity',\n",
    "                                                                                     'time',\n",
    "                                                                                     'square_count'])"
   ]
  }
 ],
 "metadata": {
  "kernelspec": {
   "display_name": "Python [conda env:torch]",
   "language": "python",
   "name": "conda-env-torch-py"
  },
  "language_info": {
   "codemirror_mode": {
    "name": "ipython",
    "version": 3
   },
   "file_extension": ".py",
   "mimetype": "text/x-python",
   "name": "python",
   "nbconvert_exporter": "python",
   "pygments_lexer": "ipython3",
   "version": "3.6.9"
  }
 },
 "nbformat": 4,
 "nbformat_minor": 2
}
